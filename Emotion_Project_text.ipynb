{
  "nbformat": 4,
  "nbformat_minor": 0,
  "metadata": {
    "colab": {
      "name": "Emotion_Project_text.ipynb",
      "provenance": [],
      "collapsed_sections": [
        "SknMQm4N9jZP",
        "ABzYw2szXoPf",
        "tb_mRA80XoPi",
        "Mpr-G0SRXoPl",
        "XnraFmBq81XY",
        "fa77r14T8c_j",
        "4xS9rTosJmmJ",
        "NsuTUibHH1KK"
      ]
    },
    "kernelspec": {
      "name": "python3",
      "display_name": "Python 3"
    },
    "language_info": {
      "name": "python"
    },
    "widgets": {
      "application/vnd.jupyter.widget-state+json": {
        "f104348e04ab4ae6af3b569d9bf19696": {
          "model_module": "@jupyter-widgets/controls",
          "model_name": "HBoxModel",
          "model_module_version": "1.5.0",
          "state": {
            "_view_name": "HBoxView",
            "_dom_classes": [],
            "_model_name": "HBoxModel",
            "_view_module": "@jupyter-widgets/controls",
            "_model_module_version": "1.5.0",
            "_view_count": null,
            "_view_module_version": "1.5.0",
            "box_style": "",
            "layout": "IPY_MODEL_2299090f41454ee4a3a231b5657a1f34",
            "_model_module": "@jupyter-widgets/controls",
            "children": [
              "IPY_MODEL_40daad9afa8147cdad692a87c1a21444",
              "IPY_MODEL_816b0168ef2143ab994be5bb627ef3b5",
              "IPY_MODEL_a19494333c3848a2b0cd799f3dd43705"
            ]
          }
        },
        "2299090f41454ee4a3a231b5657a1f34": {
          "model_module": "@jupyter-widgets/base",
          "model_name": "LayoutModel",
          "model_module_version": "1.2.0",
          "state": {
            "_view_name": "LayoutView",
            "grid_template_rows": null,
            "right": null,
            "justify_content": null,
            "_view_module": "@jupyter-widgets/base",
            "overflow": null,
            "_model_module_version": "1.2.0",
            "_view_count": null,
            "flex_flow": null,
            "width": null,
            "min_width": null,
            "border": null,
            "align_items": null,
            "bottom": null,
            "_model_module": "@jupyter-widgets/base",
            "top": null,
            "grid_column": null,
            "overflow_y": null,
            "overflow_x": null,
            "grid_auto_flow": null,
            "grid_area": null,
            "grid_template_columns": null,
            "flex": null,
            "_model_name": "LayoutModel",
            "justify_items": null,
            "grid_row": null,
            "max_height": null,
            "align_content": null,
            "visibility": null,
            "align_self": null,
            "height": null,
            "min_height": null,
            "padding": null,
            "grid_auto_rows": null,
            "grid_gap": null,
            "max_width": null,
            "order": null,
            "_view_module_version": "1.2.0",
            "grid_template_areas": null,
            "object_position": null,
            "object_fit": null,
            "grid_auto_columns": null,
            "margin": null,
            "display": null,
            "left": null
          }
        },
        "40daad9afa8147cdad692a87c1a21444": {
          "model_module": "@jupyter-widgets/controls",
          "model_name": "HTMLModel",
          "model_module_version": "1.5.0",
          "state": {
            "_view_name": "HTMLView",
            "style": "IPY_MODEL_7c164a40ecb14df4807ffb3d944c99fd",
            "_dom_classes": [],
            "description": "",
            "_model_name": "HTMLModel",
            "placeholder": "​",
            "_view_module": "@jupyter-widgets/controls",
            "_model_module_version": "1.5.0",
            "value": "Batches: 100%",
            "_view_count": null,
            "_view_module_version": "1.5.0",
            "description_tooltip": null,
            "_model_module": "@jupyter-widgets/controls",
            "layout": "IPY_MODEL_0cd2dee57947400f87b41a0fa87cea9a"
          }
        },
        "816b0168ef2143ab994be5bb627ef3b5": {
          "model_module": "@jupyter-widgets/controls",
          "model_name": "FloatProgressModel",
          "model_module_version": "1.5.0",
          "state": {
            "_view_name": "ProgressView",
            "style": "IPY_MODEL_4af3eb3726344b3eb9e7958057f148d1",
            "_dom_classes": [],
            "description": "",
            "_model_name": "FloatProgressModel",
            "bar_style": "success",
            "max": 69,
            "_view_module": "@jupyter-widgets/controls",
            "_model_module_version": "1.5.0",
            "value": 69,
            "_view_count": null,
            "_view_module_version": "1.5.0",
            "orientation": "horizontal",
            "min": 0,
            "description_tooltip": null,
            "_model_module": "@jupyter-widgets/controls",
            "layout": "IPY_MODEL_535def4bb428464cb447ebfc67f443c6"
          }
        },
        "a19494333c3848a2b0cd799f3dd43705": {
          "model_module": "@jupyter-widgets/controls",
          "model_name": "HTMLModel",
          "model_module_version": "1.5.0",
          "state": {
            "_view_name": "HTMLView",
            "style": "IPY_MODEL_3439147981004a31ad9b1b6781d08d60",
            "_dom_classes": [],
            "description": "",
            "_model_name": "HTMLModel",
            "placeholder": "​",
            "_view_module": "@jupyter-widgets/controls",
            "_model_module_version": "1.5.0",
            "value": " 69/69 [02:39&lt;00:00,  1.35it/s]",
            "_view_count": null,
            "_view_module_version": "1.5.0",
            "description_tooltip": null,
            "_model_module": "@jupyter-widgets/controls",
            "layout": "IPY_MODEL_6daa454e07004490abecac11e174d394"
          }
        },
        "7c164a40ecb14df4807ffb3d944c99fd": {
          "model_module": "@jupyter-widgets/controls",
          "model_name": "DescriptionStyleModel",
          "model_module_version": "1.5.0",
          "state": {
            "_view_name": "StyleView",
            "_model_name": "DescriptionStyleModel",
            "description_width": "",
            "_view_module": "@jupyter-widgets/base",
            "_model_module_version": "1.5.0",
            "_view_count": null,
            "_view_module_version": "1.2.0",
            "_model_module": "@jupyter-widgets/controls"
          }
        },
        "0cd2dee57947400f87b41a0fa87cea9a": {
          "model_module": "@jupyter-widgets/base",
          "model_name": "LayoutModel",
          "model_module_version": "1.2.0",
          "state": {
            "_view_name": "LayoutView",
            "grid_template_rows": null,
            "right": null,
            "justify_content": null,
            "_view_module": "@jupyter-widgets/base",
            "overflow": null,
            "_model_module_version": "1.2.0",
            "_view_count": null,
            "flex_flow": null,
            "width": null,
            "min_width": null,
            "border": null,
            "align_items": null,
            "bottom": null,
            "_model_module": "@jupyter-widgets/base",
            "top": null,
            "grid_column": null,
            "overflow_y": null,
            "overflow_x": null,
            "grid_auto_flow": null,
            "grid_area": null,
            "grid_template_columns": null,
            "flex": null,
            "_model_name": "LayoutModel",
            "justify_items": null,
            "grid_row": null,
            "max_height": null,
            "align_content": null,
            "visibility": null,
            "align_self": null,
            "height": null,
            "min_height": null,
            "padding": null,
            "grid_auto_rows": null,
            "grid_gap": null,
            "max_width": null,
            "order": null,
            "_view_module_version": "1.2.0",
            "grid_template_areas": null,
            "object_position": null,
            "object_fit": null,
            "grid_auto_columns": null,
            "margin": null,
            "display": null,
            "left": null
          }
        },
        "4af3eb3726344b3eb9e7958057f148d1": {
          "model_module": "@jupyter-widgets/controls",
          "model_name": "ProgressStyleModel",
          "model_module_version": "1.5.0",
          "state": {
            "_view_name": "StyleView",
            "_model_name": "ProgressStyleModel",
            "description_width": "",
            "_view_module": "@jupyter-widgets/base",
            "_model_module_version": "1.5.0",
            "_view_count": null,
            "_view_module_version": "1.2.0",
            "bar_color": null,
            "_model_module": "@jupyter-widgets/controls"
          }
        },
        "535def4bb428464cb447ebfc67f443c6": {
          "model_module": "@jupyter-widgets/base",
          "model_name": "LayoutModel",
          "model_module_version": "1.2.0",
          "state": {
            "_view_name": "LayoutView",
            "grid_template_rows": null,
            "right": null,
            "justify_content": null,
            "_view_module": "@jupyter-widgets/base",
            "overflow": null,
            "_model_module_version": "1.2.0",
            "_view_count": null,
            "flex_flow": null,
            "width": null,
            "min_width": null,
            "border": null,
            "align_items": null,
            "bottom": null,
            "_model_module": "@jupyter-widgets/base",
            "top": null,
            "grid_column": null,
            "overflow_y": null,
            "overflow_x": null,
            "grid_auto_flow": null,
            "grid_area": null,
            "grid_template_columns": null,
            "flex": null,
            "_model_name": "LayoutModel",
            "justify_items": null,
            "grid_row": null,
            "max_height": null,
            "align_content": null,
            "visibility": null,
            "align_self": null,
            "height": null,
            "min_height": null,
            "padding": null,
            "grid_auto_rows": null,
            "grid_gap": null,
            "max_width": null,
            "order": null,
            "_view_module_version": "1.2.0",
            "grid_template_areas": null,
            "object_position": null,
            "object_fit": null,
            "grid_auto_columns": null,
            "margin": null,
            "display": null,
            "left": null
          }
        },
        "3439147981004a31ad9b1b6781d08d60": {
          "model_module": "@jupyter-widgets/controls",
          "model_name": "DescriptionStyleModel",
          "model_module_version": "1.5.0",
          "state": {
            "_view_name": "StyleView",
            "_model_name": "DescriptionStyleModel",
            "description_width": "",
            "_view_module": "@jupyter-widgets/base",
            "_model_module_version": "1.5.0",
            "_view_count": null,
            "_view_module_version": "1.2.0",
            "_model_module": "@jupyter-widgets/controls"
          }
        },
        "6daa454e07004490abecac11e174d394": {
          "model_module": "@jupyter-widgets/base",
          "model_name": "LayoutModel",
          "model_module_version": "1.2.0",
          "state": {
            "_view_name": "LayoutView",
            "grid_template_rows": null,
            "right": null,
            "justify_content": null,
            "_view_module": "@jupyter-widgets/base",
            "overflow": null,
            "_model_module_version": "1.2.0",
            "_view_count": null,
            "flex_flow": null,
            "width": null,
            "min_width": null,
            "border": null,
            "align_items": null,
            "bottom": null,
            "_model_module": "@jupyter-widgets/base",
            "top": null,
            "grid_column": null,
            "overflow_y": null,
            "overflow_x": null,
            "grid_auto_flow": null,
            "grid_area": null,
            "grid_template_columns": null,
            "flex": null,
            "_model_name": "LayoutModel",
            "justify_items": null,
            "grid_row": null,
            "max_height": null,
            "align_content": null,
            "visibility": null,
            "align_self": null,
            "height": null,
            "min_height": null,
            "padding": null,
            "grid_auto_rows": null,
            "grid_gap": null,
            "max_width": null,
            "order": null,
            "_view_module_version": "1.2.0",
            "grid_template_areas": null,
            "object_position": null,
            "object_fit": null,
            "grid_auto_columns": null,
            "margin": null,
            "display": null,
            "left": null
          }
        }
      }
    }
  },
  "cells": [
    {
      "cell_type": "markdown",
      "source": [
        "## Installations et importations"
      ],
      "metadata": {
        "id": "SknMQm4N9jZP"
      }
    },
    {
      "cell_type": "code",
      "source": [
        "!pip install h5py validators tqdm numpy argparse requests\n",
        "!pip install colorama\n",
        "!pip install pytorch-transformers\n",
        "!pip install tensorboard\n",
        "!pip install transformers\n",
        "!pip install sentence-transformers\n",
        "!pip install spacy==3.0.0\n",
        "!python -m spacy download en_core_web_md "
      ],
      "metadata": {
        "id": "0Dhig5ulkvlz",
        "colab": {
          "base_uri": "https://localhost:8080/",
          "height": 1000
        },
        "outputId": "eb2730ca-3977-4eb2-bac9-fcbc4239b3d0"
      },
      "execution_count": null,
      "outputs": [
        {
          "output_type": "stream",
          "name": "stdout",
          "text": [
            "Requirement already satisfied: h5py in /usr/local/lib/python3.7/dist-packages (3.1.0)\n",
            "Collecting validators\n",
            "  Downloading validators-0.18.2-py3-none-any.whl (19 kB)\n",
            "Requirement already satisfied: tqdm in /usr/local/lib/python3.7/dist-packages (4.62.3)\n",
            "Requirement already satisfied: numpy in /usr/local/lib/python3.7/dist-packages (1.21.5)\n",
            "Collecting argparse\n",
            "  Downloading argparse-1.4.0-py2.py3-none-any.whl (23 kB)\n",
            "Requirement already satisfied: requests in /usr/local/lib/python3.7/dist-packages (2.23.0)\n",
            "Requirement already satisfied: cached-property in /usr/local/lib/python3.7/dist-packages (from h5py) (1.5.2)\n",
            "Requirement already satisfied: six>=1.4.0 in /usr/local/lib/python3.7/dist-packages (from validators) (1.15.0)\n",
            "Requirement already satisfied: decorator>=3.4.0 in /usr/local/lib/python3.7/dist-packages (from validators) (4.4.2)\n",
            "Requirement already satisfied: certifi>=2017.4.17 in /usr/local/lib/python3.7/dist-packages (from requests) (2021.10.8)\n",
            "Requirement already satisfied: urllib3!=1.25.0,!=1.25.1,<1.26,>=1.21.1 in /usr/local/lib/python3.7/dist-packages (from requests) (1.24.3)\n",
            "Requirement already satisfied: chardet<4,>=3.0.2 in /usr/local/lib/python3.7/dist-packages (from requests) (3.0.4)\n",
            "Requirement already satisfied: idna<3,>=2.5 in /usr/local/lib/python3.7/dist-packages (from requests) (2.10)\n",
            "Installing collected packages: validators, argparse\n",
            "Successfully installed argparse-1.4.0 validators-0.18.2\n"
          ]
        },
        {
          "output_type": "display_data",
          "data": {
            "application/vnd.colab-display-data+json": {
              "pip_warning": {
                "packages": [
                  "argparse"
                ]
              }
            }
          },
          "metadata": {}
        },
        {
          "output_type": "stream",
          "name": "stdout",
          "text": [
            "Collecting colorama\n",
            "  Downloading colorama-0.4.4-py2.py3-none-any.whl (16 kB)\n",
            "Installing collected packages: colorama\n",
            "Successfully installed colorama-0.4.4\n",
            "Collecting pytorch-transformers\n",
            "  Downloading pytorch_transformers-1.2.0-py3-none-any.whl (176 kB)\n",
            "\u001b[K     |████████████████████████████████| 176 kB 7.1 MB/s \n",
            "\u001b[?25hRequirement already satisfied: numpy in /usr/local/lib/python3.7/dist-packages (from pytorch-transformers) (1.21.5)\n",
            "Requirement already satisfied: torch>=1.0.0 in /usr/local/lib/python3.7/dist-packages (from pytorch-transformers) (1.10.0+cu111)\n",
            "Requirement already satisfied: regex in /usr/local/lib/python3.7/dist-packages (from pytorch-transformers) (2019.12.20)\n",
            "Requirement already satisfied: requests in /usr/local/lib/python3.7/dist-packages (from pytorch-transformers) (2.23.0)\n",
            "Collecting boto3\n",
            "  Downloading boto3-1.21.8-py3-none-any.whl (132 kB)\n",
            "\u001b[K     |████████████████████████████████| 132 kB 46.2 MB/s \n",
            "\u001b[?25hCollecting sentencepiece\n",
            "  Downloading sentencepiece-0.1.96-cp37-cp37m-manylinux_2_17_x86_64.manylinux2014_x86_64.whl (1.2 MB)\n",
            "\u001b[K     |████████████████████████████████| 1.2 MB 39.5 MB/s \n",
            "\u001b[?25hCollecting sacremoses\n",
            "  Downloading sacremoses-0.0.47-py2.py3-none-any.whl (895 kB)\n",
            "\u001b[K     |████████████████████████████████| 895 kB 40.2 MB/s \n",
            "\u001b[?25hRequirement already satisfied: tqdm in /usr/local/lib/python3.7/dist-packages (from pytorch-transformers) (4.62.3)\n",
            "Requirement already satisfied: typing-extensions in /usr/local/lib/python3.7/dist-packages (from torch>=1.0.0->pytorch-transformers) (3.10.0.2)\n",
            "Collecting botocore<1.25.0,>=1.24.8\n",
            "  Downloading botocore-1.24.8-py3-none-any.whl (8.6 MB)\n",
            "\u001b[K     |████████████████████████████████| 8.6 MB 40.3 MB/s \n",
            "\u001b[?25hCollecting s3transfer<0.6.0,>=0.5.0\n",
            "  Downloading s3transfer-0.5.2-py3-none-any.whl (79 kB)\n",
            "\u001b[K     |████████████████████████████████| 79 kB 7.6 MB/s \n",
            "\u001b[?25hCollecting jmespath<1.0.0,>=0.7.1\n",
            "  Downloading jmespath-0.10.0-py2.py3-none-any.whl (24 kB)\n",
            "Collecting urllib3<1.27,>=1.25.4\n",
            "  Downloading urllib3-1.26.8-py2.py3-none-any.whl (138 kB)\n",
            "\u001b[K     |████████████████████████████████| 138 kB 50.1 MB/s \n",
            "\u001b[?25hRequirement already satisfied: python-dateutil<3.0.0,>=2.1 in /usr/local/lib/python3.7/dist-packages (from botocore<1.25.0,>=1.24.8->boto3->pytorch-transformers) (2.8.2)\n",
            "Requirement already satisfied: six>=1.5 in /usr/local/lib/python3.7/dist-packages (from python-dateutil<3.0.0,>=2.1->botocore<1.25.0,>=1.24.8->boto3->pytorch-transformers) (1.15.0)\n",
            "  Downloading urllib3-1.25.11-py2.py3-none-any.whl (127 kB)\n",
            "\u001b[K     |████████████████████████████████| 127 kB 49.6 MB/s \n",
            "\u001b[?25hRequirement already satisfied: idna<3,>=2.5 in /usr/local/lib/python3.7/dist-packages (from requests->pytorch-transformers) (2.10)\n",
            "Requirement already satisfied: chardet<4,>=3.0.2 in /usr/local/lib/python3.7/dist-packages (from requests->pytorch-transformers) (3.0.4)\n",
            "Requirement already satisfied: certifi>=2017.4.17 in /usr/local/lib/python3.7/dist-packages (from requests->pytorch-transformers) (2021.10.8)\n",
            "Requirement already satisfied: joblib in /usr/local/lib/python3.7/dist-packages (from sacremoses->pytorch-transformers) (1.1.0)\n",
            "Requirement already satisfied: click in /usr/local/lib/python3.7/dist-packages (from sacremoses->pytorch-transformers) (7.1.2)\n",
            "Installing collected packages: urllib3, jmespath, botocore, s3transfer, sentencepiece, sacremoses, boto3, pytorch-transformers\n",
            "  Attempting uninstall: urllib3\n",
            "    Found existing installation: urllib3 1.24.3\n",
            "    Uninstalling urllib3-1.24.3:\n",
            "      Successfully uninstalled urllib3-1.24.3\n",
            "\u001b[31mERROR: pip's dependency resolver does not currently take into account all the packages that are installed. This behaviour is the source of the following dependency conflicts.\n",
            "datascience 0.10.6 requires folium==0.2.1, but you have folium 0.8.3 which is incompatible.\u001b[0m\n",
            "Successfully installed boto3-1.21.8 botocore-1.24.8 jmespath-0.10.0 pytorch-transformers-1.2.0 s3transfer-0.5.2 sacremoses-0.0.47 sentencepiece-0.1.96 urllib3-1.25.11\n",
            "Requirement already satisfied: tensorboard in /usr/local/lib/python3.7/dist-packages (2.8.0)\n",
            "Requirement already satisfied: werkzeug>=0.11.15 in /usr/local/lib/python3.7/dist-packages (from tensorboard) (1.0.1)\n",
            "Requirement already satisfied: markdown>=2.6.8 in /usr/local/lib/python3.7/dist-packages (from tensorboard) (3.3.6)\n",
            "Requirement already satisfied: wheel>=0.26 in /usr/local/lib/python3.7/dist-packages (from tensorboard) (0.37.1)\n",
            "Requirement already satisfied: tensorboard-data-server<0.7.0,>=0.6.0 in /usr/local/lib/python3.7/dist-packages (from tensorboard) (0.6.1)\n",
            "Requirement already satisfied: protobuf>=3.6.0 in /usr/local/lib/python3.7/dist-packages (from tensorboard) (3.17.3)\n",
            "Requirement already satisfied: tensorboard-plugin-wit>=1.6.0 in /usr/local/lib/python3.7/dist-packages (from tensorboard) (1.8.1)\n",
            "Requirement already satisfied: grpcio>=1.24.3 in /usr/local/lib/python3.7/dist-packages (from tensorboard) (1.43.0)\n",
            "Requirement already satisfied: setuptools>=41.0.0 in /usr/local/lib/python3.7/dist-packages (from tensorboard) (57.4.0)\n",
            "Requirement already satisfied: google-auth-oauthlib<0.5,>=0.4.1 in /usr/local/lib/python3.7/dist-packages (from tensorboard) (0.4.6)\n",
            "Requirement already satisfied: absl-py>=0.4 in /usr/local/lib/python3.7/dist-packages (from tensorboard) (1.0.0)\n",
            "Requirement already satisfied: numpy>=1.12.0 in /usr/local/lib/python3.7/dist-packages (from tensorboard) (1.21.5)\n",
            "Requirement already satisfied: google-auth<3,>=1.6.3 in /usr/local/lib/python3.7/dist-packages (from tensorboard) (1.35.0)\n",
            "Requirement already satisfied: requests<3,>=2.21.0 in /usr/local/lib/python3.7/dist-packages (from tensorboard) (2.23.0)\n",
            "Requirement already satisfied: six in /usr/local/lib/python3.7/dist-packages (from absl-py>=0.4->tensorboard) (1.15.0)\n",
            "Requirement already satisfied: pyasn1-modules>=0.2.1 in /usr/local/lib/python3.7/dist-packages (from google-auth<3,>=1.6.3->tensorboard) (0.2.8)\n",
            "Requirement already satisfied: cachetools<5.0,>=2.0.0 in /usr/local/lib/python3.7/dist-packages (from google-auth<3,>=1.6.3->tensorboard) (4.2.4)\n",
            "Requirement already satisfied: rsa<5,>=3.1.4 in /usr/local/lib/python3.7/dist-packages (from google-auth<3,>=1.6.3->tensorboard) (4.8)\n",
            "Requirement already satisfied: requests-oauthlib>=0.7.0 in /usr/local/lib/python3.7/dist-packages (from google-auth-oauthlib<0.5,>=0.4.1->tensorboard) (1.3.1)\n",
            "Requirement already satisfied: importlib-metadata>=4.4 in /usr/local/lib/python3.7/dist-packages (from markdown>=2.6.8->tensorboard) (4.11.1)\n",
            "Requirement already satisfied: typing-extensions>=3.6.4 in /usr/local/lib/python3.7/dist-packages (from importlib-metadata>=4.4->markdown>=2.6.8->tensorboard) (3.10.0.2)\n",
            "Requirement already satisfied: zipp>=0.5 in /usr/local/lib/python3.7/dist-packages (from importlib-metadata>=4.4->markdown>=2.6.8->tensorboard) (3.7.0)\n",
            "Requirement already satisfied: pyasn1<0.5.0,>=0.4.6 in /usr/local/lib/python3.7/dist-packages (from pyasn1-modules>=0.2.1->google-auth<3,>=1.6.3->tensorboard) (0.4.8)\n",
            "Requirement already satisfied: urllib3!=1.25.0,!=1.25.1,<1.26,>=1.21.1 in /usr/local/lib/python3.7/dist-packages (from requests<3,>=2.21.0->tensorboard) (1.25.11)\n",
            "Requirement already satisfied: idna<3,>=2.5 in /usr/local/lib/python3.7/dist-packages (from requests<3,>=2.21.0->tensorboard) (2.10)\n",
            "Requirement already satisfied: chardet<4,>=3.0.2 in /usr/local/lib/python3.7/dist-packages (from requests<3,>=2.21.0->tensorboard) (3.0.4)\n",
            "Requirement already satisfied: certifi>=2017.4.17 in /usr/local/lib/python3.7/dist-packages (from requests<3,>=2.21.0->tensorboard) (2021.10.8)\n",
            "Requirement already satisfied: oauthlib>=3.0.0 in /usr/local/lib/python3.7/dist-packages (from requests-oauthlib>=0.7.0->google-auth-oauthlib<0.5,>=0.4.1->tensorboard) (3.2.0)\n",
            "Collecting transformers\n",
            "  Downloading transformers-4.16.2-py3-none-any.whl (3.5 MB)\n",
            "\u001b[K     |████████████████████████████████| 3.5 MB 5.4 MB/s \n",
            "\u001b[?25hCollecting huggingface-hub<1.0,>=0.1.0\n",
            "  Downloading huggingface_hub-0.4.0-py3-none-any.whl (67 kB)\n",
            "\u001b[K     |████████████████████████████████| 67 kB 4.7 MB/s \n",
            "\u001b[?25hRequirement already satisfied: filelock in /usr/local/lib/python3.7/dist-packages (from transformers) (3.6.0)\n",
            "Requirement already satisfied: importlib-metadata in /usr/local/lib/python3.7/dist-packages (from transformers) (4.11.1)\n",
            "Requirement already satisfied: tqdm>=4.27 in /usr/local/lib/python3.7/dist-packages (from transformers) (4.62.3)\n",
            "Requirement already satisfied: requests in /usr/local/lib/python3.7/dist-packages (from transformers) (2.23.0)\n",
            "Requirement already satisfied: regex!=2019.12.17 in /usr/local/lib/python3.7/dist-packages (from transformers) (2019.12.20)\n",
            "Collecting pyyaml>=5.1\n",
            "  Downloading PyYAML-6.0-cp37-cp37m-manylinux_2_5_x86_64.manylinux1_x86_64.manylinux_2_12_x86_64.manylinux2010_x86_64.whl (596 kB)\n",
            "\u001b[K     |████████████████████████████████| 596 kB 59.2 MB/s \n",
            "\u001b[?25hCollecting tokenizers!=0.11.3,>=0.10.1\n",
            "  Downloading tokenizers-0.11.5-cp37-cp37m-manylinux_2_12_x86_64.manylinux2010_x86_64.whl (6.8 MB)\n",
            "\u001b[K     |████████████████████████████████| 6.8 MB 45.2 MB/s \n",
            "\u001b[?25hRequirement already satisfied: packaging>=20.0 in /usr/local/lib/python3.7/dist-packages (from transformers) (21.3)\n",
            "Requirement already satisfied: sacremoses in /usr/local/lib/python3.7/dist-packages (from transformers) (0.0.47)\n",
            "Requirement already satisfied: numpy>=1.17 in /usr/local/lib/python3.7/dist-packages (from transformers) (1.21.5)\n",
            "Requirement already satisfied: typing-extensions>=3.7.4.3 in /usr/local/lib/python3.7/dist-packages (from huggingface-hub<1.0,>=0.1.0->transformers) (3.10.0.2)\n",
            "Requirement already satisfied: pyparsing!=3.0.5,>=2.0.2 in /usr/local/lib/python3.7/dist-packages (from packaging>=20.0->transformers) (3.0.7)\n",
            "Requirement already satisfied: zipp>=0.5 in /usr/local/lib/python3.7/dist-packages (from importlib-metadata->transformers) (3.7.0)\n",
            "Requirement already satisfied: idna<3,>=2.5 in /usr/local/lib/python3.7/dist-packages (from requests->transformers) (2.10)\n",
            "Requirement already satisfied: urllib3!=1.25.0,!=1.25.1,<1.26,>=1.21.1 in /usr/local/lib/python3.7/dist-packages (from requests->transformers) (1.25.11)\n",
            "Requirement already satisfied: certifi>=2017.4.17 in /usr/local/lib/python3.7/dist-packages (from requests->transformers) (2021.10.8)\n",
            "Requirement already satisfied: chardet<4,>=3.0.2 in /usr/local/lib/python3.7/dist-packages (from requests->transformers) (3.0.4)\n",
            "Requirement already satisfied: joblib in /usr/local/lib/python3.7/dist-packages (from sacremoses->transformers) (1.1.0)\n",
            "Requirement already satisfied: click in /usr/local/lib/python3.7/dist-packages (from sacremoses->transformers) (7.1.2)\n",
            "Requirement already satisfied: six in /usr/local/lib/python3.7/dist-packages (from sacremoses->transformers) (1.15.0)\n",
            "Installing collected packages: pyyaml, tokenizers, huggingface-hub, transformers\n",
            "  Attempting uninstall: pyyaml\n",
            "    Found existing installation: PyYAML 3.13\n",
            "    Uninstalling PyYAML-3.13:\n",
            "      Successfully uninstalled PyYAML-3.13\n",
            "Successfully installed huggingface-hub-0.4.0 pyyaml-6.0 tokenizers-0.11.5 transformers-4.16.2\n",
            "Collecting sentence-transformers\n",
            "  Downloading sentence-transformers-2.2.0.tar.gz (79 kB)\n",
            "\u001b[K     |████████████████████████████████| 79 kB 3.7 MB/s \n",
            "\u001b[?25hRequirement already satisfied: transformers<5.0.0,>=4.6.0 in /usr/local/lib/python3.7/dist-packages (from sentence-transformers) (4.16.2)\n",
            "Requirement already satisfied: tqdm in /usr/local/lib/python3.7/dist-packages (from sentence-transformers) (4.62.3)\n",
            "Requirement already satisfied: torch>=1.6.0 in /usr/local/lib/python3.7/dist-packages (from sentence-transformers) (1.10.0+cu111)\n",
            "Requirement already satisfied: torchvision in /usr/local/lib/python3.7/dist-packages (from sentence-transformers) (0.11.1+cu111)\n",
            "Requirement already satisfied: numpy in /usr/local/lib/python3.7/dist-packages (from sentence-transformers) (1.21.5)\n",
            "Requirement already satisfied: scikit-learn in /usr/local/lib/python3.7/dist-packages (from sentence-transformers) (1.0.2)\n",
            "Requirement already satisfied: scipy in /usr/local/lib/python3.7/dist-packages (from sentence-transformers) (1.4.1)\n",
            "Requirement already satisfied: nltk in /usr/local/lib/python3.7/dist-packages (from sentence-transformers) (3.2.5)\n",
            "Requirement already satisfied: sentencepiece in /usr/local/lib/python3.7/dist-packages (from sentence-transformers) (0.1.96)\n",
            "Requirement already satisfied: huggingface-hub in /usr/local/lib/python3.7/dist-packages (from sentence-transformers) (0.4.0)\n",
            "Requirement already satisfied: typing-extensions in /usr/local/lib/python3.7/dist-packages (from torch>=1.6.0->sentence-transformers) (3.10.0.2)\n",
            "Requirement already satisfied: importlib-metadata in /usr/local/lib/python3.7/dist-packages (from transformers<5.0.0,>=4.6.0->sentence-transformers) (4.11.1)\n",
            "Requirement already satisfied: filelock in /usr/local/lib/python3.7/dist-packages (from transformers<5.0.0,>=4.6.0->sentence-transformers) (3.6.0)\n",
            "Requirement already satisfied: pyyaml>=5.1 in /usr/local/lib/python3.7/dist-packages (from transformers<5.0.0,>=4.6.0->sentence-transformers) (6.0)\n",
            "Requirement already satisfied: requests in /usr/local/lib/python3.7/dist-packages (from transformers<5.0.0,>=4.6.0->sentence-transformers) (2.23.0)\n",
            "Requirement already satisfied: packaging>=20.0 in /usr/local/lib/python3.7/dist-packages (from transformers<5.0.0,>=4.6.0->sentence-transformers) (21.3)\n",
            "Requirement already satisfied: sacremoses in /usr/local/lib/python3.7/dist-packages (from transformers<5.0.0,>=4.6.0->sentence-transformers) (0.0.47)\n",
            "Requirement already satisfied: regex!=2019.12.17 in /usr/local/lib/python3.7/dist-packages (from transformers<5.0.0,>=4.6.0->sentence-transformers) (2019.12.20)\n",
            "Requirement already satisfied: tokenizers!=0.11.3,>=0.10.1 in /usr/local/lib/python3.7/dist-packages (from transformers<5.0.0,>=4.6.0->sentence-transformers) (0.11.5)\n",
            "Requirement already satisfied: pyparsing!=3.0.5,>=2.0.2 in /usr/local/lib/python3.7/dist-packages (from packaging>=20.0->transformers<5.0.0,>=4.6.0->sentence-transformers) (3.0.7)\n",
            "Requirement already satisfied: zipp>=0.5 in /usr/local/lib/python3.7/dist-packages (from importlib-metadata->transformers<5.0.0,>=4.6.0->sentence-transformers) (3.7.0)\n",
            "Requirement already satisfied: six in /usr/local/lib/python3.7/dist-packages (from nltk->sentence-transformers) (1.15.0)\n",
            "Requirement already satisfied: certifi>=2017.4.17 in /usr/local/lib/python3.7/dist-packages (from requests->transformers<5.0.0,>=4.6.0->sentence-transformers) (2021.10.8)\n",
            "Requirement already satisfied: idna<3,>=2.5 in /usr/local/lib/python3.7/dist-packages (from requests->transformers<5.0.0,>=4.6.0->sentence-transformers) (2.10)\n",
            "Requirement already satisfied: urllib3!=1.25.0,!=1.25.1,<1.26,>=1.21.1 in /usr/local/lib/python3.7/dist-packages (from requests->transformers<5.0.0,>=4.6.0->sentence-transformers) (1.25.11)\n",
            "Requirement already satisfied: chardet<4,>=3.0.2 in /usr/local/lib/python3.7/dist-packages (from requests->transformers<5.0.0,>=4.6.0->sentence-transformers) (3.0.4)\n",
            "Requirement already satisfied: click in /usr/local/lib/python3.7/dist-packages (from sacremoses->transformers<5.0.0,>=4.6.0->sentence-transformers) (7.1.2)\n",
            "Requirement already satisfied: joblib in /usr/local/lib/python3.7/dist-packages (from sacremoses->transformers<5.0.0,>=4.6.0->sentence-transformers) (1.1.0)\n",
            "Requirement already satisfied: threadpoolctl>=2.0.0 in /usr/local/lib/python3.7/dist-packages (from scikit-learn->sentence-transformers) (3.1.0)\n",
            "Requirement already satisfied: pillow!=8.3.0,>=5.3.0 in /usr/local/lib/python3.7/dist-packages (from torchvision->sentence-transformers) (7.1.2)\n",
            "Building wheels for collected packages: sentence-transformers\n",
            "  Building wheel for sentence-transformers (setup.py) ... \u001b[?25l\u001b[?25hdone\n",
            "  Created wheel for sentence-transformers: filename=sentence_transformers-2.2.0-py3-none-any.whl size=120747 sha256=c65dc4b73bb9624702fdbd502c251c69dd4cd4a30565817fbf7b11f1018d47bc\n",
            "  Stored in directory: /root/.cache/pip/wheels/83/c0/df/b6873ab7aac3f2465aa9144b6b4c41c4391cfecc027c8b07e7\n",
            "Successfully built sentence-transformers\n",
            "Installing collected packages: sentence-transformers\n",
            "Successfully installed sentence-transformers-2.2.0\n",
            "Collecting spacy==3.0.0\n",
            "  Downloading spacy-3.0.0-cp37-cp37m-manylinux2014_x86_64.whl (12.7 MB)\n",
            "\u001b[K     |████████████████████████████████| 12.7 MB 4.3 MB/s \n",
            "\u001b[?25hRequirement already satisfied: tqdm<5.0.0,>=4.38.0 in /usr/local/lib/python3.7/dist-packages (from spacy==3.0.0) (4.62.3)\n",
            "Requirement already satisfied: jinja2 in /usr/local/lib/python3.7/dist-packages (from spacy==3.0.0) (2.11.3)\n",
            "Requirement already satisfied: blis<0.8.0,>=0.4.0 in /usr/local/lib/python3.7/dist-packages (from spacy==3.0.0) (0.4.1)\n",
            "Collecting thinc<8.1.0,>=8.0.0\n",
            "  Downloading thinc-8.0.13-cp37-cp37m-manylinux_2_17_x86_64.manylinux2014_x86_64.whl (628 kB)\n",
            "\u001b[K     |████████████████████████████████| 628 kB 38.2 MB/s \n",
            "\u001b[?25hCollecting pydantic<1.8.0,>=1.7.1\n",
            "  Downloading pydantic-1.7.4-cp37-cp37m-manylinux2014_x86_64.whl (9.1 MB)\n",
            "\u001b[K     |████████████████████████████████| 9.1 MB 31.6 MB/s \n",
            "\u001b[?25hCollecting pathy\n",
            "  Downloading pathy-0.6.1-py3-none-any.whl (42 kB)\n",
            "\u001b[K     |████████████████████████████████| 42 kB 1.4 MB/s \n",
            "\u001b[?25hRequirement already satisfied: packaging>=20.0 in /usr/local/lib/python3.7/dist-packages (from spacy==3.0.0) (21.3)\n",
            "Requirement already satisfied: wasabi<1.1.0,>=0.8.1 in /usr/local/lib/python3.7/dist-packages (from spacy==3.0.0) (0.9.0)\n",
            "Requirement already satisfied: cymem<2.1.0,>=2.0.2 in /usr/local/lib/python3.7/dist-packages (from spacy==3.0.0) (2.0.6)\n",
            "Requirement already satisfied: typing-extensions>=3.7.4 in /usr/local/lib/python3.7/dist-packages (from spacy==3.0.0) (3.10.0.2)\n",
            "Requirement already satisfied: preshed<3.1.0,>=3.0.2 in /usr/local/lib/python3.7/dist-packages (from spacy==3.0.0) (3.0.6)\n",
            "Requirement already satisfied: murmurhash<1.1.0,>=0.28.0 in /usr/local/lib/python3.7/dist-packages (from spacy==3.0.0) (1.0.6)\n",
            "Collecting spacy-legacy<3.1.0,>=3.0.0\n",
            "  Downloading spacy_legacy-3.0.9-py2.py3-none-any.whl (20 kB)\n",
            "Requirement already satisfied: setuptools in /usr/local/lib/python3.7/dist-packages (from spacy==3.0.0) (57.4.0)\n",
            "Collecting srsly<3.0.0,>=2.4.0\n",
            "  Downloading srsly-2.4.2-cp37-cp37m-manylinux_2_17_x86_64.manylinux2014_x86_64.whl (451 kB)\n",
            "\u001b[K     |████████████████████████████████| 451 kB 60.9 MB/s \n",
            "\u001b[?25hRequirement already satisfied: numpy>=1.15.0 in /usr/local/lib/python3.7/dist-packages (from spacy==3.0.0) (1.21.5)\n",
            "Collecting typer<0.4.0,>=0.3.0\n",
            "  Downloading typer-0.3.2-py3-none-any.whl (21 kB)\n",
            "Collecting catalogue<2.1.0,>=2.0.1\n",
            "  Downloading catalogue-2.0.6-py3-none-any.whl (17 kB)\n",
            "Requirement already satisfied: requests<3.0.0,>=2.13.0 in /usr/local/lib/python3.7/dist-packages (from spacy==3.0.0) (2.23.0)\n",
            "Requirement already satisfied: importlib-metadata>=0.20 in /usr/local/lib/python3.7/dist-packages (from spacy==3.0.0) (4.11.1)\n",
            "Requirement already satisfied: zipp>=0.5 in /usr/local/lib/python3.7/dist-packages (from catalogue<2.1.0,>=2.0.1->spacy==3.0.0) (3.7.0)\n",
            "Requirement already satisfied: pyparsing!=3.0.5,>=2.0.2 in /usr/local/lib/python3.7/dist-packages (from packaging>=20.0->spacy==3.0.0) (3.0.7)\n",
            "Requirement already satisfied: urllib3!=1.25.0,!=1.25.1,<1.26,>=1.21.1 in /usr/local/lib/python3.7/dist-packages (from requests<3.0.0,>=2.13.0->spacy==3.0.0) (1.25.11)\n",
            "Requirement already satisfied: idna<3,>=2.5 in /usr/local/lib/python3.7/dist-packages (from requests<3.0.0,>=2.13.0->spacy==3.0.0) (2.10)\n",
            "Requirement already satisfied: certifi>=2017.4.17 in /usr/local/lib/python3.7/dist-packages (from requests<3.0.0,>=2.13.0->spacy==3.0.0) (2021.10.8)\n",
            "Requirement already satisfied: chardet<4,>=3.0.2 in /usr/local/lib/python3.7/dist-packages (from requests<3.0.0,>=2.13.0->spacy==3.0.0) (3.0.4)\n",
            "Requirement already satisfied: click<7.2.0,>=7.1.1 in /usr/local/lib/python3.7/dist-packages (from typer<0.4.0,>=0.3.0->spacy==3.0.0) (7.1.2)\n",
            "Requirement already satisfied: MarkupSafe>=0.23 in /usr/local/lib/python3.7/dist-packages (from jinja2->spacy==3.0.0) (2.0.1)\n",
            "Requirement already satisfied: smart-open<6.0.0,>=5.0.0 in /usr/local/lib/python3.7/dist-packages (from pathy->spacy==3.0.0) (5.2.1)\n",
            "Installing collected packages: catalogue, typer, srsly, pydantic, thinc, spacy-legacy, pathy, spacy\n",
            "  Attempting uninstall: catalogue\n",
            "    Found existing installation: catalogue 1.0.0\n",
            "    Uninstalling catalogue-1.0.0:\n",
            "      Successfully uninstalled catalogue-1.0.0\n",
            "  Attempting uninstall: srsly\n",
            "    Found existing installation: srsly 1.0.5\n",
            "    Uninstalling srsly-1.0.5:\n",
            "      Successfully uninstalled srsly-1.0.5\n",
            "  Attempting uninstall: thinc\n",
            "    Found existing installation: thinc 7.4.0\n",
            "    Uninstalling thinc-7.4.0:\n",
            "      Successfully uninstalled thinc-7.4.0\n",
            "  Attempting uninstall: spacy\n",
            "    Found existing installation: spacy 2.2.4\n",
            "    Uninstalling spacy-2.2.4:\n",
            "      Successfully uninstalled spacy-2.2.4\n",
            "Successfully installed catalogue-2.0.6 pathy-0.6.1 pydantic-1.7.4 spacy-3.0.0 spacy-legacy-3.0.9 srsly-2.4.2 thinc-8.0.13 typer-0.3.2\n",
            "Collecting en-core-web-md==3.0.0\n",
            "  Downloading https://github.com/explosion/spacy-models/releases/download/en_core_web_md-3.0.0/en_core_web_md-3.0.0-py3-none-any.whl (47.1 MB)\n",
            "\u001b[K     |████████████████████████████████| 47.1 MB 1.9 MB/s \n",
            "\u001b[?25hRequirement already satisfied: spacy<3.1.0,>=3.0.0 in /usr/local/lib/python3.7/dist-packages (from en-core-web-md==3.0.0) (3.0.0)\n",
            "Requirement already satisfied: thinc<8.1.0,>=8.0.0 in /usr/local/lib/python3.7/dist-packages (from spacy<3.1.0,>=3.0.0->en-core-web-md==3.0.0) (8.0.13)\n",
            "Requirement already satisfied: requests<3.0.0,>=2.13.0 in /usr/local/lib/python3.7/dist-packages (from spacy<3.1.0,>=3.0.0->en-core-web-md==3.0.0) (2.23.0)\n",
            "Requirement already satisfied: wasabi<1.1.0,>=0.8.1 in /usr/local/lib/python3.7/dist-packages (from spacy<3.1.0,>=3.0.0->en-core-web-md==3.0.0) (0.9.0)\n",
            "Requirement already satisfied: typer<0.4.0,>=0.3.0 in /usr/local/lib/python3.7/dist-packages (from spacy<3.1.0,>=3.0.0->en-core-web-md==3.0.0) (0.3.2)\n",
            "Requirement already satisfied: packaging>=20.0 in /usr/local/lib/python3.7/dist-packages (from spacy<3.1.0,>=3.0.0->en-core-web-md==3.0.0) (21.3)\n",
            "Requirement already satisfied: blis<0.8.0,>=0.4.0 in /usr/local/lib/python3.7/dist-packages (from spacy<3.1.0,>=3.0.0->en-core-web-md==3.0.0) (0.4.1)\n",
            "Requirement already satisfied: importlib-metadata>=0.20 in /usr/local/lib/python3.7/dist-packages (from spacy<3.1.0,>=3.0.0->en-core-web-md==3.0.0) (4.11.1)\n",
            "Requirement already satisfied: numpy>=1.15.0 in /usr/local/lib/python3.7/dist-packages (from spacy<3.1.0,>=3.0.0->en-core-web-md==3.0.0) (1.21.5)\n",
            "Requirement already satisfied: murmurhash<1.1.0,>=0.28.0 in /usr/local/lib/python3.7/dist-packages (from spacy<3.1.0,>=3.0.0->en-core-web-md==3.0.0) (1.0.6)\n",
            "Requirement already satisfied: cymem<2.1.0,>=2.0.2 in /usr/local/lib/python3.7/dist-packages (from spacy<3.1.0,>=3.0.0->en-core-web-md==3.0.0) (2.0.6)\n",
            "Requirement already satisfied: typing-extensions>=3.7.4 in /usr/local/lib/python3.7/dist-packages (from spacy<3.1.0,>=3.0.0->en-core-web-md==3.0.0) (3.10.0.2)\n",
            "Requirement already satisfied: spacy-legacy<3.1.0,>=3.0.0 in /usr/local/lib/python3.7/dist-packages (from spacy<3.1.0,>=3.0.0->en-core-web-md==3.0.0) (3.0.9)\n",
            "Requirement already satisfied: catalogue<2.1.0,>=2.0.1 in /usr/local/lib/python3.7/dist-packages (from spacy<3.1.0,>=3.0.0->en-core-web-md==3.0.0) (2.0.6)\n",
            "Requirement already satisfied: srsly<3.0.0,>=2.4.0 in /usr/local/lib/python3.7/dist-packages (from spacy<3.1.0,>=3.0.0->en-core-web-md==3.0.0) (2.4.2)\n",
            "Requirement already satisfied: setuptools in /usr/local/lib/python3.7/dist-packages (from spacy<3.1.0,>=3.0.0->en-core-web-md==3.0.0) (57.4.0)\n",
            "Requirement already satisfied: pathy in /usr/local/lib/python3.7/dist-packages (from spacy<3.1.0,>=3.0.0->en-core-web-md==3.0.0) (0.6.1)\n",
            "Requirement already satisfied: pydantic<1.8.0,>=1.7.1 in /usr/local/lib/python3.7/dist-packages (from spacy<3.1.0,>=3.0.0->en-core-web-md==3.0.0) (1.7.4)\n",
            "Requirement already satisfied: preshed<3.1.0,>=3.0.2 in /usr/local/lib/python3.7/dist-packages (from spacy<3.1.0,>=3.0.0->en-core-web-md==3.0.0) (3.0.6)\n",
            "Requirement already satisfied: tqdm<5.0.0,>=4.38.0 in /usr/local/lib/python3.7/dist-packages (from spacy<3.1.0,>=3.0.0->en-core-web-md==3.0.0) (4.62.3)\n",
            "Requirement already satisfied: jinja2 in /usr/local/lib/python3.7/dist-packages (from spacy<3.1.0,>=3.0.0->en-core-web-md==3.0.0) (2.11.3)\n",
            "Requirement already satisfied: zipp>=0.5 in /usr/local/lib/python3.7/dist-packages (from catalogue<2.1.0,>=2.0.1->spacy<3.1.0,>=3.0.0->en-core-web-md==3.0.0) (3.7.0)\n",
            "Requirement already satisfied: pyparsing!=3.0.5,>=2.0.2 in /usr/local/lib/python3.7/dist-packages (from packaging>=20.0->spacy<3.1.0,>=3.0.0->en-core-web-md==3.0.0) (3.0.7)\n",
            "Requirement already satisfied: chardet<4,>=3.0.2 in /usr/local/lib/python3.7/dist-packages (from requests<3.0.0,>=2.13.0->spacy<3.1.0,>=3.0.0->en-core-web-md==3.0.0) (3.0.4)\n",
            "Requirement already satisfied: idna<3,>=2.5 in /usr/local/lib/python3.7/dist-packages (from requests<3.0.0,>=2.13.0->spacy<3.1.0,>=3.0.0->en-core-web-md==3.0.0) (2.10)\n",
            "Requirement already satisfied: urllib3!=1.25.0,!=1.25.1,<1.26,>=1.21.1 in /usr/local/lib/python3.7/dist-packages (from requests<3.0.0,>=2.13.0->spacy<3.1.0,>=3.0.0->en-core-web-md==3.0.0) (1.25.11)\n",
            "Requirement already satisfied: certifi>=2017.4.17 in /usr/local/lib/python3.7/dist-packages (from requests<3.0.0,>=2.13.0->spacy<3.1.0,>=3.0.0->en-core-web-md==3.0.0) (2021.10.8)\n",
            "Requirement already satisfied: click<7.2.0,>=7.1.1 in /usr/local/lib/python3.7/dist-packages (from typer<0.4.0,>=0.3.0->spacy<3.1.0,>=3.0.0->en-core-web-md==3.0.0) (7.1.2)\n",
            "Requirement already satisfied: MarkupSafe>=0.23 in /usr/local/lib/python3.7/dist-packages (from jinja2->spacy<3.1.0,>=3.0.0->en-core-web-md==3.0.0) (2.0.1)\n",
            "Requirement already satisfied: smart-open<6.0.0,>=5.0.0 in /usr/local/lib/python3.7/dist-packages (from pathy->spacy<3.1.0,>=3.0.0->en-core-web-md==3.0.0) (5.2.1)\n",
            "Installing collected packages: en-core-web-md\n",
            "Successfully installed en-core-web-md-3.0.0\n",
            "\u001b[38;5;2m✔ Download and installation successful\u001b[0m\n",
            "You can now load the package via spacy.load('en_core_web_md')\n"
          ]
        }
      ]
    },
    {
      "cell_type": "code",
      "source": [
        "from google.colab import drive\n",
        "drive.mount(\"/content/gdrive\")"
      ],
      "metadata": {
        "colab": {
          "base_uri": "https://localhost:8080/"
        },
        "id": "8fTpyCwUnQ5n",
        "outputId": "206a41d3-eda8-4c5e-d401-00941aaee7df"
      },
      "execution_count": null,
      "outputs": [
        {
          "output_type": "stream",
          "name": "stdout",
          "text": [
            "Mounted at /content/gdrive\n"
          ]
        }
      ]
    },
    {
      "cell_type": "code",
      "source": [
        "from zipfile import ZipFile\n",
        "data_path = \"/content/gdrive/MyDrive/project_sdk_and_notebook_unzip_me.zip\"\n",
        "with ZipFile(data_path, 'r') as zipObj:\n",
        "   # Extract all the contents of zip file in current directory\n",
        "   zipObj.extractall()"
      ],
      "metadata": {
        "id": "cNt4EQd5nTiL"
      },
      "execution_count": null,
      "outputs": []
    },
    {
      "cell_type": "code",
      "execution_count": null,
      "metadata": {
        "id": "krhxGebiXoPd",
        "colab": {
          "base_uri": "https://localhost:8080/"
        },
        "outputId": "ba51d2d4-0c6c-4a22-d228-c0f10b2cd5ab"
      },
      "outputs": [
        {
          "output_type": "stream",
          "name": "stderr",
          "text": [
            "/usr/local/lib/python3.7/dist-packages/statsmodels/tools/_testing.py:19: FutureWarning: pandas.util.testing is deprecated. Use the functions in the public API at pandas.testing instead.\n",
            "  import pandas.util.testing as tm\n",
            "/usr/local/lib/python3.7/dist-packages/spacy/util.py:715: UserWarning: [W094] Model 'en_core_web_sm' (2.2.5) specifies an under-constrained spaCy version requirement: >=2.2.2. This can lead to compatibility problems with older versions, or as new spaCy versions are released, because the model may say it's compatible when it's not. Consider changing the \"spacy_version\" in your meta.json to a version range, with a lower and upper pin. For example: >=3.0.0,<3.1.0\n",
            "  warnings.warn(warn_msg)\n"
          ]
        },
        {
          "output_type": "stream",
          "name": "stdout",
          "text": [
            "\u001b[38;5;2m✔ Download and installation successful\u001b[0m\n",
            "You can now load the package via spacy.load('en_core_web_lg')\n",
            "[nltk_data] Downloading package stopwords to /root/nltk_data...\n",
            "[nltk_data]   Unzipping corpora/stopwords.zip.\n",
            "[nltk_data] Downloading package punkt to /root/nltk_data...\n",
            "[nltk_data]   Unzipping tokenizers/punkt.zip.\n"
          ]
        }
      ],
      "source": [
        "import h5py\n",
        "from mmsdk import mmdatasdk\n",
        "import ast\n",
        "import os\n",
        "import IPython.display as ipd\n",
        "import numpy as np\n",
        "import pandas as pd\n",
        "import matplotlib.pyplot as plt\n",
        "import sklearn as skl\n",
        "import sklearn.utils, sklearn.preprocessing, sklearn.decomposition, sklearn.svm\n",
        "import torch\n",
        "from torchvision import datasets, transforms\n",
        "import torch.utils.data as data_utils\n",
        "from torch.utils.data import TensorDataset, DataLoader\n",
        "from sklearn.preprocessing import LabelEncoder\n",
        "import seaborn as sns\n",
        "from sklearn.model_selection import train_test_split\n",
        "import torch.nn.functional as F\n",
        "from sklearn.neural_network import MLPRegressor\n",
        "from sklearn.datasets import make_regression\n",
        "from sklearn.linear_model import LogisticRegression\n",
        "import statsmodels.api as sm\n",
        "from sklearn import metrics\n",
        "from sklearn.linear_model import LinearRegression\n",
        "import xgboost as xgb\n",
        "from sklearn.metrics import mean_squared_error\n",
        "from sklearn.preprocessing import StandardScaler\n",
        "from torch import nn\n",
        "import tensorflow\n",
        "from tensorflow.keras.datasets import mnist\n",
        "from tensorflow.keras.models import Sequential\n",
        "from tensorflow.keras.layers import Dense\n",
        "from tensorflow.keras.utils import to_categorical\n",
        "import tensorflow as tf\n",
        "from tensorflow.keras import layers\n",
        "from sklearn import preprocessing\n",
        "from tensorflow.keras.layers import Input, Flatten, Dense, Dropout\n",
        "from tensorflow.keras.models import Model\n",
        "from zipfile import ZipFile\n",
        "from google.colab import drive\n",
        "from torch import nn\n",
        "import torchaudio \n",
        "from torchsummary import summary\n",
        "from torch.utils.data import Dataset,DataLoader\n",
        "import librosa\n",
        "import librosa.display\n",
        "from sklearn.ensemble import RandomForestRegressor\n",
        "from sklearn.inspection import permutation_importance\n",
        "from transformers import pipeline\n",
        "from sentence_transformers import SentenceTransformer\n",
        "from sklearn.metrics import mean_absolute_error\n",
        "import spacy\n",
        "from glob import glob\n",
        "from nltk.corpus import stopwords\n",
        "from nltk.tokenize import word_tokenize\n",
        "import nltk\n",
        "import en_core_web_sm\n",
        "import spacy.cli\n",
        "spacy.cli.download(\"en_core_web_lg\")\n",
        "import en_core_web_lg\n",
        "nltk.download('stopwords')\n",
        "nltk.download('punkt')\n",
        "from sklearn.tree import DecisionTreeClassifier\n",
        "from sklearn.ensemble import RandomForestClassifier\n",
        "from sklearn.svm import SVC\n",
        "from sklearn import svm\n",
        "from sklearn import tree\n",
        "from tensorflow.keras.layers import Activation\n",
        "from keras.callbacks import History "
      ]
    },
    {
      "cell_type": "markdown",
      "metadata": {
        "id": "ABzYw2szXoPf"
      },
      "source": [
        "## Téléchargement de données"
      ]
    },
    {
      "cell_type": "code",
      "execution_count": null,
      "metadata": {
        "colab": {
          "base_uri": "https://localhost:8080/"
        },
        "id": "SAYA0zVYXoPg",
        "outputId": "12215d05-9be6-416c-a56f-4948116fa628"
      },
      "outputs": [
        {
          "output_type": "stream",
          "name": "stdout",
          "text": [
            "{'glove_vectors': 'http://immortal.multicomp.cs.cmu.edu/CMU-MOSI/language/CMU_MOSI_TimestampedWordVectors.csd', 'FACET_4.1': 'http://immortal.multicomp.cs.cmu.edu/CMU-MOSI/visual/CMU_MOSI_Visual_Facet_41.csd', 'FACET_4.2': 'http://immortal.multicomp.cs.cmu.edu/CMU-MOSI/visual/CMU_MOSI_Visual_Facet_42.csd', 'OpenSmile-emobase2010': 'http://immortal.multicomp.cs.cmu.edu/CMU-MOSI/acoustic/CMU_MOSI_OpenSmile_EB10.csd', 'OpenSMILE': 'http://immortal.multicomp.cs.cmu.edu/CMU-MOSI/acoustic/CMU_MOSI_openSMILE_IS09.csd', 'OpenFace_1': 'http://immortal.multicomp.cs.cmu.edu/CMU-MOSI/visual/CMU_MOSI_Visual_OpenFace_1.csd', 'OpenFace_2': 'http://immortal.multicomp.cs.cmu.edu/CMU-MOSI/visual/CMU_MOSI_Visual_OpenFace_2.csd', 'COVAREP': 'http://immortal.multicomp.cs.cmu.edu/CMU-MOSI/acoustic/CMU_MOSI_COVAREP.csd'}\n",
            "\u001b[94m\u001b[1m[2022-02-26 12:15:47.356] | Status  | \u001b[0mDownloading from http://immortal.multicomp.cs.cmu.edu/CMU-MOSI/language/CMU_MOSI_TimestampedWordVectors.csd to cmumosi/CMU_MOSI_TimestampedWordVectors.csd...\n"
          ]
        },
        {
          "output_type": "stream",
          "name": "stderr",
          "text": [
            ""
          ]
        },
        {
          "output_type": "stream",
          "name": "stdout",
          "text": [
            "\u001b[92m\u001b[1m[2022-02-26 12:15:49.505] | Success | \u001b[0mDownload complete!\n",
            "\u001b[92m\u001b[1m[2022-02-26 12:15:49.513] | Success | \u001b[0mComputational sequence read from file cmumosi/CMU_MOSI_TimestampedWordVectors.csd ...\n",
            "\u001b[94m\u001b[1m[2022-02-26 12:15:49.527] | Status  | \u001b[0mChecking the integrity of the <glove_vectors> computational sequence ...\n",
            "\u001b[94m\u001b[1m[2022-02-26 12:15:49.527] | Status  | \u001b[0mChecking the format of the data in <glove_vectors> computational sequence ...\n"
          ]
        },
        {
          "output_type": "stream",
          "name": "stderr",
          "text": [
            ""
          ]
        },
        {
          "output_type": "stream",
          "name": "stdout",
          "text": [
            "\u001b[92m\u001b[1m[2022-02-26 12:15:49.579] | Success | \u001b[0m<glove_vectors> computational sequence data in correct format.\n",
            "\u001b[94m\u001b[1m[2022-02-26 12:15:49.579] | Status  | \u001b[0mChecking the format of the metadata in <glove_vectors> computational sequence ...\n",
            "\u001b[93m\u001b[1m[2022-02-26 12:15:49.579] | Warning | \u001b[0m<glove_vectors> computational sequence does not have all the required metadata ... continuing \n",
            "\u001b[94m\u001b[1m[2022-02-26 12:15:49.653] | Status  | \u001b[0mDownloading from http://immortal.multicomp.cs.cmu.edu/CMU-MOSI/visual/CMU_MOSI_Visual_Facet_41.csd to cmumosi/CMU_MOSI_Visual_Facet_41.csd...\n"
          ]
        },
        {
          "output_type": "stream",
          "name": "stderr",
          "text": [
            ""
          ]
        },
        {
          "output_type": "stream",
          "name": "stdout",
          "text": [
            "\u001b[92m\u001b[1m[2022-02-26 12:15:52.297] | Success | \u001b[0mDownload complete!\n",
            "\u001b[92m\u001b[1m[2022-02-26 12:15:52.300] | Success | \u001b[0mComputational sequence read from file cmumosi/CMU_MOSI_Visual_Facet_41.csd ...\n",
            "\u001b[94m\u001b[1m[2022-02-26 12:15:52.331] | Status  | \u001b[0mChecking the integrity of the <FACET_4.1> computational sequence ...\n",
            "\u001b[94m\u001b[1m[2022-02-26 12:15:52.332] | Status  | \u001b[0mChecking the format of the data in <FACET_4.1> computational sequence ...\n"
          ]
        },
        {
          "output_type": "stream",
          "name": "stderr",
          "text": [
            ""
          ]
        },
        {
          "output_type": "stream",
          "name": "stdout",
          "text": [
            "\u001b[92m\u001b[1m[2022-02-26 12:15:52.440] | Success | \u001b[0m<FACET_4.1> computational sequence data in correct format.\n",
            "\u001b[94m\u001b[1m[2022-02-26 12:15:52.440] | Status  | \u001b[0mChecking the format of the metadata in <FACET_4.1> computational sequence ...\n",
            "\u001b[93m\u001b[1m[2022-02-26 12:15:52.441] | Warning | \u001b[0m<FACET_4.1> computational sequence does not have all the required metadata ... continuing \n",
            "\u001b[94m\u001b[1m[2022-02-26 12:15:52.582] | Status  | \u001b[0mDownloading from http://immortal.multicomp.cs.cmu.edu/CMU-MOSI/visual/CMU_MOSI_Visual_Facet_42.csd to cmumosi/CMU_MOSI_Visual_Facet_42.csd...\n"
          ]
        },
        {
          "output_type": "stream",
          "name": "stderr",
          "text": [
            ""
          ]
        },
        {
          "output_type": "stream",
          "name": "stdout",
          "text": [
            "\u001b[92m\u001b[1m[2022-02-26 12:15:55.115] | Success | \u001b[0mDownload complete!\n",
            "\u001b[92m\u001b[1m[2022-02-26 12:15:55.117] | Success | \u001b[0mComputational sequence read from file cmumosi/CMU_MOSI_Visual_Facet_42.csd ...\n",
            "\u001b[94m\u001b[1m[2022-02-26 12:15:55.148] | Status  | \u001b[0mChecking the integrity of the <FACET_4.2> computational sequence ...\n",
            "\u001b[94m\u001b[1m[2022-02-26 12:15:55.149] | Status  | \u001b[0mChecking the format of the data in <FACET_4.2> computational sequence ...\n"
          ]
        },
        {
          "output_type": "stream",
          "name": "stderr",
          "text": [
            ""
          ]
        },
        {
          "output_type": "stream",
          "name": "stdout",
          "text": [
            "\u001b[92m\u001b[1m[2022-02-26 12:15:55.280] | Success | \u001b[0m<FACET_4.2> computational sequence data in correct format.\n",
            "\u001b[94m\u001b[1m[2022-02-26 12:15:55.280] | Status  | \u001b[0mChecking the format of the metadata in <FACET_4.2> computational sequence ...\n",
            "\u001b[93m\u001b[1m[2022-02-26 12:15:55.281] | Warning | \u001b[0m<FACET_4.2> computational sequence does not have all the required metadata ... continuing \n",
            "\u001b[94m\u001b[1m[2022-02-26 12:15:55.359] | Status  | \u001b[0mDownloading from http://immortal.multicomp.cs.cmu.edu/CMU-MOSI/acoustic/CMU_MOSI_OpenSmile_EB10.csd to cmumosi/CMU_MOSI_OpenSmile_EB10.csd...\n"
          ]
        },
        {
          "output_type": "stream",
          "name": "stderr",
          "text": [
            ""
          ]
        },
        {
          "output_type": "stream",
          "name": "stdout",
          "text": [
            "\u001b[92m\u001b[1m[2022-02-26 12:15:56.080] | Success | \u001b[0mDownload complete!\n",
            "\u001b[92m\u001b[1m[2022-02-26 12:15:56.084] | Success | \u001b[0mComputational sequence read from file cmumosi/CMU_MOSI_OpenSmile_EB10.csd ...\n",
            "\u001b[94m\u001b[1m[2022-02-26 12:15:56.097] | Status  | \u001b[0mChecking the integrity of the <OpenSmile_emobase2010> computational sequence ...\n",
            "\u001b[94m\u001b[1m[2022-02-26 12:15:56.097] | Status  | \u001b[0mChecking the format of the data in <OpenSmile_emobase2010> computational sequence ...\n"
          ]
        },
        {
          "output_type": "stream",
          "name": "stderr",
          "text": [
            ""
          ]
        },
        {
          "output_type": "stream",
          "name": "stdout",
          "text": [
            "\u001b[92m\u001b[1m[2022-02-26 12:15:56.208] | Success | \u001b[0m<OpenSmile_emobase2010> computational sequence data in correct format.\n",
            "\u001b[94m\u001b[1m[2022-02-26 12:15:56.209] | Status  | \u001b[0mChecking the format of the metadata in <OpenSmile_emobase2010> computational sequence ...\n",
            "\u001b[93m\u001b[1m[2022-02-26 12:15:56.210] | Warning | \u001b[0m<OpenSmile_emobase2010> computational sequence does not have all the required metadata ... continuing \n",
            "\u001b[94m\u001b[1m[2022-02-26 12:15:56.284] | Status  | \u001b[0mDownloading from http://immortal.multicomp.cs.cmu.edu/CMU-MOSI/acoustic/CMU_MOSI_openSMILE_IS09.csd to cmumosi/CMU_MOSI_openSMILE_IS09.csd...\n"
          ]
        },
        {
          "output_type": "stream",
          "name": "stderr",
          "text": [
            ""
          ]
        },
        {
          "output_type": "stream",
          "name": "stdout",
          "text": [
            "\u001b[92m\u001b[1m[2022-02-26 12:16:16.065] | Success | \u001b[0mDownload complete!\n",
            "\u001b[92m\u001b[1m[2022-02-26 12:16:16.066] | Success | \u001b[0mComputational sequence read from file cmumosi/CMU_MOSI_openSMILE_IS09.csd ...\n",
            "\u001b[94m\u001b[1m[2022-02-26 12:16:16.086] | Status  | \u001b[0mChecking the integrity of the <b'OpenSMILE'> computational sequence ...\n",
            "\u001b[94m\u001b[1m[2022-02-26 12:16:16.087] | Status  | \u001b[0mChecking the format of the data in <b'OpenSMILE'> computational sequence ...\n"
          ]
        },
        {
          "output_type": "stream",
          "name": "stderr",
          "text": [
            ""
          ]
        },
        {
          "output_type": "stream",
          "name": "stdout",
          "text": [
            "\u001b[92m\u001b[1m[2022-02-26 12:16:16.204] | Success | \u001b[0m<b'OpenSMILE'> computational sequence data in correct format.\n",
            "\u001b[94m\u001b[1m[2022-02-26 12:16:16.204] | Status  | \u001b[0mChecking the format of the metadata in <b'OpenSMILE'> computational sequence ...\n",
            "\u001b[93m\u001b[1m[2022-02-26 12:16:16.204] | Warning | \u001b[0m<b'OpenSMILE'> computational sequence does not have all the required metadata ... continuing \n",
            "\u001b[94m\u001b[1m[2022-02-26 12:16:16.340] | Status  | \u001b[0mDownloading from http://immortal.multicomp.cs.cmu.edu/CMU-MOSI/visual/CMU_MOSI_Visual_OpenFace_1.csd to cmumosi/CMU_MOSI_Visual_OpenFace_1.csd...\n"
          ]
        },
        {
          "output_type": "stream",
          "name": "stderr",
          "text": [
            ""
          ]
        },
        {
          "output_type": "stream",
          "name": "stdout",
          "text": [
            "\u001b[92m\u001b[1m[2022-02-26 12:16:38.609] | Success | \u001b[0mDownload complete!\n",
            "\u001b[92m\u001b[1m[2022-02-26 12:16:38.610] | Success | \u001b[0mComputational sequence read from file cmumosi/CMU_MOSI_Visual_OpenFace_1.csd ...\n",
            "\u001b[94m\u001b[1m[2022-02-26 12:16:38.623] | Status  | \u001b[0mChecking the integrity of the <OpenFace_1> computational sequence ...\n",
            "\u001b[94m\u001b[1m[2022-02-26 12:16:38.623] | Status  | \u001b[0mChecking the format of the data in <OpenFace_1> computational sequence ...\n"
          ]
        },
        {
          "output_type": "stream",
          "name": "stderr",
          "text": [
            ""
          ]
        },
        {
          "output_type": "stream",
          "name": "stdout",
          "text": [
            "\u001b[92m\u001b[1m[2022-02-26 12:16:38.677] | Success | \u001b[0m<OpenFace_1> computational sequence data in correct format.\n",
            "\u001b[94m\u001b[1m[2022-02-26 12:16:38.677] | Status  | \u001b[0mChecking the format of the metadata in <OpenFace_1> computational sequence ...\n",
            "\u001b[93m\u001b[1m[2022-02-26 12:16:38.677] | Warning | \u001b[0m<OpenFace_1> computational sequence does not have all the required metadata ... continuing \n",
            "\u001b[94m\u001b[1m[2022-02-26 12:16:38.822] | Status  | \u001b[0mDownloading from http://immortal.multicomp.cs.cmu.edu/CMU-MOSI/visual/CMU_MOSI_Visual_OpenFace_2.csd to cmumosi/CMU_MOSI_Visual_OpenFace_2.csd...\n"
          ]
        },
        {
          "output_type": "stream",
          "name": "stderr",
          "text": [
            ""
          ]
        },
        {
          "output_type": "stream",
          "name": "stdout",
          "text": [
            "\u001b[92m\u001b[1m[2022-02-26 12:16:56.297] | Success | \u001b[0mDownload complete!\n",
            "\u001b[92m\u001b[1m[2022-02-26 12:16:56.299] | Success | \u001b[0mComputational sequence read from file cmumosi/CMU_MOSI_Visual_OpenFace_2.csd ...\n",
            "\u001b[94m\u001b[1m[2022-02-26 12:16:56.315] | Status  | \u001b[0mChecking the integrity of the <OpenFace_2> computational sequence ...\n",
            "\u001b[94m\u001b[1m[2022-02-26 12:16:56.315] | Status  | \u001b[0mChecking the format of the data in <OpenFace_2> computational sequence ...\n"
          ]
        },
        {
          "output_type": "stream",
          "name": "stderr",
          "text": [
            ""
          ]
        },
        {
          "output_type": "stream",
          "name": "stdout",
          "text": [
            "\u001b[92m\u001b[1m[2022-02-26 12:16:56.364] | Success | \u001b[0m<OpenFace_2> computational sequence data in correct format.\n",
            "\u001b[94m\u001b[1m[2022-02-26 12:16:56.364] | Status  | \u001b[0mChecking the format of the metadata in <OpenFace_2> computational sequence ...\n",
            "\u001b[93m\u001b[1m[2022-02-26 12:16:56.365] | Warning | \u001b[0m<OpenFace_2> computational sequence does not have all the required metadata ... continuing \n",
            "\u001b[94m\u001b[1m[2022-02-26 12:16:56.504] | Status  | \u001b[0mDownloading from http://immortal.multicomp.cs.cmu.edu/CMU-MOSI/acoustic/CMU_MOSI_COVAREP.csd to cmumosi/CMU_MOSI_COVAREP.csd...\n"
          ]
        },
        {
          "output_type": "stream",
          "name": "stderr",
          "text": [
            ""
          ]
        },
        {
          "output_type": "stream",
          "name": "stdout",
          "text": [
            "\u001b[92m\u001b[1m[2022-02-26 12:17:08.227] | Success | \u001b[0mDownload complete!\n",
            "\u001b[92m\u001b[1m[2022-02-26 12:17:08.228] | Success | \u001b[0mComputational sequence read from file cmumosi/CMU_MOSI_COVAREP.csd ...\n",
            "\u001b[94m\u001b[1m[2022-02-26 12:17:08.244] | Status  | \u001b[0mChecking the integrity of the <COVAREP> computational sequence ...\n",
            "\u001b[94m\u001b[1m[2022-02-26 12:17:08.244] | Status  | \u001b[0mChecking the format of the data in <COVAREP> computational sequence ...\n"
          ]
        },
        {
          "output_type": "stream",
          "name": "stderr",
          "text": [
            "                                                                   "
          ]
        },
        {
          "output_type": "stream",
          "name": "stdout",
          "text": [
            "\u001b[92m\u001b[1m[2022-02-26 12:17:08.303] | Success | \u001b[0m<COVAREP> computational sequence data in correct format.\n",
            "\u001b[94m\u001b[1m[2022-02-26 12:17:08.303] | Status  | \u001b[0mChecking the format of the metadata in <COVAREP> computational sequence ...\n",
            "\u001b[93m\u001b[1m[2022-02-26 12:17:08.303] | Warning | \u001b[0m<COVAREP> computational sequence does not have all the required metadata ... continuing \n",
            "\u001b[92m\u001b[1m[2022-02-26 12:17:08.303] | Success | \u001b[0mDataset initialized successfully ... \n"
          ]
        },
        {
          "output_type": "stream",
          "name": "stderr",
          "text": [
            "\r"
          ]
        }
      ],
      "source": [
        "print(mmdatasdk.cmu_mosi.highlevel)\n",
        "cmumosi_highlevel = mmdatasdk.mmdataset(mmdatasdk.cmu_mosi.highlevel,'cmumosi/')"
      ]
    },
    {
      "cell_type": "code",
      "execution_count": null,
      "metadata": {
        "colab": {
          "base_uri": "https://localhost:8080/"
        },
        "id": "YJt-3Ns8XoPh",
        "outputId": "60e01774-eb98-4b25-c926-082b8d81ba2d"
      },
      "outputs": [
        {
          "output_type": "stream",
          "name": "stdout",
          "text": [
            "\u001b[94m\u001b[1m[2022-02-26 12:17:08.474] | Status  | \u001b[0mDownloading from http://immortal.multicomp.cs.cmu.edu/CMU-MOSI/labels/CMU_MOSI_Opinion_Labels.csd to cmumosi/CMU_MOSI_Opinion_Labels.csd...\n"
          ]
        },
        {
          "output_type": "stream",
          "name": "stderr",
          "text": [
            ""
          ]
        },
        {
          "output_type": "stream",
          "name": "stdout",
          "text": [
            "\u001b[92m\u001b[1m[2022-02-26 12:17:08.646] | Success | \u001b[0mDownload complete!\n",
            "\u001b[92m\u001b[1m[2022-02-26 12:17:08.647] | Success | \u001b[0mComputational sequence read from file cmumosi/CMU_MOSI_Opinion_Labels.csd ...\n",
            "\u001b[94m\u001b[1m[2022-02-26 12:17:08.664] | Status  | \u001b[0mChecking the integrity of the <Opinion Segment Labels> computational sequence ...\n",
            "\u001b[94m\u001b[1m[2022-02-26 12:17:08.665] | Status  | \u001b[0mChecking the format of the data in <Opinion Segment Labels> computational sequence ...\n"
          ]
        },
        {
          "output_type": "stream",
          "name": "stderr",
          "text": [
            "                                                                   "
          ]
        },
        {
          "output_type": "stream",
          "name": "stdout",
          "text": [
            "\u001b[92m\u001b[1m[2022-02-26 12:17:08.722] | Success | \u001b[0m<Opinion Segment Labels> computational sequence data in correct format.\n",
            "\u001b[94m\u001b[1m[2022-02-26 12:17:08.722] | Status  | \u001b[0mChecking the format of the metadata in <Opinion Segment Labels> computational sequence ...\n",
            "\u001b[93m\u001b[1m[2022-02-26 12:17:08.722] | Warning | \u001b[0m<Opinion Segment Labels> computational sequence does not have all the required metadata ... continuing \n"
          ]
        },
        {
          "output_type": "stream",
          "name": "stderr",
          "text": [
            "\r"
          ]
        }
      ],
      "source": [
        "cmumosi_highlevel.add_computational_sequences(mmdatasdk.cmu_mosi.labels,'cmumosi/')"
      ]
    },
    {
      "cell_type": "code",
      "execution_count": null,
      "metadata": {
        "id": "iHrvundLXoPh",
        "colab": {
          "base_uri": "https://localhost:8080/"
        },
        "outputId": "266ad4ef-28ea-440f-968e-5d0ac115ffd9"
      },
      "outputs": [
        {
          "output_type": "stream",
          "name": "stdout",
          "text": [
            "\u001b[94m\u001b[1m[2022-02-26 12:17:08.734] | Status  | \u001b[0mUnify was called ...\n",
            "\u001b[93m\u001b[1m[2022-02-26 12:17:08.735] | Warning | \u001b[0mc5xsKMxpXnc entry is not shared among all sequences, removing it ...\n",
            "\u001b[92m\u001b[1m[2022-02-26 12:17:08.736] | Success | \u001b[0mUnify completed ...\n",
            "\u001b[94m\u001b[1m[2022-02-26 12:17:08.736] | Status  | \u001b[0mPre-alignment based on <Opinion Segment Labels> computational sequence started ...\n",
            "\u001b[94m\u001b[1m[2022-02-26 12:17:09.906] | Status  | \u001b[0mPre-alignment done for <FACET_4.1> ...\n",
            "\u001b[94m\u001b[1m[2022-02-26 12:17:10.931] | Status  | \u001b[0mPre-alignment done for <glove_vectors> ...\n",
            "\u001b[94m\u001b[1m[2022-02-26 12:17:11.909] | Status  | \u001b[0mPre-alignment done for <OpenSMILE> ...\n",
            "\u001b[94m\u001b[1m[2022-02-26 12:17:24.080] | Status  | \u001b[0mPre-alignment done for <OpenFace_1> ...\n",
            "\u001b[94m\u001b[1m[2022-02-26 12:17:43.578] | Status  | \u001b[0mPre-alignment done for <OpenFace_2> ...\n",
            "\u001b[94m\u001b[1m[2022-02-26 12:17:43.947] | Status  | \u001b[0mPre-alignment done for <OpenSmile-emobase2010> ...\n",
            "\u001b[94m\u001b[1m[2022-02-26 12:17:50.196] | Status  | \u001b[0mPre-alignment done for <COVAREP> ...\n",
            "\u001b[94m\u001b[1m[2022-02-26 12:17:51.088] | Status  | \u001b[0mPre-alignment done for <FACET_4.2> ...\n",
            "\u001b[94m\u001b[1m[2022-02-26 12:17:51.266] | Status  | \u001b[0mAlignment starting ...\n"
          ]
        },
        {
          "output_type": "stream",
          "name": "stderr",
          "text": [
            "Overall Progress:   0%|          | 0/92 [00:00<?, ? Computational Sequence Entries/s]\n",
            "  0%|          | 0/13 [00:00<?, ? Segments/s]\u001b[A\n",
            "Aligning 03bSnISJMiM:   0%|          | 0/13 [00:00<?, ? Segments/s]\u001b[A\n",
            "                                                                   \u001b[A\n",
            "  0%|          | 0/25 [00:00<?, ? Segments/s]\u001b[A\n",
            "Aligning 0h-zjBukYpk:   0%|          | 0/25 [00:00<?, ? Segments/s]\u001b[A\n",
            "Aligning 0h-zjBukYpk: 100%|██████████| 25/25 [00:00<00:00, 242.98 Segments/s]\u001b[A\n",
            "Overall Progress:   2%|▏         | 2/92 [00:00<00:09,  9.54 Computational Sequence Entries/s]\n",
            "  0%|          | 0/14 [00:00<?, ? Segments/s]\u001b[A\n",
            "Aligning 1DmNV9C1hbY:   0%|          | 0/14 [00:00<?, ? Segments/s]\u001b[A\n",
            "                                                                   \u001b[A\n",
            "  0%|          | 0/30 [00:00<?, ? Segments/s]\u001b[A\n",
            "Aligning 1iG0909rllw:   0%|          | 0/30 [00:00<?, ? Segments/s]\u001b[A\n",
            "Aligning 1iG0909rllw:  87%|████████▋ | 26/30 [00:00<00:00, 256.94 Segments/s]\u001b[A\n",
            "Overall Progress:   4%|▍         | 4/92 [00:00<00:09,  9.15 Computational Sequence Entries/s]\n",
            "  0%|          | 0/63 [00:00<?, ? Segments/s]\u001b[A\n",
            "Aligning 2WGyTLYerpo:   0%|          | 0/63 [00:00<?, ? Segments/s]\u001b[A\n",
            "Aligning 2WGyTLYerpo:  35%|███▍      | 22/63 [00:00<00:00, 213.22 Segments/s]\u001b[A\n",
            "Aligning 2WGyTLYerpo:  76%|███████▌  | 48/63 [00:00<00:00, 238.63 Segments/s]\u001b[A\n",
            "Overall Progress:   5%|▌         | 5/92 [00:00<00:13,  6.27 Computational Sequence Entries/s]\n",
            "  0%|          | 0/30 [00:00<?, ? Segments/s]\u001b[A\n",
            "Aligning 2iD-tVS8NPw:   0%|          | 0/30 [00:00<?, ? Segments/s]\u001b[A\n",
            "Aligning 2iD-tVS8NPw:  77%|███████▋  | 23/30 [00:00<00:00, 226.96 Segments/s]\u001b[A\n",
            "Overall Progress:   7%|▋         | 6/92 [00:00<00:13,  6.20 Computational Sequence Entries/s]\n",
            "  0%|          | 0/24 [00:00<?, ? Segments/s]\u001b[A\n",
            "Aligning 5W7Z1C_fDaE:   0%|          | 0/24 [00:00<?, ? Segments/s]\u001b[A\n",
            "Overall Progress:   8%|▊         | 7/92 [00:00<00:12,  6.92 Computational Sequence Entries/s]\n",
            "  0%|          | 0/12 [00:00<?, ? Segments/s]\u001b[A\n",
            "Aligning 6Egk_28TtTM:   0%|          | 0/12 [00:00<?, ? Segments/s]\u001b[A\n",
            "                                                                   \u001b[A\n",
            "  0%|          | 0/14 [00:00<?, ? Segments/s]\u001b[A\n",
            "Aligning 6_0THN4chvY:   0%|          | 0/14 [00:00<?, ? Segments/s]\u001b[A\n",
            "Overall Progress:  10%|▉         | 9/92 [00:01<00:09,  9.02 Computational Sequence Entries/s]\n",
            "  0%|          | 0/19 [00:00<?, ? Segments/s]\u001b[A\n",
            "Aligning 73jzhE8R1TQ:   0%|          | 0/19 [00:00<?, ? Segments/s]\u001b[A\n",
            "Overall Progress:  11%|█         | 10/92 [00:01<00:08,  9.17 Computational Sequence Entries/s]\n",
            "  0%|          | 0/39 [00:00<?, ? Segments/s]\u001b[A\n",
            "Aligning 7JsX8y1ysxY:   0%|          | 0/39 [00:00<?, ? Segments/s]\u001b[A\n",
            "Aligning 7JsX8y1ysxY:  62%|██████▏   | 24/39 [00:00<00:00, 233.60 Segments/s]\u001b[A\n",
            "Overall Progress:  12%|█▏        | 11/92 [00:01<00:10,  7.83 Computational Sequence Entries/s]\n",
            "  0%|          | 0/23 [00:00<?, ? Segments/s]\u001b[A\n",
            "Aligning 8OtFthrtaJM:   0%|          | 0/23 [00:00<?, ? Segments/s]\u001b[A\n",
            "Aligning 8OtFthrtaJM: 100%|██████████| 23/23 [00:00<00:00, 222.28 Segments/s]\u001b[A\n",
            "Overall Progress:  13%|█▎        | 12/92 [00:01<00:10,  7.81 Computational Sequence Entries/s]\n",
            "  0%|          | 0/30 [00:00<?, ? Segments/s]\u001b[A\n",
            "Aligning 8d-gEyoeBzc:   0%|          | 0/30 [00:00<?, ? Segments/s]\u001b[A\n",
            "Aligning 8d-gEyoeBzc:  77%|███████▋  | 23/30 [00:00<00:00, 223.12 Segments/s]\u001b[A\n",
            "Overall Progress:  14%|█▍        | 13/92 [00:01<00:10,  7.39 Computational Sequence Entries/s]\n",
            "  0%|          | 0/26 [00:00<?, ? Segments/s]\u001b[A\n",
            "Aligning 8qrpnFRGt2A:   0%|          | 0/26 [00:00<?, ? Segments/s]\u001b[A\n",
            "Aligning 8qrpnFRGt2A:  77%|███████▋  | 20/26 [00:00<00:00, 198.44 Segments/s]\u001b[A\n",
            "Overall Progress:  15%|█▌        | 14/92 [00:01<00:10,  7.10 Computational Sequence Entries/s]\n",
            "  0%|          | 0/25 [00:00<?, ? Segments/s]\u001b[A\n",
            "Aligning 9J25DZhivz8:   0%|          | 0/25 [00:00<?, ? Segments/s]\u001b[A\n",
            "Aligning 9J25DZhivz8:  88%|████████▊ | 22/25 [00:00<00:00, 216.39 Segments/s]\u001b[A\n",
            "Overall Progress:  16%|█▋        | 15/92 [00:01<00:10,  7.03 Computational Sequence Entries/s]\n",
            "  0%|          | 0/25 [00:00<?, ? Segments/s]\u001b[A\n",
            "Aligning 9T9Hf74oK10:   0%|          | 0/25 [00:00<?, ? Segments/s]\u001b[A\n",
            "Aligning 9T9Hf74oK10:  88%|████████▊ | 22/25 [00:00<00:00, 217.48 Segments/s]\u001b[A\n",
            "Overall Progress:  17%|█▋        | 16/92 [00:02<00:10,  7.13 Computational Sequence Entries/s]\n",
            "  0%|          | 0/12 [00:00<?, ? Segments/s]\u001b[A\n",
            "Aligning 9c67fiY0wGQ:   0%|          | 0/12 [00:00<?, ? Segments/s]\u001b[A\n",
            "                                                                   \u001b[A\n",
            "  0%|          | 0/33 [00:00<?, ? Segments/s]\u001b[A\n",
            "Aligning 9qR7uwkblbs:   0%|          | 0/33 [00:00<?, ? Segments/s]\u001b[A\n",
            "Aligning 9qR7uwkblbs:  67%|██████▋   | 22/33 [00:00<00:00, 216.56 Segments/s]\u001b[A\n",
            "Overall Progress:  20%|█▉        | 18/92 [00:02<00:09,  7.75 Computational Sequence Entries/s]\n",
            "  0%|          | 0/31 [00:00<?, ? Segments/s]\u001b[A\n",
            "Aligning Af8D0E4ZXaw:   0%|          | 0/31 [00:00<?, ? Segments/s]\u001b[A\n",
            "Aligning Af8D0E4ZXaw:  74%|███████▍  | 23/31 [00:00<00:00, 224.67 Segments/s]\u001b[A\n",
            "Overall Progress:  21%|██        | 19/92 [00:02<00:09,  7.39 Computational Sequence Entries/s]\n",
            "  0%|          | 0/31 [00:00<?, ? Segments/s]\u001b[A\n",
            "Aligning BI97DNYfe5I:   0%|          | 0/31 [00:00<?, ? Segments/s]\u001b[A\n",
            "Aligning BI97DNYfe5I:  94%|█████████▎| 29/31 [00:00<00:00, 287.94 Segments/s]\u001b[A\n",
            "Overall Progress:  22%|██▏       | 20/92 [00:02<00:09,  7.27 Computational Sequence Entries/s]\n",
            "  0%|          | 0/31 [00:00<?, ? Segments/s]\u001b[A\n",
            "Aligning BXuRRbG0Ugk:   0%|          | 0/31 [00:00<?, ? Segments/s]\u001b[A\n",
            "Aligning BXuRRbG0Ugk:  58%|█████▊    | 18/31 [00:00<00:00, 177.58 Segments/s]\u001b[A\n",
            "Overall Progress:  23%|██▎       | 21/92 [00:02<00:10,  6.67 Computational Sequence Entries/s]\n",
            "  0%|          | 0/22 [00:00<?, ? Segments/s]\u001b[A\n",
            "Aligning Bfr499ggo-0:   0%|          | 0/22 [00:00<?, ? Segments/s]\u001b[A\n",
            "                                                                   \u001b[A\n",
            "  0%|          | 0/30 [00:00<?, ? Segments/s]\u001b[A\n",
            "Aligning BioHAh1qJAQ:   0%|          | 0/30 [00:00<?, ? Segments/s]\u001b[A\n",
            "Aligning BioHAh1qJAQ:  60%|██████    | 18/30 [00:00<00:00, 175.44 Segments/s]\u001b[A\n",
            "Overall Progress:  25%|██▌       | 23/92 [00:03<00:10,  6.85 Computational Sequence Entries/s]\n",
            "  0%|          | 0/26 [00:00<?, ? Segments/s]\u001b[A\n",
            "Aligning BvYR0L6f2Ig:   0%|          | 0/26 [00:00<?, ? Segments/s]\u001b[A\n",
            "Aligning BvYR0L6f2Ig:  92%|█████████▏| 24/26 [00:00<00:00, 237.52 Segments/s]\u001b[A\n",
            "Overall Progress:  26%|██▌       | 24/92 [00:03<00:09,  6.92 Computational Sequence Entries/s]\n",
            "  0%|          | 0/44 [00:00<?, ? Segments/s]\u001b[A\n",
            "Aligning Ci-AH39fi3Y:   0%|          | 0/44 [00:00<?, ? Segments/s]\u001b[A\n",
            "Aligning Ci-AH39fi3Y:  55%|█████▍    | 24/44 [00:00<00:00, 236.80 Segments/s]\u001b[A\n",
            "Overall Progress:  27%|██▋       | 25/92 [00:03<00:10,  6.30 Computational Sequence Entries/s]\n",
            "  0%|          | 0/31 [00:00<?, ? Segments/s]\u001b[A\n",
            "Aligning Clx4VXItLTE:   0%|          | 0/31 [00:00<?, ? Segments/s]\u001b[A\n",
            "Aligning Clx4VXItLTE:  74%|███████▍  | 23/31 [00:00<00:00, 221.47 Segments/s]\u001b[A\n",
            "Overall Progress:  28%|██▊       | 26/92 [00:03<00:10,  6.19 Computational Sequence Entries/s]\n",
            "  0%|          | 0/18 [00:00<?, ? Segments/s]\u001b[A\n",
            "Aligning Dg_0XKD0Mf4:   0%|          | 0/18 [00:00<?, ? Segments/s]\u001b[A\n",
            "                                                                   \u001b[A\n",
            "  0%|          | 0/21 [00:00<?, ? Segments/s]\u001b[A\n",
            "Aligning G-xst2euQUc:   0%|          | 0/21 [00:00<?, ? Segments/s]\u001b[A\n",
            "Overall Progress:  30%|███       | 28/92 [00:03<00:08,  7.52 Computational Sequence Entries/s]\n",
            "  0%|          | 0/29 [00:00<?, ? Segments/s]\u001b[A\n",
            "Aligning G6GlGvlkxAQ:   0%|          | 0/29 [00:00<?, ? Segments/s]\u001b[A\n",
            "Aligning G6GlGvlkxAQ:  76%|███████▌  | 22/29 [00:00<00:00, 216.89 Segments/s]\u001b[A\n",
            "Overall Progress:  32%|███▏      | 29/92 [00:03<00:08,  7.20 Computational Sequence Entries/s]\n",
            "  0%|          | 0/18 [00:00<?, ? Segments/s]\u001b[A\n",
            "Aligning GWuJjcEuzt8:   0%|          | 0/18 [00:00<?, ? Segments/s]\u001b[A\n",
            "                                                                   \u001b[A\n",
            "  0%|          | 0/34 [00:00<?, ? Segments/s]\u001b[A\n",
            "Aligning HEsqda8_d0Q:   0%|          | 0/34 [00:00<?, ? Segments/s]\u001b[A\n",
            "Aligning HEsqda8_d0Q:  74%|███████▎  | 25/34 [00:00<00:00, 245.23 Segments/s]\u001b[A\n",
            "Overall Progress:  34%|███▎      | 31/92 [00:04<00:08,  7.56 Computational Sequence Entries/s]\n",
            "  0%|          | 0/39 [00:00<?, ? Segments/s]\u001b[A\n",
            "Aligning I5y0__X72p0:   0%|          | 0/39 [00:00<?, ? Segments/s]\u001b[A\n",
            "Aligning I5y0__X72p0:  56%|█████▋    | 22/39 [00:00<00:00, 219.59 Segments/s]\u001b[A\n",
            "Overall Progress:  35%|███▍      | 32/92 [00:04<00:08,  6.96 Computational Sequence Entries/s]\n",
            "  0%|          | 0/16 [00:00<?, ? Segments/s]\u001b[A\n",
            "Aligning Iu2PFX3z_1s:   0%|          | 0/16 [00:00<?, ? Segments/s]\u001b[A\n",
            "                                                                   \u001b[A\n",
            "  0%|          | 0/22 [00:00<?, ? Segments/s]\u001b[A\n",
            "Aligning IumbAb8q2dM:   0%|          | 0/22 [00:00<?, ? Segments/s]\u001b[A\n",
            "Overall Progress:  37%|███▋      | 34/92 [00:04<00:07,  8.00 Computational Sequence Entries/s]\n",
            "  0%|          | 0/20 [00:00<?, ? Segments/s]\u001b[A\n",
            "Aligning Jkswaaud0hk:   0%|          | 0/20 [00:00<?, ? Segments/s]\u001b[A\n",
            "                                                                   \u001b[A\n",
            "  0%|          | 0/29 [00:00<?, ? Segments/s]\u001b[A\n",
            "Aligning LSi-o-IrDMs:   0%|          | 0/29 [00:00<?, ? Segments/s]\u001b[A\n",
            "Aligning LSi-o-IrDMs:  76%|███████▌  | 22/29 [00:00<00:00, 216.91 Segments/s]\u001b[A\n",
            "Overall Progress:  39%|███▉      | 36/92 [00:04<00:06,  8.15 Computational Sequence Entries/s]\n",
            "  0%|          | 0/18 [00:00<?, ? Segments/s]\u001b[A\n",
            "Aligning MLal-t_vJPM:   0%|          | 0/18 [00:00<?, ? Segments/s]\u001b[A\n",
            "                                                                   \u001b[A\n",
            "  0%|          | 0/13 [00:00<?, ? Segments/s]\u001b[A\n",
            "Aligning Njd1F0vZSm4:   0%|          | 0/13 [00:00<?, ? Segments/s]\u001b[A\n",
            "Overall Progress:  41%|████▏     | 38/92 [00:04<00:05,  9.38 Computational Sequence Entries/s]\n",
            "  0%|          | 0/32 [00:00<?, ? Segments/s]\u001b[A\n",
            "Aligning Nzq88NnDkEk:   0%|          | 0/32 [00:00<?, ? Segments/s]\u001b[A\n",
            "Aligning Nzq88NnDkEk:  59%|█████▉    | 19/32 [00:00<00:00, 187.65 Segments/s]\u001b[A\n",
            "Overall Progress:  42%|████▏     | 39/92 [00:05<00:06,  8.38 Computational Sequence Entries/s]\n",
            "  0%|          | 0/16 [00:00<?, ? Segments/s]\u001b[A\n",
            "Aligning OQvJTdtJ2H4:   0%|          | 0/16 [00:00<?, ? Segments/s]\u001b[A\n",
            "                                                                   \u001b[A\n",
            "  0%|          | 0/24 [00:00<?, ? Segments/s]\u001b[A\n",
            "Aligning OtBXNcAL_lE:   0%|          | 0/24 [00:00<?, ? Segments/s]\u001b[A\n",
            "Aligning OtBXNcAL_lE:  96%|█████████▌| 23/24 [00:00<00:00, 228.93 Segments/s]\u001b[A\n",
            "Overall Progress:  45%|████▍     | 41/92 [00:05<00:05,  8.64 Computational Sequence Entries/s]\n",
            "  0%|          | 0/25 [00:00<?, ? Segments/s]\u001b[A\n",
            "Aligning Oz06ZWiO20M:   0%|          | 0/25 [00:00<?, ? Segments/s]\u001b[A\n",
            "Aligning Oz06ZWiO20M:  84%|████████▍ | 21/25 [00:00<00:00, 207.54 Segments/s]\u001b[A\n",
            "Overall Progress:  46%|████▌     | 42/92 [00:05<00:06,  8.29 Computational Sequence Entries/s]\n",
            "  0%|          | 0/13 [00:00<?, ? Segments/s]\u001b[A\n",
            "Aligning POKffnXeBds:   0%|          | 0/13 [00:00<?, ? Segments/s]\u001b[A\n",
            "                                                                   \u001b[A\n",
            "  0%|          | 0/12 [00:00<?, ? Segments/s]\u001b[A\n",
            "Aligning PZ-lDQFboO8:   0%|          | 0/12 [00:00<?, ? Segments/s]\u001b[A\n",
            "Overall Progress:  48%|████▊     | 44/92 [00:05<00:04,  9.97 Computational Sequence Entries/s]\n",
            "  0%|          | 0/18 [00:00<?, ? Segments/s]\u001b[A\n",
            "Aligning QN9ZIUWUXsY:   0%|          | 0/18 [00:00<?, ? Segments/s]\u001b[A\n",
            "                                                                   \u001b[A\n",
            "  0%|          | 0/14 [00:00<?, ? Segments/s]\u001b[A\n",
            "Aligning Qr1Ca94K55A:   0%|          | 0/14 [00:00<?, ? Segments/s]\u001b[A\n",
            "Overall Progress:  50%|█████     | 46/92 [00:05<00:04, 10.33 Computational Sequence Entries/s]\n",
            "  0%|          | 0/22 [00:00<?, ? Segments/s]\u001b[A\n",
            "Aligning Sqr0AcuoNnk:   0%|          | 0/22 [00:00<?, ? Segments/s]\u001b[A\n",
            "Aligning Sqr0AcuoNnk:  86%|████████▋ | 19/22 [00:00<00:00, 186.75 Segments/s]\u001b[A\n",
            "                                                                             \u001b[A\n",
            "  0%|          | 0/15 [00:00<?, ? Segments/s]\u001b[A\n",
            "Aligning TvyZBvOMOTc:   0%|          | 0/15 [00:00<?, ? Segments/s]\u001b[A\n",
            "Overall Progress:  52%|█████▏    | 48/92 [00:06<00:04,  9.83 Computational Sequence Entries/s]\n",
            "  0%|          | 0/17 [00:00<?, ? Segments/s]\u001b[A\n",
            "Aligning VCslbP0mgZI:   0%|          | 0/17 [00:00<?, ? Segments/s]\u001b[A\n",
            "                                                                   \u001b[A\n",
            "  0%|          | 0/55 [00:00<?, ? Segments/s]\u001b[A\n",
            "Aligning VbQk4H8hgr0:   0%|          | 0/55 [00:00<?, ? Segments/s]\u001b[A\n",
            "Aligning VbQk4H8hgr0:  42%|████▏     | 23/55 [00:00<00:00, 228.96 Segments/s]\u001b[A\n",
            "Aligning VbQk4H8hgr0:  84%|████████▎ | 46/55 [00:00<00:00, 227.12 Segments/s]\u001b[A\n",
            "Overall Progress:  54%|█████▍    | 50/92 [00:06<00:05,  7.66 Computational Sequence Entries/s]\n",
            "  0%|          | 0/9 [00:00<?, ? Segments/s]\u001b[A\n",
            "Aligning Vj1wYRQjB-o:   0%|          | 0/9 [00:00<?, ? Segments/s]\u001b[A\n",
            "                                                                  \u001b[A\n",
            "  0%|          | 0/32 [00:00<?, ? Segments/s]\u001b[A\n",
            "Aligning W8NXH0Djyww:   0%|          | 0/32 [00:00<?, ? Segments/s]\u001b[A\n",
            "Aligning W8NXH0Djyww:  72%|███████▏  | 23/32 [00:00<00:00, 224.88 Segments/s]\u001b[A\n",
            "Overall Progress:  57%|█████▋    | 52/92 [00:06<00:04,  8.02 Computational Sequence Entries/s]\n",
            "  0%|          | 0/22 [00:00<?, ? Segments/s]\u001b[A\n",
            "Aligning WKA5OygbEKI:   0%|          | 0/22 [00:00<?, ? Segments/s]\u001b[A\n",
            "Aligning WKA5OygbEKI: 100%|██████████| 22/22 [00:00<00:00, 215.23 Segments/s]\u001b[A\n",
            "Overall Progress:  58%|█████▊    | 53/92 [00:06<00:04,  7.94 Computational Sequence Entries/s]\n",
            "  0%|          | 0/11 [00:00<?, ? Segments/s]\u001b[A\n",
            "Aligning X3j2zQgwYgE:   0%|          | 0/11 [00:00<?, ? Segments/s]\u001b[A\n",
            "                                                                   \u001b[A\n",
            "  0%|          | 0/9 [00:00<?, ? Segments/s]\u001b[A\n",
            "Aligning ZAIRrfG22O0:   0%|          | 0/9 [00:00<?, ? Segments/s]\u001b[A\n",
            "Overall Progress:  60%|█████▉    | 55/92 [00:06<00:03,  9.44 Computational Sequence Entries/s]\n",
            "  0%|          | 0/34 [00:00<?, ? Segments/s]\u001b[A\n",
            "Aligning ZUXBRvtny7o:   0%|          | 0/34 [00:00<?, ? Segments/s]\u001b[A\n",
            "Aligning ZUXBRvtny7o:  65%|██████▍   | 22/34 [00:00<00:00, 213.81 Segments/s]\u001b[A\n",
            "                                                                             \u001b[A\n",
            "  0%|          | 0/28 [00:00<?, ? Segments/s]\u001b[A\n",
            "Aligning _dI--eQ6qVU:   0%|          | 0/28 [00:00<?, ? Segments/s]\u001b[A\n",
            "Aligning _dI--eQ6qVU:  71%|███████▏  | 20/28 [00:00<00:00, 199.60 Segments/s]\u001b[A\n",
            "Overall Progress:  62%|██████▏   | 57/92 [00:07<00:04,  7.83 Computational Sequence Entries/s]\n",
            "  0%|          | 0/30 [00:00<?, ? Segments/s]\u001b[A\n",
            "Aligning aiEXnCPZubE:   0%|          | 0/30 [00:00<?, ? Segments/s]\u001b[A\n",
            "Aligning aiEXnCPZubE:  80%|████████  | 24/30 [00:00<00:00, 233.67 Segments/s]\u001b[A\n",
            "Overall Progress:  63%|██████▎   | 58/92 [00:07<00:04,  7.56 Computational Sequence Entries/s]\n",
            "  0%|          | 0/21 [00:00<?, ? Segments/s]\u001b[A\n",
            "Aligning atnd_PF-Lbs:   0%|          | 0/21 [00:00<?, ? Segments/s]\u001b[A\n",
            "Overall Progress:  64%|██████▍   | 59/92 [00:07<00:04,  7.78 Computational Sequence Entries/s]\n",
            "  0%|          | 0/34 [00:00<?, ? Segments/s]\u001b[A\n",
            "Aligning bOL9jKpeJRs:   0%|          | 0/34 [00:00<?, ? Segments/s]\u001b[A\n",
            "Aligning bOL9jKpeJRs:  74%|███████▎  | 25/34 [00:00<00:00, 246.26 Segments/s]\u001b[A\n",
            "Overall Progress:  65%|██████▌   | 60/92 [00:07<00:04,  7.33 Computational Sequence Entries/s]\n",
            "  0%|          | 0/25 [00:00<?, ? Segments/s]\u001b[A\n",
            "Aligning bvLlb-M3UXU:   0%|          | 0/25 [00:00<?, ? Segments/s]\u001b[A\n",
            "Aligning bvLlb-M3UXU:  80%|████████  | 20/25 [00:00<00:00, 192.05 Segments/s]\u001b[A\n",
            "Overall Progress:  66%|██████▋   | 61/92 [00:07<00:04,  7.22 Computational Sequence Entries/s]\n",
            "  0%|          | 0/33 [00:00<?, ? Segments/s]\u001b[A\n",
            "Aligning c7UH_rxdZv4:   0%|          | 0/33 [00:00<?, ? Segments/s]\u001b[A\n",
            "Aligning c7UH_rxdZv4:  64%|██████▎   | 21/33 [00:00<00:00, 204.20 Segments/s]\u001b[A\n",
            "Overall Progress:  67%|██████▋   | 62/92 [00:08<00:04,  6.82 Computational Sequence Entries/s]\n",
            "  0%|          | 0/16 [00:00<?, ? Segments/s]\u001b[A\n",
            "Aligning cM3Yna7AavY:   0%|          | 0/16 [00:00<?, ? Segments/s]\u001b[A\n",
            "                                                                   \u001b[A\n",
            "  0%|          | 0/24 [00:00<?, ? Segments/s]\u001b[A\n",
            "Aligning cW1FSBF59ik:   0%|          | 0/24 [00:00<?, ? Segments/s]\u001b[A\n",
            "Aligning cW1FSBF59ik:  71%|███████   | 17/24 [00:00<00:00, 169.33 Segments/s]\u001b[A\n",
            "Overall Progress:  70%|██████▉   | 64/92 [00:08<00:03,  7.40 Computational Sequence Entries/s]\n",
            "  0%|          | 0/29 [00:00<?, ? Segments/s]\u001b[A\n",
            "Aligning cXypl4FnoZo:   0%|          | 0/29 [00:00<?, ? Segments/s]\u001b[A\n",
            "Aligning cXypl4FnoZo:  72%|███████▏  | 21/29 [00:00<00:00, 200.18 Segments/s]\u001b[A\n",
            "Overall Progress:  71%|███████   | 65/92 [00:08<00:03,  6.95 Computational Sequence Entries/s]\n",
            "  0%|          | 0/19 [00:00<?, ? Segments/s]\u001b[A\n",
            "Aligning d3_k5Xpfmik:   0%|          | 0/19 [00:00<?, ? Segments/s]\u001b[A\n",
            "Overall Progress:  72%|███████▏  | 66/92 [00:08<00:03,  7.37 Computational Sequence Entries/s]\n",
            "  0%|          | 0/43 [00:00<?, ? Segments/s]\u001b[A\n",
            "Aligning d6hH302o4v8:   0%|          | 0/43 [00:00<?, ? Segments/s]\u001b[A\n",
            "Aligning d6hH302o4v8:  58%|█████▊    | 25/43 [00:00<00:00, 244.46 Segments/s]\u001b[A\n",
            "Overall Progress:  73%|███████▎  | 67/92 [00:08<00:03,  6.62 Computational Sequence Entries/s]\n",
            "  0%|          | 0/15 [00:00<?, ? Segments/s]\u001b[A\n",
            "Aligning dq3Nf_lMPnE:   0%|          | 0/15 [00:00<?, ? Segments/s]\u001b[A\n",
            "                                                                   \u001b[A\n",
            "  0%|          | 0/19 [00:00<?, ? Segments/s]\u001b[A\n",
            "Aligning etzxEpPuc6I:   0%|          | 0/19 [00:00<?, ? Segments/s]\u001b[A\n",
            "Overall Progress:  75%|███████▌  | 69/92 [00:08<00:02,  7.72 Computational Sequence Entries/s]\n",
            "  0%|          | 0/30 [00:00<?, ? Segments/s]\u001b[A\n",
            "Aligning f9O3YtZ2VfI:   0%|          | 0/30 [00:00<?, ? Segments/s]\u001b[A\n",
            "Aligning f9O3YtZ2VfI:  77%|███████▋  | 23/30 [00:00<00:00, 229.41 Segments/s]\u001b[A\n",
            "Overall Progress:  76%|███████▌  | 70/92 [00:09<00:02,  7.45 Computational Sequence Entries/s]\n",
            "  0%|          | 0/15 [00:00<?, ? Segments/s]\u001b[A\n",
            "Aligning f_pcplsH_V0:   0%|          | 0/15 [00:00<?, ? Segments/s]\u001b[A\n",
            "Overall Progress:  77%|███████▋  | 71/92 [00:09<00:02,  7.95 Computational Sequence Entries/s]\n",
            "  0%|          | 0/14 [00:00<?, ? Segments/s]\u001b[A\n",
            "Aligning fvVhgmXxadc:   0%|          | 0/14 [00:00<?, ? Segments/s]\u001b[A\n",
            "Overall Progress:  78%|███████▊  | 72/92 [00:09<00:02,  8.33 Computational Sequence Entries/s]\n",
            "  0%|          | 0/18 [00:00<?, ? Segments/s]\u001b[A\n",
            "Aligning iiK8YX8oH1E:   0%|          | 0/18 [00:00<?, ? Segments/s]\u001b[A\n",
            "                                                                   \u001b[A\n",
            "  0%|          | 0/27 [00:00<?, ? Segments/s]\u001b[A\n",
            "Aligning jUzDDGyPkXU:   0%|          | 0/27 [00:00<?, ? Segments/s]\u001b[A\n",
            "Aligning jUzDDGyPkXU:  85%|████████▌ | 23/27 [00:00<00:00, 228.63 Segments/s]\u001b[A\n",
            "Overall Progress:  80%|████████  | 74/92 [00:09<00:02,  8.44 Computational Sequence Entries/s]\n",
            "  0%|          | 0/31 [00:00<?, ? Segments/s]\u001b[A\n",
            "Aligning k5Y_838nuGo:   0%|          | 0/31 [00:00<?, ? Segments/s]\u001b[A\n",
            "Aligning k5Y_838nuGo:  77%|███████▋  | 24/31 [00:00<00:00, 233.77 Segments/s]\u001b[A\n",
            "Overall Progress:  82%|████████▏ | 75/92 [00:09<00:02,  7.72 Computational Sequence Entries/s]\n",
            "  0%|          | 0/30 [00:00<?, ? Segments/s]\u001b[A\n",
            "Aligning lXPQBPVc5Cw:   0%|          | 0/30 [00:00<?, ? Segments/s]\u001b[A\n",
            "Aligning lXPQBPVc5Cw:  50%|█████     | 15/30 [00:00<00:00, 149.80 Segments/s]\u001b[A\n",
            "Overall Progress:  83%|████████▎ | 76/92 [00:09<00:02,  6.83 Computational Sequence Entries/s]\n",
            "  0%|          | 0/10 [00:00<?, ? Segments/s]\u001b[A\n",
            "Aligning nbWiPyCm4g0:   0%|          | 0/10 [00:00<?, ? Segments/s]\u001b[A\n",
            "                                                                   \u001b[A\n",
            "  0%|          | 0/24 [00:00<?, ? Segments/s]\u001b[A\n",
            "Aligning nzpVDcQ0ywM:   0%|          | 0/24 [00:00<?, ? Segments/s]\u001b[A\n",
            "Aligning nzpVDcQ0ywM:  83%|████████▎ | 20/24 [00:00<00:00, 199.99 Segments/s]\u001b[A\n",
            "Overall Progress:  85%|████████▍ | 78/92 [00:10<00:01,  7.61 Computational Sequence Entries/s]\n",
            "  0%|          | 0/14 [00:00<?, ? Segments/s]\u001b[A\n",
            "Aligning ob23OKe5a9Q:   0%|          | 0/14 [00:00<?, ? Segments/s]\u001b[A\n",
            "                                                                   \u001b[A\n",
            "  0%|          | 0/16 [00:00<?, ? Segments/s]\u001b[A\n",
            "Aligning pLTX3ipuDJI:   0%|          | 0/16 [00:00<?, ? Segments/s]\u001b[A\n",
            "Overall Progress:  87%|████████▋ | 80/92 [00:10<00:01,  8.36 Computational Sequence Entries/s]\n",
            "  0%|          | 0/21 [00:00<?, ? Segments/s]\u001b[A\n",
            "Aligning phBUpBr1hSo:   0%|          | 0/21 [00:00<?, ? Segments/s]\u001b[A\n",
            "Aligning phBUpBr1hSo:  86%|████████▌ | 18/21 [00:00<00:00, 176.59 Segments/s]\u001b[A\n",
            "Overall Progress:  88%|████████▊ | 81/92 [00:10<00:01,  7.94 Computational Sequence Entries/s]\n",
            "  0%|          | 0/22 [00:00<?, ? Segments/s]\u001b[A\n",
            "Aligning rnaNMUZpvvg:   0%|          | 0/22 [00:00<?, ? Segments/s]\u001b[A\n",
            "Aligning rnaNMUZpvvg:  91%|█████████ | 20/22 [00:00<00:00, 194.01 Segments/s]\u001b[A\n",
            "Overall Progress:  89%|████████▉ | 82/92 [00:10<00:01,  7.66 Computational Sequence Entries/s]\n",
            "  0%|          | 0/18 [00:00<?, ? Segments/s]\u001b[A\n",
            "Aligning tIrG4oNLFzE:   0%|          | 0/18 [00:00<?, ? Segments/s]\u001b[A\n",
            "Aligning tIrG4oNLFzE: 100%|██████████| 18/18 [00:00<00:00, 179.97 Segments/s]\u001b[A\n",
            "Overall Progress:  90%|█████████ | 83/92 [00:10<00:01,  7.61 Computational Sequence Entries/s]\n",
            "  0%|          | 0/16 [00:00<?, ? Segments/s]\u001b[A\n",
            "Aligning tStelxIAHjw:   0%|          | 0/16 [00:00<?, ? Segments/s]\u001b[A\n",
            "Overall Progress:  91%|█████████▏| 84/92 [00:10<00:01,  8.00 Computational Sequence Entries/s]\n",
            "  0%|          | 0/20 [00:00<?, ? Segments/s]\u001b[A\n",
            "Aligning tmZoasNr4rU:   0%|          | 0/20 [00:00<?, ? Segments/s]\u001b[A\n",
            "Aligning tmZoasNr4rU:  95%|█████████▌| 19/20 [00:00<00:00, 183.60 Segments/s]\u001b[A\n",
            "Overall Progress:  92%|█████████▏| 85/92 [00:10<00:00,  7.65 Computational Sequence Entries/s]\n",
            "  0%|          | 0/16 [00:00<?, ? Segments/s]\u001b[A\n",
            "Aligning v0zCBqDeKcE:   0%|          | 0/16 [00:00<?, ? Segments/s]\u001b[A\n",
            "Overall Progress:  93%|█████████▎| 86/92 [00:11<00:00,  7.99 Computational Sequence Entries/s]\n",
            "  0%|          | 0/12 [00:00<?, ? Segments/s]\u001b[A\n",
            "Aligning vvZ4IcEtiZc:   0%|          | 0/12 [00:00<?, ? Segments/s]\u001b[A\n",
            "                                                                   \u001b[A\n",
            "  0%|          | 0/22 [00:00<?, ? Segments/s]\u001b[A\n",
            "Aligning vyB00TXsimI:   0%|          | 0/22 [00:00<?, ? Segments/s]\u001b[A\n",
            "Aligning vyB00TXsimI:  86%|████████▋ | 19/22 [00:00<00:00, 183.45 Segments/s]\u001b[A\n",
            "Overall Progress:  96%|█████████▌| 88/92 [00:11<00:00,  8.27 Computational Sequence Entries/s]\n",
            "  0%|          | 0/30 [00:00<?, ? Segments/s]\u001b[A\n",
            "Aligning wMbj6ajWbic:   0%|          | 0/30 [00:00<?, ? Segments/s]\u001b[A\n",
            "Aligning wMbj6ajWbic:  70%|███████   | 21/30 [00:00<00:00, 208.05 Segments/s]\u001b[A\n",
            "Overall Progress:  97%|█████████▋| 89/92 [00:11<00:00,  7.73 Computational Sequence Entries/s]\n",
            "  0%|          | 0/24 [00:00<?, ? Segments/s]\u001b[A\n",
            "Aligning yDtzw_Y-7RU:   0%|          | 0/24 [00:00<?, ? Segments/s]\u001b[A\n",
            "Aligning yDtzw_Y-7RU:  79%|███████▉  | 19/24 [00:00<00:00, 189.82 Segments/s]\u001b[A\n",
            "Overall Progress:  98%|█████████▊| 90/92 [00:11<00:00,  7.55 Computational Sequence Entries/s]\n",
            "  0%|          | 0/23 [00:00<?, ? Segments/s]\u001b[A\n",
            "Aligning yvsjCA6Y5Fc:   0%|          | 0/23 [00:00<?, ? Segments/s]\u001b[A\n",
            "Aligning yvsjCA6Y5Fc:  74%|███████▍  | 17/23 [00:00<00:00, 166.88 Segments/s]\u001b[A\n",
            "Overall Progress:  99%|█████████▉| 91/92 [00:11<00:00,  7.16 Computational Sequence Entries/s]\n",
            "  0%|          | 0/35 [00:00<?, ? Segments/s]\u001b[A\n",
            "Aligning zhpQhgha_KU:   0%|          | 0/35 [00:00<?, ? Segments/s]\u001b[A\n",
            "Aligning zhpQhgha_KU:  63%|██████▎   | 22/35 [00:00<00:00, 215.85 Segments/s]\u001b[A\n"
          ]
        },
        {
          "output_type": "stream",
          "name": "stdout",
          "text": [
            "\u001b[92m\u001b[1m[2022-02-26 12:18:03.248] | Success | \u001b[0mAlignment to <Opinion Segment Labels> complete.\n",
            "\u001b[94m\u001b[1m[2022-02-26 12:18:03.248] | Status  | \u001b[0mReplacing dataset content with aligned computational sequences\n",
            "\u001b[92m\u001b[1m[2022-02-26 12:18:03.280] | Success | \u001b[0mInitialized empty <glove_vectors> computational sequence.\n",
            "\u001b[94m\u001b[1m[2022-02-26 12:18:03.280] | Status  | \u001b[0mChecking the format of the data in <glove_vectors> computational sequence ...\n"
          ]
        },
        {
          "output_type": "stream",
          "name": "stderr",
          "text": [
            ""
          ]
        },
        {
          "output_type": "stream",
          "name": "stdout",
          "text": [
            "\u001b[92m\u001b[1m[2022-02-26 12:18:03.293] | Success | \u001b[0m<glove_vectors> computational sequence data in correct format.\n",
            "\u001b[94m\u001b[1m[2022-02-26 12:18:03.294] | Status  | \u001b[0mChecking the format of the metadata in <glove_vectors> computational sequence ...\n",
            "\u001b[93m\u001b[1m[2022-02-26 12:18:03.294] | Warning | \u001b[0m<glove_vectors> computational sequence does not have all the required metadata ... continuing \n",
            "\u001b[92m\u001b[1m[2022-02-26 12:18:03.294] | Success | \u001b[0mInitialized empty <FACET_4.1> computational sequence.\n",
            "\u001b[94m\u001b[1m[2022-02-26 12:18:03.294] | Status  | \u001b[0mChecking the format of the data in <FACET_4.1> computational sequence ...\n"
          ]
        },
        {
          "output_type": "stream",
          "name": "stderr",
          "text": [
            ""
          ]
        },
        {
          "output_type": "stream",
          "name": "stdout",
          "text": [
            "\u001b[92m\u001b[1m[2022-02-26 12:18:03.309] | Success | \u001b[0m<FACET_4.1> computational sequence data in correct format.\n",
            "\u001b[94m\u001b[1m[2022-02-26 12:18:03.309] | Status  | \u001b[0mChecking the format of the metadata in <FACET_4.1> computational sequence ...\n",
            "\u001b[93m\u001b[1m[2022-02-26 12:18:03.309] | Warning | \u001b[0m<FACET_4.1> computational sequence does not have all the required metadata ... continuing \n",
            "\u001b[92m\u001b[1m[2022-02-26 12:18:03.309] | Success | \u001b[0mInitialized empty <FACET_4.2> computational sequence.\n",
            "\u001b[94m\u001b[1m[2022-02-26 12:18:03.309] | Status  | \u001b[0mChecking the format of the data in <FACET_4.2> computational sequence ...\n"
          ]
        },
        {
          "output_type": "stream",
          "name": "stderr",
          "text": [
            ""
          ]
        },
        {
          "output_type": "stream",
          "name": "stdout",
          "text": [
            "\u001b[92m\u001b[1m[2022-02-26 12:18:03.329] | Success | \u001b[0m<FACET_4.2> computational sequence data in correct format.\n",
            "\u001b[94m\u001b[1m[2022-02-26 12:18:03.329] | Status  | \u001b[0mChecking the format of the metadata in <FACET_4.2> computational sequence ...\n",
            "\u001b[93m\u001b[1m[2022-02-26 12:18:03.329] | Warning | \u001b[0m<FACET_4.2> computational sequence does not have all the required metadata ... continuing \n",
            "\u001b[92m\u001b[1m[2022-02-26 12:18:03.329] | Success | \u001b[0mInitialized empty <OpenSmile-emobase2010> computational sequence.\n",
            "\u001b[94m\u001b[1m[2022-02-26 12:18:03.329] | Status  | \u001b[0mChecking the format of the data in <OpenSmile-emobase2010> computational sequence ...\n"
          ]
        },
        {
          "output_type": "stream",
          "name": "stderr",
          "text": [
            ""
          ]
        },
        {
          "output_type": "stream",
          "name": "stdout",
          "text": [
            "\u001b[92m\u001b[1m[2022-02-26 12:18:03.345] | Success | \u001b[0m<OpenSmile-emobase2010> computational sequence data in correct format.\n",
            "\u001b[94m\u001b[1m[2022-02-26 12:18:03.345] | Status  | \u001b[0mChecking the format of the metadata in <OpenSmile-emobase2010> computational sequence ...\n",
            "\u001b[93m\u001b[1m[2022-02-26 12:18:03.345] | Warning | \u001b[0m<OpenSmile-emobase2010> computational sequence does not have all the required metadata ... continuing \n",
            "\u001b[92m\u001b[1m[2022-02-26 12:18:03.345] | Success | \u001b[0mInitialized empty <OpenSMILE> computational sequence.\n",
            "\u001b[94m\u001b[1m[2022-02-26 12:18:03.345] | Status  | \u001b[0mChecking the format of the data in <OpenSMILE> computational sequence ...\n"
          ]
        },
        {
          "output_type": "stream",
          "name": "stderr",
          "text": [
            ""
          ]
        },
        {
          "output_type": "stream",
          "name": "stdout",
          "text": [
            "\u001b[92m\u001b[1m[2022-02-26 12:18:03.361] | Success | \u001b[0m<OpenSMILE> computational sequence data in correct format.\n",
            "\u001b[94m\u001b[1m[2022-02-26 12:18:03.361] | Status  | \u001b[0mChecking the format of the metadata in <OpenSMILE> computational sequence ...\n",
            "\u001b[93m\u001b[1m[2022-02-26 12:18:03.361] | Warning | \u001b[0m<OpenSMILE> computational sequence does not have all the required metadata ... continuing \n",
            "\u001b[92m\u001b[1m[2022-02-26 12:18:03.361] | Success | \u001b[0mInitialized empty <OpenFace_1> computational sequence.\n",
            "\u001b[94m\u001b[1m[2022-02-26 12:18:03.361] | Status  | \u001b[0mChecking the format of the data in <OpenFace_1> computational sequence ...\n"
          ]
        },
        {
          "output_type": "stream",
          "name": "stderr",
          "text": [
            ""
          ]
        },
        {
          "output_type": "stream",
          "name": "stdout",
          "text": [
            "\u001b[92m\u001b[1m[2022-02-26 12:18:03.387] | Success | \u001b[0m<OpenFace_1> computational sequence data in correct format.\n",
            "\u001b[94m\u001b[1m[2022-02-26 12:18:03.388] | Status  | \u001b[0mChecking the format of the metadata in <OpenFace_1> computational sequence ...\n",
            "\u001b[93m\u001b[1m[2022-02-26 12:18:03.388] | Warning | \u001b[0m<OpenFace_1> computational sequence does not have all the required metadata ... continuing \n",
            "\u001b[92m\u001b[1m[2022-02-26 12:18:03.388] | Success | \u001b[0mInitialized empty <OpenFace_2> computational sequence.\n",
            "\u001b[94m\u001b[1m[2022-02-26 12:18:03.388] | Status  | \u001b[0mChecking the format of the data in <OpenFace_2> computational sequence ...\n"
          ]
        },
        {
          "output_type": "stream",
          "name": "stderr",
          "text": [
            ""
          ]
        },
        {
          "output_type": "stream",
          "name": "stdout",
          "text": [
            "\u001b[92m\u001b[1m[2022-02-26 12:18:03.393] | Success | \u001b[0m<OpenFace_2> computational sequence data in correct format.\n",
            "\u001b[94m\u001b[1m[2022-02-26 12:18:03.393] | Status  | \u001b[0mChecking the format of the metadata in <OpenFace_2> computational sequence ...\n",
            "\u001b[93m\u001b[1m[2022-02-26 12:18:03.393] | Warning | \u001b[0m<OpenFace_2> computational sequence does not have all the required metadata ... continuing \n",
            "\u001b[92m\u001b[1m[2022-02-26 12:18:03.393] | Success | \u001b[0mInitialized empty <COVAREP> computational sequence.\n",
            "\u001b[94m\u001b[1m[2022-02-26 12:18:03.393] | Status  | \u001b[0mChecking the format of the data in <COVAREP> computational sequence ...\n"
          ]
        },
        {
          "output_type": "stream",
          "name": "stderr",
          "text": [
            ""
          ]
        },
        {
          "output_type": "stream",
          "name": "stdout",
          "text": [
            "\u001b[92m\u001b[1m[2022-02-26 12:18:03.418] | Success | \u001b[0m<COVAREP> computational sequence data in correct format.\n",
            "\u001b[94m\u001b[1m[2022-02-26 12:18:03.418] | Status  | \u001b[0mChecking the format of the metadata in <COVAREP> computational sequence ...\n",
            "\u001b[93m\u001b[1m[2022-02-26 12:18:03.418] | Warning | \u001b[0m<COVAREP> computational sequence does not have all the required metadata ... continuing \n",
            "\u001b[92m\u001b[1m[2022-02-26 12:18:03.418] | Success | \u001b[0mInitialized empty <Opinion Segment Labels> computational sequence.\n",
            "\u001b[94m\u001b[1m[2022-02-26 12:18:03.418] | Status  | \u001b[0mChecking the format of the data in <Opinion Segment Labels> computational sequence ...\n"
          ]
        },
        {
          "output_type": "stream",
          "name": "stderr",
          "text": [
            ""
          ]
        },
        {
          "output_type": "stream",
          "name": "stdout",
          "text": [
            "\u001b[92m\u001b[1m[2022-02-26 12:18:03.436] | Success | \u001b[0m<Opinion Segment Labels> computational sequence data in correct format.\n",
            "\u001b[94m\u001b[1m[2022-02-26 12:18:03.436] | Status  | \u001b[0mChecking the format of the metadata in <Opinion Segment Labels> computational sequence ...\n",
            "\u001b[93m\u001b[1m[2022-02-26 12:18:03.436] | Warning | \u001b[0m<Opinion Segment Labels> computational sequence does not have all the required metadata ... continuing \n"
          ]
        }
      ],
      "source": [
        "cmumosi_highlevel.align('Opinion Segment Labels')"
      ]
    },
    {
      "cell_type": "markdown",
      "metadata": {
        "id": "tb_mRA80XoPi"
      },
      "source": [
        "## Lecture des labels"
      ]
    },
    {
      "cell_type": "code",
      "execution_count": null,
      "metadata": {
        "id": "6cY5CB82XoPj",
        "colab": {
          "base_uri": "https://localhost:8080/"
        },
        "outputId": "119a1163-0687-49d5-d10b-4aef27691f38"
      },
      "outputs": [
        {
          "output_type": "stream",
          "name": "stdout",
          "text": [
            "Opinion Segment Labels\n",
            "Opinion Segment Labels/data\n",
            "Opinion Segment Labels/data/03bSnISJMiM\n",
            "Opinion Segment Labels/data/03bSnISJMiM/features\n",
            "Opinion Segment Labels/data/03bSnISJMiM/intervals\n",
            "Opinion Segment Labels/data/0h-zjBukYpk\n",
            "Opinion Segment Labels/data/0h-zjBukYpk/features\n",
            "Opinion Segment Labels/data/0h-zjBukYpk/intervals\n",
            "Opinion Segment Labels/data/1DmNV9C1hbY\n",
            "Opinion Segment Labels/data/1DmNV9C1hbY/features\n",
            "Opinion Segment Labels/data/1DmNV9C1hbY/intervals\n",
            "Opinion Segment Labels/data/1iG0909rllw\n",
            "Opinion Segment Labels/data/1iG0909rllw/features\n",
            "Opinion Segment Labels/data/1iG0909rllw/intervals\n",
            "Opinion Segment Labels/data/2WGyTLYerpo\n",
            "Opinion Segment Labels/data/2WGyTLYerpo/features\n",
            "Opinion Segment Labels/data/2WGyTLYerpo/intervals\n",
            "Opinion Segment Labels/data/2iD-tVS8NPw\n",
            "Opinion Segment Labels/data/2iD-tVS8NPw/features\n",
            "Opinion Segment Labels/data/2iD-tVS8NPw/intervals\n",
            "Opinion Segment Labels/data/5W7Z1C_fDaE\n",
            "Opinion Segment Labels/data/5W7Z1C_fDaE/features\n",
            "Opinion Segment Labels/data/5W7Z1C_fDaE/intervals\n",
            "Opinion Segment Labels/data/6Egk_28TtTM\n",
            "Opinion Segment Labels/data/6Egk_28TtTM/features\n",
            "Opinion Segment Labels/data/6Egk_28TtTM/intervals\n",
            "Opinion Segment Labels/data/6_0THN4chvY\n",
            "Opinion Segment Labels/data/6_0THN4chvY/features\n",
            "Opinion Segment Labels/data/6_0THN4chvY/intervals\n",
            "Opinion Segment Labels/data/73jzhE8R1TQ\n",
            "Opinion Segment Labels/data/73jzhE8R1TQ/features\n",
            "Opinion Segment Labels/data/73jzhE8R1TQ/intervals\n",
            "Opinion Segment Labels/data/7JsX8y1ysxY\n",
            "Opinion Segment Labels/data/7JsX8y1ysxY/features\n",
            "Opinion Segment Labels/data/7JsX8y1ysxY/intervals\n",
            "Opinion Segment Labels/data/8OtFthrtaJM\n",
            "Opinion Segment Labels/data/8OtFthrtaJM/features\n",
            "Opinion Segment Labels/data/8OtFthrtaJM/intervals\n",
            "Opinion Segment Labels/data/8d-gEyoeBzc\n",
            "Opinion Segment Labels/data/8d-gEyoeBzc/features\n",
            "Opinion Segment Labels/data/8d-gEyoeBzc/intervals\n",
            "Opinion Segment Labels/data/8qrpnFRGt2A\n",
            "Opinion Segment Labels/data/8qrpnFRGt2A/features\n",
            "Opinion Segment Labels/data/8qrpnFRGt2A/intervals\n",
            "Opinion Segment Labels/data/9J25DZhivz8\n",
            "Opinion Segment Labels/data/9J25DZhivz8/features\n",
            "Opinion Segment Labels/data/9J25DZhivz8/intervals\n",
            "Opinion Segment Labels/data/9T9Hf74oK10\n",
            "Opinion Segment Labels/data/9T9Hf74oK10/features\n",
            "Opinion Segment Labels/data/9T9Hf74oK10/intervals\n",
            "Opinion Segment Labels/data/9c67fiY0wGQ\n",
            "Opinion Segment Labels/data/9c67fiY0wGQ/features\n",
            "Opinion Segment Labels/data/9c67fiY0wGQ/intervals\n",
            "Opinion Segment Labels/data/9qR7uwkblbs\n",
            "Opinion Segment Labels/data/9qR7uwkblbs/features\n",
            "Opinion Segment Labels/data/9qR7uwkblbs/intervals\n",
            "Opinion Segment Labels/data/Af8D0E4ZXaw\n",
            "Opinion Segment Labels/data/Af8D0E4ZXaw/features\n",
            "Opinion Segment Labels/data/Af8D0E4ZXaw/intervals\n",
            "Opinion Segment Labels/data/BI97DNYfe5I\n",
            "Opinion Segment Labels/data/BI97DNYfe5I/features\n",
            "Opinion Segment Labels/data/BI97DNYfe5I/intervals\n",
            "Opinion Segment Labels/data/BXuRRbG0Ugk\n",
            "Opinion Segment Labels/data/BXuRRbG0Ugk/features\n",
            "Opinion Segment Labels/data/BXuRRbG0Ugk/intervals\n",
            "Opinion Segment Labels/data/Bfr499ggo-0\n",
            "Opinion Segment Labels/data/Bfr499ggo-0/features\n",
            "Opinion Segment Labels/data/Bfr499ggo-0/intervals\n",
            "Opinion Segment Labels/data/BioHAh1qJAQ\n",
            "Opinion Segment Labels/data/BioHAh1qJAQ/features\n",
            "Opinion Segment Labels/data/BioHAh1qJAQ/intervals\n",
            "Opinion Segment Labels/data/BvYR0L6f2Ig\n",
            "Opinion Segment Labels/data/BvYR0L6f2Ig/features\n",
            "Opinion Segment Labels/data/BvYR0L6f2Ig/intervals\n",
            "Opinion Segment Labels/data/Ci-AH39fi3Y\n",
            "Opinion Segment Labels/data/Ci-AH39fi3Y/features\n",
            "Opinion Segment Labels/data/Ci-AH39fi3Y/intervals\n",
            "Opinion Segment Labels/data/Clx4VXItLTE\n",
            "Opinion Segment Labels/data/Clx4VXItLTE/features\n",
            "Opinion Segment Labels/data/Clx4VXItLTE/intervals\n",
            "Opinion Segment Labels/data/Dg_0XKD0Mf4\n",
            "Opinion Segment Labels/data/Dg_0XKD0Mf4/features\n",
            "Opinion Segment Labels/data/Dg_0XKD0Mf4/intervals\n",
            "Opinion Segment Labels/data/G-xst2euQUc\n",
            "Opinion Segment Labels/data/G-xst2euQUc/features\n",
            "Opinion Segment Labels/data/G-xst2euQUc/intervals\n",
            "Opinion Segment Labels/data/G6GlGvlkxAQ\n",
            "Opinion Segment Labels/data/G6GlGvlkxAQ/features\n",
            "Opinion Segment Labels/data/G6GlGvlkxAQ/intervals\n",
            "Opinion Segment Labels/data/GWuJjcEuzt8\n",
            "Opinion Segment Labels/data/GWuJjcEuzt8/features\n",
            "Opinion Segment Labels/data/GWuJjcEuzt8/intervals\n",
            "Opinion Segment Labels/data/HEsqda8_d0Q\n",
            "Opinion Segment Labels/data/HEsqda8_d0Q/features\n",
            "Opinion Segment Labels/data/HEsqda8_d0Q/intervals\n",
            "Opinion Segment Labels/data/I5y0__X72p0\n",
            "Opinion Segment Labels/data/I5y0__X72p0/features\n",
            "Opinion Segment Labels/data/I5y0__X72p0/intervals\n",
            "Opinion Segment Labels/data/Iu2PFX3z_1s\n",
            "Opinion Segment Labels/data/Iu2PFX3z_1s/features\n",
            "Opinion Segment Labels/data/Iu2PFX3z_1s/intervals\n",
            "Opinion Segment Labels/data/IumbAb8q2dM\n",
            "Opinion Segment Labels/data/IumbAb8q2dM/features\n",
            "Opinion Segment Labels/data/IumbAb8q2dM/intervals\n",
            "Opinion Segment Labels/data/Jkswaaud0hk\n",
            "Opinion Segment Labels/data/Jkswaaud0hk/features\n",
            "Opinion Segment Labels/data/Jkswaaud0hk/intervals\n",
            "Opinion Segment Labels/data/LSi-o-IrDMs\n",
            "Opinion Segment Labels/data/LSi-o-IrDMs/features\n",
            "Opinion Segment Labels/data/LSi-o-IrDMs/intervals\n",
            "Opinion Segment Labels/data/MLal-t_vJPM\n",
            "Opinion Segment Labels/data/MLal-t_vJPM/features\n",
            "Opinion Segment Labels/data/MLal-t_vJPM/intervals\n",
            "Opinion Segment Labels/data/Njd1F0vZSm4\n",
            "Opinion Segment Labels/data/Njd1F0vZSm4/features\n",
            "Opinion Segment Labels/data/Njd1F0vZSm4/intervals\n",
            "Opinion Segment Labels/data/Nzq88NnDkEk\n",
            "Opinion Segment Labels/data/Nzq88NnDkEk/features\n",
            "Opinion Segment Labels/data/Nzq88NnDkEk/intervals\n",
            "Opinion Segment Labels/data/OQvJTdtJ2H4\n",
            "Opinion Segment Labels/data/OQvJTdtJ2H4/features\n",
            "Opinion Segment Labels/data/OQvJTdtJ2H4/intervals\n",
            "Opinion Segment Labels/data/OtBXNcAL_lE\n",
            "Opinion Segment Labels/data/OtBXNcAL_lE/features\n",
            "Opinion Segment Labels/data/OtBXNcAL_lE/intervals\n",
            "Opinion Segment Labels/data/Oz06ZWiO20M\n",
            "Opinion Segment Labels/data/Oz06ZWiO20M/features\n",
            "Opinion Segment Labels/data/Oz06ZWiO20M/intervals\n",
            "Opinion Segment Labels/data/POKffnXeBds\n",
            "Opinion Segment Labels/data/POKffnXeBds/features\n",
            "Opinion Segment Labels/data/POKffnXeBds/intervals\n",
            "Opinion Segment Labels/data/PZ-lDQFboO8\n",
            "Opinion Segment Labels/data/PZ-lDQFboO8/features\n",
            "Opinion Segment Labels/data/PZ-lDQFboO8/intervals\n",
            "Opinion Segment Labels/data/QN9ZIUWUXsY\n",
            "Opinion Segment Labels/data/QN9ZIUWUXsY/features\n",
            "Opinion Segment Labels/data/QN9ZIUWUXsY/intervals\n",
            "Opinion Segment Labels/data/Qr1Ca94K55A\n",
            "Opinion Segment Labels/data/Qr1Ca94K55A/features\n",
            "Opinion Segment Labels/data/Qr1Ca94K55A/intervals\n",
            "Opinion Segment Labels/data/Sqr0AcuoNnk\n",
            "Opinion Segment Labels/data/Sqr0AcuoNnk/features\n",
            "Opinion Segment Labels/data/Sqr0AcuoNnk/intervals\n",
            "Opinion Segment Labels/data/TvyZBvOMOTc\n",
            "Opinion Segment Labels/data/TvyZBvOMOTc/features\n",
            "Opinion Segment Labels/data/TvyZBvOMOTc/intervals\n",
            "Opinion Segment Labels/data/VCslbP0mgZI\n",
            "Opinion Segment Labels/data/VCslbP0mgZI/features\n",
            "Opinion Segment Labels/data/VCslbP0mgZI/intervals\n",
            "Opinion Segment Labels/data/VbQk4H8hgr0\n",
            "Opinion Segment Labels/data/VbQk4H8hgr0/features\n",
            "Opinion Segment Labels/data/VbQk4H8hgr0/intervals\n",
            "Opinion Segment Labels/data/Vj1wYRQjB-o\n",
            "Opinion Segment Labels/data/Vj1wYRQjB-o/features\n",
            "Opinion Segment Labels/data/Vj1wYRQjB-o/intervals\n",
            "Opinion Segment Labels/data/W8NXH0Djyww\n",
            "Opinion Segment Labels/data/W8NXH0Djyww/features\n",
            "Opinion Segment Labels/data/W8NXH0Djyww/intervals\n",
            "Opinion Segment Labels/data/WKA5OygbEKI\n",
            "Opinion Segment Labels/data/WKA5OygbEKI/features\n",
            "Opinion Segment Labels/data/WKA5OygbEKI/intervals\n",
            "Opinion Segment Labels/data/X3j2zQgwYgE\n",
            "Opinion Segment Labels/data/X3j2zQgwYgE/features\n",
            "Opinion Segment Labels/data/X3j2zQgwYgE/intervals\n",
            "Opinion Segment Labels/data/ZAIRrfG22O0\n",
            "Opinion Segment Labels/data/ZAIRrfG22O0/features\n",
            "Opinion Segment Labels/data/ZAIRrfG22O0/intervals\n",
            "Opinion Segment Labels/data/ZUXBRvtny7o\n",
            "Opinion Segment Labels/data/ZUXBRvtny7o/features\n",
            "Opinion Segment Labels/data/ZUXBRvtny7o/intervals\n",
            "Opinion Segment Labels/data/_dI--eQ6qVU\n",
            "Opinion Segment Labels/data/_dI--eQ6qVU/features\n",
            "Opinion Segment Labels/data/_dI--eQ6qVU/intervals\n",
            "Opinion Segment Labels/data/aiEXnCPZubE\n",
            "Opinion Segment Labels/data/aiEXnCPZubE/features\n",
            "Opinion Segment Labels/data/aiEXnCPZubE/intervals\n",
            "Opinion Segment Labels/data/atnd_PF-Lbs\n",
            "Opinion Segment Labels/data/atnd_PF-Lbs/features\n",
            "Opinion Segment Labels/data/atnd_PF-Lbs/intervals\n",
            "Opinion Segment Labels/data/bOL9jKpeJRs\n",
            "Opinion Segment Labels/data/bOL9jKpeJRs/features\n",
            "Opinion Segment Labels/data/bOL9jKpeJRs/intervals\n",
            "Opinion Segment Labels/data/bvLlb-M3UXU\n",
            "Opinion Segment Labels/data/bvLlb-M3UXU/features\n",
            "Opinion Segment Labels/data/bvLlb-M3UXU/intervals\n",
            "Opinion Segment Labels/data/c5xsKMxpXnc\n",
            "Opinion Segment Labels/data/c5xsKMxpXnc/features\n",
            "Opinion Segment Labels/data/c5xsKMxpXnc/intervals\n",
            "Opinion Segment Labels/data/c7UH_rxdZv4\n",
            "Opinion Segment Labels/data/c7UH_rxdZv4/features\n",
            "Opinion Segment Labels/data/c7UH_rxdZv4/intervals\n",
            "Opinion Segment Labels/data/cM3Yna7AavY\n",
            "Opinion Segment Labels/data/cM3Yna7AavY/features\n",
            "Opinion Segment Labels/data/cM3Yna7AavY/intervals\n",
            "Opinion Segment Labels/data/cW1FSBF59ik\n",
            "Opinion Segment Labels/data/cW1FSBF59ik/features\n",
            "Opinion Segment Labels/data/cW1FSBF59ik/intervals\n",
            "Opinion Segment Labels/data/cXypl4FnoZo\n",
            "Opinion Segment Labels/data/cXypl4FnoZo/features\n",
            "Opinion Segment Labels/data/cXypl4FnoZo/intervals\n",
            "Opinion Segment Labels/data/d3_k5Xpfmik\n",
            "Opinion Segment Labels/data/d3_k5Xpfmik/features\n",
            "Opinion Segment Labels/data/d3_k5Xpfmik/intervals\n",
            "Opinion Segment Labels/data/d6hH302o4v8\n",
            "Opinion Segment Labels/data/d6hH302o4v8/features\n",
            "Opinion Segment Labels/data/d6hH302o4v8/intervals\n",
            "Opinion Segment Labels/data/dq3Nf_lMPnE\n",
            "Opinion Segment Labels/data/dq3Nf_lMPnE/features\n",
            "Opinion Segment Labels/data/dq3Nf_lMPnE/intervals\n",
            "Opinion Segment Labels/data/etzxEpPuc6I\n",
            "Opinion Segment Labels/data/etzxEpPuc6I/features\n",
            "Opinion Segment Labels/data/etzxEpPuc6I/intervals\n",
            "Opinion Segment Labels/data/f9O3YtZ2VfI\n",
            "Opinion Segment Labels/data/f9O3YtZ2VfI/features\n",
            "Opinion Segment Labels/data/f9O3YtZ2VfI/intervals\n",
            "Opinion Segment Labels/data/f_pcplsH_V0\n",
            "Opinion Segment Labels/data/f_pcplsH_V0/features\n",
            "Opinion Segment Labels/data/f_pcplsH_V0/intervals\n",
            "Opinion Segment Labels/data/fvVhgmXxadc\n",
            "Opinion Segment Labels/data/fvVhgmXxadc/features\n",
            "Opinion Segment Labels/data/fvVhgmXxadc/intervals\n",
            "Opinion Segment Labels/data/iiK8YX8oH1E\n",
            "Opinion Segment Labels/data/iiK8YX8oH1E/features\n",
            "Opinion Segment Labels/data/iiK8YX8oH1E/intervals\n",
            "Opinion Segment Labels/data/jUzDDGyPkXU\n",
            "Opinion Segment Labels/data/jUzDDGyPkXU/features\n",
            "Opinion Segment Labels/data/jUzDDGyPkXU/intervals\n",
            "Opinion Segment Labels/data/k5Y_838nuGo\n",
            "Opinion Segment Labels/data/k5Y_838nuGo/features\n",
            "Opinion Segment Labels/data/k5Y_838nuGo/intervals\n",
            "Opinion Segment Labels/data/lXPQBPVc5Cw\n",
            "Opinion Segment Labels/data/lXPQBPVc5Cw/features\n",
            "Opinion Segment Labels/data/lXPQBPVc5Cw/intervals\n",
            "Opinion Segment Labels/data/nbWiPyCm4g0\n",
            "Opinion Segment Labels/data/nbWiPyCm4g0/features\n",
            "Opinion Segment Labels/data/nbWiPyCm4g0/intervals\n",
            "Opinion Segment Labels/data/nzpVDcQ0ywM\n",
            "Opinion Segment Labels/data/nzpVDcQ0ywM/features\n",
            "Opinion Segment Labels/data/nzpVDcQ0ywM/intervals\n",
            "Opinion Segment Labels/data/ob23OKe5a9Q\n",
            "Opinion Segment Labels/data/ob23OKe5a9Q/features\n",
            "Opinion Segment Labels/data/ob23OKe5a9Q/intervals\n",
            "Opinion Segment Labels/data/pLTX3ipuDJI\n",
            "Opinion Segment Labels/data/pLTX3ipuDJI/features\n",
            "Opinion Segment Labels/data/pLTX3ipuDJI/intervals\n",
            "Opinion Segment Labels/data/phBUpBr1hSo\n",
            "Opinion Segment Labels/data/phBUpBr1hSo/features\n",
            "Opinion Segment Labels/data/phBUpBr1hSo/intervals\n",
            "Opinion Segment Labels/data/rnaNMUZpvvg\n",
            "Opinion Segment Labels/data/rnaNMUZpvvg/features\n",
            "Opinion Segment Labels/data/rnaNMUZpvvg/intervals\n",
            "Opinion Segment Labels/data/tIrG4oNLFzE\n",
            "Opinion Segment Labels/data/tIrG4oNLFzE/features\n",
            "Opinion Segment Labels/data/tIrG4oNLFzE/intervals\n",
            "Opinion Segment Labels/data/tStelxIAHjw\n",
            "Opinion Segment Labels/data/tStelxIAHjw/features\n",
            "Opinion Segment Labels/data/tStelxIAHjw/intervals\n",
            "Opinion Segment Labels/data/tmZoasNr4rU\n",
            "Opinion Segment Labels/data/tmZoasNr4rU/features\n",
            "Opinion Segment Labels/data/tmZoasNr4rU/intervals\n",
            "Opinion Segment Labels/data/v0zCBqDeKcE\n",
            "Opinion Segment Labels/data/v0zCBqDeKcE/features\n",
            "Opinion Segment Labels/data/v0zCBqDeKcE/intervals\n",
            "Opinion Segment Labels/data/vvZ4IcEtiZc\n",
            "Opinion Segment Labels/data/vvZ4IcEtiZc/features\n",
            "Opinion Segment Labels/data/vvZ4IcEtiZc/intervals\n",
            "Opinion Segment Labels/data/vyB00TXsimI\n",
            "Opinion Segment Labels/data/vyB00TXsimI/features\n",
            "Opinion Segment Labels/data/vyB00TXsimI/intervals\n",
            "Opinion Segment Labels/data/wMbj6ajWbic\n",
            "Opinion Segment Labels/data/wMbj6ajWbic/features\n",
            "Opinion Segment Labels/data/wMbj6ajWbic/intervals\n",
            "Opinion Segment Labels/data/yDtzw_Y-7RU\n",
            "Opinion Segment Labels/data/yDtzw_Y-7RU/features\n",
            "Opinion Segment Labels/data/yDtzw_Y-7RU/intervals\n",
            "Opinion Segment Labels/data/yvsjCA6Y5Fc\n",
            "Opinion Segment Labels/data/yvsjCA6Y5Fc/features\n",
            "Opinion Segment Labels/data/yvsjCA6Y5Fc/intervals\n",
            "Opinion Segment Labels/data/zhpQhgha_KU\n",
            "Opinion Segment Labels/data/zhpQhgha_KU/features\n",
            "Opinion Segment Labels/data/zhpQhgha_KU/intervals\n",
            "Opinion Segment Labels/metadata\n",
            "Opinion Segment Labels/metadata/alignment compatible\n",
            "Opinion Segment Labels/metadata/computational sequence description\n",
            "Opinion Segment Labels/metadata/computational sequence version\n",
            "Opinion Segment Labels/metadata/contact\n",
            "Opinion Segment Labels/metadata/creator\n",
            "Opinion Segment Labels/metadata/dataset bib citation\n",
            "Opinion Segment Labels/metadata/dataset name\n",
            "Opinion Segment Labels/metadata/dataset version\n",
            "Opinion Segment Labels/metadata/dimension names\n",
            "Opinion Segment Labels/metadata/featureset bib citation\n",
            "Opinion Segment Labels/metadata/md5\n",
            "Opinion Segment Labels/metadata/root name\n",
            "Opinion Segment Labels/metadata/uuid\n"
          ]
        }
      ],
      "source": [
        "filename = \"cmumosi/CMU_MOSI_Opinion_Labels.csd\"\n",
        "\n",
        "f = h5py.File(filename, 'r')\n",
        "f.visit(print)"
      ]
    },
    {
      "cell_type": "code",
      "execution_count": null,
      "metadata": {
        "id": "HkrDRktpXoPk",
        "colab": {
          "base_uri": "https://localhost:8080/"
        },
        "outputId": "d5b526de-2a92-413a-b8a0-a31728e3242b"
      },
      "outputs": [
        {
          "output_type": "stream",
          "name": "stdout",
          "text": [
            "Example file: 03bSnISJMiM\n",
            "Start   End  Label\n",
            "51.9 - 55.9 : 2.40\n",
            "56.0 - 66.8 : -0.80\n",
            "66.8 - 68.7 : -1.00\n",
            "68.7 - 70.5 : -1.75\n",
            "70.5 - 71.7 : 0.00\n",
            "71.7 - 72.9 : 0.00\n",
            "72.9 - 77.8 : 0.80\n",
            "77.8 - 89.5 : 0.00\n",
            "89.5 - 92.2 : 0.20\n",
            "92.2 - 94.8 : -1.20\n",
            "94.8 - 96.6 : -0.50\n",
            "96.6 - 99.0 : 2.20\n",
            "168.7 - 170.2 : 1.80\n"
          ]
        }
      ],
      "source": [
        "example_file = '03bSnISJMiM'\n",
        "example_file_labels = f['Opinion Segment Labels/data/' + example_file + '/features']\n",
        "example_file_intervals = f['Opinion Segment Labels/data/' + example_file + '/intervals']\n",
        "print('Example file:', example_file)\n",
        "print('Start   End  Label')\n",
        "for [start, end], label in zip(example_file_intervals, example_file_labels):\n",
        "    print(\"%.1f\"%float(start), '-', \"%.1f\"%float(end), ':', \"%.2f\"%float(label))"
      ]
    },
    {
      "cell_type": "markdown",
      "metadata": {
        "id": "Mpr-G0SRXoPl"
      },
      "source": [
        "## Lecture des textes"
      ]
    },
    {
      "cell_type": "code",
      "execution_count": null,
      "metadata": {
        "id": "9TdDWubeXoPl",
        "colab": {
          "base_uri": "https://localhost:8080/"
        },
        "outputId": "ff08a9d5-ba84-4793-b5ea-17330410468e"
      },
      "outputs": [
        {
          "output_type": "stream",
          "name": "stdout",
          "text": [
            "OpenSmile_emobase2010\n",
            "OpenSmile_emobase2010/data\n",
            "OpenSmile_emobase2010/data/03bSnISJMiM\n",
            "OpenSmile_emobase2010/data/03bSnISJMiM/features\n",
            "OpenSmile_emobase2010/data/03bSnISJMiM/intervals\n",
            "OpenSmile_emobase2010/data/0h-zjBukYpk\n",
            "OpenSmile_emobase2010/data/0h-zjBukYpk/features\n",
            "OpenSmile_emobase2010/data/0h-zjBukYpk/intervals\n",
            "OpenSmile_emobase2010/data/1DmNV9C1hbY\n",
            "OpenSmile_emobase2010/data/1DmNV9C1hbY/features\n",
            "OpenSmile_emobase2010/data/1DmNV9C1hbY/intervals\n",
            "OpenSmile_emobase2010/data/1iG0909rllw\n",
            "OpenSmile_emobase2010/data/1iG0909rllw/features\n",
            "OpenSmile_emobase2010/data/1iG0909rllw/intervals\n",
            "OpenSmile_emobase2010/data/2WGyTLYerpo\n",
            "OpenSmile_emobase2010/data/2WGyTLYerpo/features\n",
            "OpenSmile_emobase2010/data/2WGyTLYerpo/intervals\n",
            "OpenSmile_emobase2010/data/2iD-tVS8NPw\n",
            "OpenSmile_emobase2010/data/2iD-tVS8NPw/features\n",
            "OpenSmile_emobase2010/data/2iD-tVS8NPw/intervals\n",
            "OpenSmile_emobase2010/data/5W7Z1C_fDaE\n",
            "OpenSmile_emobase2010/data/5W7Z1C_fDaE/features\n",
            "OpenSmile_emobase2010/data/5W7Z1C_fDaE/intervals\n",
            "OpenSmile_emobase2010/data/6Egk_28TtTM\n",
            "OpenSmile_emobase2010/data/6Egk_28TtTM/features\n",
            "OpenSmile_emobase2010/data/6Egk_28TtTM/intervals\n",
            "OpenSmile_emobase2010/data/6_0THN4chvY\n",
            "OpenSmile_emobase2010/data/6_0THN4chvY/features\n",
            "OpenSmile_emobase2010/data/6_0THN4chvY/intervals\n",
            "OpenSmile_emobase2010/data/73jzhE8R1TQ\n",
            "OpenSmile_emobase2010/data/73jzhE8R1TQ/features\n",
            "OpenSmile_emobase2010/data/73jzhE8R1TQ/intervals\n",
            "OpenSmile_emobase2010/data/7JsX8y1ysxY\n",
            "OpenSmile_emobase2010/data/7JsX8y1ysxY/features\n",
            "OpenSmile_emobase2010/data/7JsX8y1ysxY/intervals\n",
            "OpenSmile_emobase2010/data/8OtFthrtaJM\n",
            "OpenSmile_emobase2010/data/8OtFthrtaJM/features\n",
            "OpenSmile_emobase2010/data/8OtFthrtaJM/intervals\n",
            "OpenSmile_emobase2010/data/8d-gEyoeBzc\n",
            "OpenSmile_emobase2010/data/8d-gEyoeBzc/features\n",
            "OpenSmile_emobase2010/data/8d-gEyoeBzc/intervals\n",
            "OpenSmile_emobase2010/data/8qrpnFRGt2A\n",
            "OpenSmile_emobase2010/data/8qrpnFRGt2A/features\n",
            "OpenSmile_emobase2010/data/8qrpnFRGt2A/intervals\n",
            "OpenSmile_emobase2010/data/9J25DZhivz8\n",
            "OpenSmile_emobase2010/data/9J25DZhivz8/features\n",
            "OpenSmile_emobase2010/data/9J25DZhivz8/intervals\n",
            "OpenSmile_emobase2010/data/9T9Hf74oK10\n",
            "OpenSmile_emobase2010/data/9T9Hf74oK10/features\n",
            "OpenSmile_emobase2010/data/9T9Hf74oK10/intervals\n",
            "OpenSmile_emobase2010/data/9c67fiY0wGQ\n",
            "OpenSmile_emobase2010/data/9c67fiY0wGQ/features\n",
            "OpenSmile_emobase2010/data/9c67fiY0wGQ/intervals\n",
            "OpenSmile_emobase2010/data/9qR7uwkblbs\n",
            "OpenSmile_emobase2010/data/9qR7uwkblbs/features\n",
            "OpenSmile_emobase2010/data/9qR7uwkblbs/intervals\n",
            "OpenSmile_emobase2010/data/Af8D0E4ZXaw\n",
            "OpenSmile_emobase2010/data/Af8D0E4ZXaw/features\n",
            "OpenSmile_emobase2010/data/Af8D0E4ZXaw/intervals\n",
            "OpenSmile_emobase2010/data/BI97DNYfe5I\n",
            "OpenSmile_emobase2010/data/BI97DNYfe5I/features\n",
            "OpenSmile_emobase2010/data/BI97DNYfe5I/intervals\n",
            "OpenSmile_emobase2010/data/BXuRRbG0Ugk\n",
            "OpenSmile_emobase2010/data/BXuRRbG0Ugk/features\n",
            "OpenSmile_emobase2010/data/BXuRRbG0Ugk/intervals\n",
            "OpenSmile_emobase2010/data/Bfr499ggo-0\n",
            "OpenSmile_emobase2010/data/Bfr499ggo-0/features\n",
            "OpenSmile_emobase2010/data/Bfr499ggo-0/intervals\n",
            "OpenSmile_emobase2010/data/BioHAh1qJAQ\n",
            "OpenSmile_emobase2010/data/BioHAh1qJAQ/features\n",
            "OpenSmile_emobase2010/data/BioHAh1qJAQ/intervals\n",
            "OpenSmile_emobase2010/data/BvYR0L6f2Ig\n",
            "OpenSmile_emobase2010/data/BvYR0L6f2Ig/features\n",
            "OpenSmile_emobase2010/data/BvYR0L6f2Ig/intervals\n",
            "OpenSmile_emobase2010/data/Ci-AH39fi3Y\n",
            "OpenSmile_emobase2010/data/Ci-AH39fi3Y/features\n",
            "OpenSmile_emobase2010/data/Ci-AH39fi3Y/intervals\n",
            "OpenSmile_emobase2010/data/Clx4VXItLTE\n",
            "OpenSmile_emobase2010/data/Clx4VXItLTE/features\n",
            "OpenSmile_emobase2010/data/Clx4VXItLTE/intervals\n",
            "OpenSmile_emobase2010/data/Dg_0XKD0Mf4\n",
            "OpenSmile_emobase2010/data/Dg_0XKD0Mf4/features\n",
            "OpenSmile_emobase2010/data/Dg_0XKD0Mf4/intervals\n",
            "OpenSmile_emobase2010/data/G-xst2euQUc\n",
            "OpenSmile_emobase2010/data/G-xst2euQUc/features\n",
            "OpenSmile_emobase2010/data/G-xst2euQUc/intervals\n",
            "OpenSmile_emobase2010/data/G6GlGvlkxAQ\n",
            "OpenSmile_emobase2010/data/G6GlGvlkxAQ/features\n",
            "OpenSmile_emobase2010/data/G6GlGvlkxAQ/intervals\n",
            "OpenSmile_emobase2010/data/GWuJjcEuzt8\n",
            "OpenSmile_emobase2010/data/GWuJjcEuzt8/features\n",
            "OpenSmile_emobase2010/data/GWuJjcEuzt8/intervals\n",
            "OpenSmile_emobase2010/data/HEsqda8_d0Q\n",
            "OpenSmile_emobase2010/data/HEsqda8_d0Q/features\n",
            "OpenSmile_emobase2010/data/HEsqda8_d0Q/intervals\n",
            "OpenSmile_emobase2010/data/I5y0__X72p0\n",
            "OpenSmile_emobase2010/data/I5y0__X72p0/features\n",
            "OpenSmile_emobase2010/data/I5y0__X72p0/intervals\n",
            "OpenSmile_emobase2010/data/Iu2PFX3z_1s\n",
            "OpenSmile_emobase2010/data/Iu2PFX3z_1s/features\n",
            "OpenSmile_emobase2010/data/Iu2PFX3z_1s/intervals\n",
            "OpenSmile_emobase2010/data/IumbAb8q2dM\n",
            "OpenSmile_emobase2010/data/IumbAb8q2dM/features\n",
            "OpenSmile_emobase2010/data/IumbAb8q2dM/intervals\n",
            "OpenSmile_emobase2010/data/Jkswaaud0hk\n",
            "OpenSmile_emobase2010/data/Jkswaaud0hk/features\n",
            "OpenSmile_emobase2010/data/Jkswaaud0hk/intervals\n",
            "OpenSmile_emobase2010/data/LSi-o-IrDMs\n",
            "OpenSmile_emobase2010/data/LSi-o-IrDMs/features\n",
            "OpenSmile_emobase2010/data/LSi-o-IrDMs/intervals\n",
            "OpenSmile_emobase2010/data/MLal-t_vJPM\n",
            "OpenSmile_emobase2010/data/MLal-t_vJPM/features\n",
            "OpenSmile_emobase2010/data/MLal-t_vJPM/intervals\n",
            "OpenSmile_emobase2010/data/Njd1F0vZSm4\n",
            "OpenSmile_emobase2010/data/Njd1F0vZSm4/features\n",
            "OpenSmile_emobase2010/data/Njd1F0vZSm4/intervals\n",
            "OpenSmile_emobase2010/data/Nzq88NnDkEk\n",
            "OpenSmile_emobase2010/data/Nzq88NnDkEk/features\n",
            "OpenSmile_emobase2010/data/Nzq88NnDkEk/intervals\n",
            "OpenSmile_emobase2010/data/OQvJTdtJ2H4\n",
            "OpenSmile_emobase2010/data/OQvJTdtJ2H4/features\n",
            "OpenSmile_emobase2010/data/OQvJTdtJ2H4/intervals\n",
            "OpenSmile_emobase2010/data/OtBXNcAL_lE\n",
            "OpenSmile_emobase2010/data/OtBXNcAL_lE/features\n",
            "OpenSmile_emobase2010/data/OtBXNcAL_lE/intervals\n",
            "OpenSmile_emobase2010/data/Oz06ZWiO20M\n",
            "OpenSmile_emobase2010/data/Oz06ZWiO20M/features\n",
            "OpenSmile_emobase2010/data/Oz06ZWiO20M/intervals\n",
            "OpenSmile_emobase2010/data/POKffnXeBds\n",
            "OpenSmile_emobase2010/data/POKffnXeBds/features\n",
            "OpenSmile_emobase2010/data/POKffnXeBds/intervals\n",
            "OpenSmile_emobase2010/data/PZ-lDQFboO8\n",
            "OpenSmile_emobase2010/data/PZ-lDQFboO8/features\n",
            "OpenSmile_emobase2010/data/PZ-lDQFboO8/intervals\n",
            "OpenSmile_emobase2010/data/QN9ZIUWUXsY\n",
            "OpenSmile_emobase2010/data/QN9ZIUWUXsY/features\n",
            "OpenSmile_emobase2010/data/QN9ZIUWUXsY/intervals\n",
            "OpenSmile_emobase2010/data/Qr1Ca94K55A\n",
            "OpenSmile_emobase2010/data/Qr1Ca94K55A/features\n",
            "OpenSmile_emobase2010/data/Qr1Ca94K55A/intervals\n",
            "OpenSmile_emobase2010/data/Sqr0AcuoNnk\n",
            "OpenSmile_emobase2010/data/Sqr0AcuoNnk/features\n",
            "OpenSmile_emobase2010/data/Sqr0AcuoNnk/intervals\n",
            "OpenSmile_emobase2010/data/TvyZBvOMOTc\n",
            "OpenSmile_emobase2010/data/TvyZBvOMOTc/features\n",
            "OpenSmile_emobase2010/data/TvyZBvOMOTc/intervals\n",
            "OpenSmile_emobase2010/data/VCslbP0mgZI\n",
            "OpenSmile_emobase2010/data/VCslbP0mgZI/features\n",
            "OpenSmile_emobase2010/data/VCslbP0mgZI/intervals\n",
            "OpenSmile_emobase2010/data/VbQk4H8hgr0\n",
            "OpenSmile_emobase2010/data/VbQk4H8hgr0/features\n",
            "OpenSmile_emobase2010/data/VbQk4H8hgr0/intervals\n",
            "OpenSmile_emobase2010/data/Vj1wYRQjB-o\n",
            "OpenSmile_emobase2010/data/Vj1wYRQjB-o/features\n",
            "OpenSmile_emobase2010/data/Vj1wYRQjB-o/intervals\n",
            "OpenSmile_emobase2010/data/W8NXH0Djyww\n",
            "OpenSmile_emobase2010/data/W8NXH0Djyww/features\n",
            "OpenSmile_emobase2010/data/W8NXH0Djyww/intervals\n",
            "OpenSmile_emobase2010/data/WKA5OygbEKI\n",
            "OpenSmile_emobase2010/data/WKA5OygbEKI/features\n",
            "OpenSmile_emobase2010/data/WKA5OygbEKI/intervals\n",
            "OpenSmile_emobase2010/data/X3j2zQgwYgE\n",
            "OpenSmile_emobase2010/data/X3j2zQgwYgE/features\n",
            "OpenSmile_emobase2010/data/X3j2zQgwYgE/intervals\n",
            "OpenSmile_emobase2010/data/ZAIRrfG22O0\n",
            "OpenSmile_emobase2010/data/ZAIRrfG22O0/features\n",
            "OpenSmile_emobase2010/data/ZAIRrfG22O0/intervals\n",
            "OpenSmile_emobase2010/data/ZUXBRvtny7o\n",
            "OpenSmile_emobase2010/data/ZUXBRvtny7o/features\n",
            "OpenSmile_emobase2010/data/ZUXBRvtny7o/intervals\n",
            "OpenSmile_emobase2010/data/_dI--eQ6qVU\n",
            "OpenSmile_emobase2010/data/_dI--eQ6qVU/features\n",
            "OpenSmile_emobase2010/data/_dI--eQ6qVU/intervals\n",
            "OpenSmile_emobase2010/data/aiEXnCPZubE\n",
            "OpenSmile_emobase2010/data/aiEXnCPZubE/features\n",
            "OpenSmile_emobase2010/data/aiEXnCPZubE/intervals\n",
            "OpenSmile_emobase2010/data/atnd_PF-Lbs\n",
            "OpenSmile_emobase2010/data/atnd_PF-Lbs/features\n",
            "OpenSmile_emobase2010/data/atnd_PF-Lbs/intervals\n",
            "OpenSmile_emobase2010/data/bOL9jKpeJRs\n",
            "OpenSmile_emobase2010/data/bOL9jKpeJRs/features\n",
            "OpenSmile_emobase2010/data/bOL9jKpeJRs/intervals\n",
            "OpenSmile_emobase2010/data/bvLlb-M3UXU\n",
            "OpenSmile_emobase2010/data/bvLlb-M3UXU/features\n",
            "OpenSmile_emobase2010/data/bvLlb-M3UXU/intervals\n",
            "OpenSmile_emobase2010/data/c5xsKMxpXnc\n",
            "OpenSmile_emobase2010/data/c5xsKMxpXnc/features\n",
            "OpenSmile_emobase2010/data/c5xsKMxpXnc/intervals\n",
            "OpenSmile_emobase2010/data/c7UH_rxdZv4\n",
            "OpenSmile_emobase2010/data/c7UH_rxdZv4/features\n",
            "OpenSmile_emobase2010/data/c7UH_rxdZv4/intervals\n",
            "OpenSmile_emobase2010/data/cM3Yna7AavY\n",
            "OpenSmile_emobase2010/data/cM3Yna7AavY/features\n",
            "OpenSmile_emobase2010/data/cM3Yna7AavY/intervals\n",
            "OpenSmile_emobase2010/data/cW1FSBF59ik\n",
            "OpenSmile_emobase2010/data/cW1FSBF59ik/features\n",
            "OpenSmile_emobase2010/data/cW1FSBF59ik/intervals\n",
            "OpenSmile_emobase2010/data/cXypl4FnoZo\n",
            "OpenSmile_emobase2010/data/cXypl4FnoZo/features\n",
            "OpenSmile_emobase2010/data/cXypl4FnoZo/intervals\n",
            "OpenSmile_emobase2010/data/d3_k5Xpfmik\n",
            "OpenSmile_emobase2010/data/d3_k5Xpfmik/features\n",
            "OpenSmile_emobase2010/data/d3_k5Xpfmik/intervals\n",
            "OpenSmile_emobase2010/data/d6hH302o4v8\n",
            "OpenSmile_emobase2010/data/d6hH302o4v8/features\n",
            "OpenSmile_emobase2010/data/d6hH302o4v8/intervals\n",
            "OpenSmile_emobase2010/data/dq3Nf_lMPnE\n",
            "OpenSmile_emobase2010/data/dq3Nf_lMPnE/features\n",
            "OpenSmile_emobase2010/data/dq3Nf_lMPnE/intervals\n",
            "OpenSmile_emobase2010/data/etzxEpPuc6I\n",
            "OpenSmile_emobase2010/data/etzxEpPuc6I/features\n",
            "OpenSmile_emobase2010/data/etzxEpPuc6I/intervals\n",
            "OpenSmile_emobase2010/data/f9O3YtZ2VfI\n",
            "OpenSmile_emobase2010/data/f9O3YtZ2VfI/features\n",
            "OpenSmile_emobase2010/data/f9O3YtZ2VfI/intervals\n",
            "OpenSmile_emobase2010/data/f_pcplsH_V0\n",
            "OpenSmile_emobase2010/data/f_pcplsH_V0/features\n",
            "OpenSmile_emobase2010/data/f_pcplsH_V0/intervals\n",
            "OpenSmile_emobase2010/data/fvVhgmXxadc\n",
            "OpenSmile_emobase2010/data/fvVhgmXxadc/features\n",
            "OpenSmile_emobase2010/data/fvVhgmXxadc/intervals\n",
            "OpenSmile_emobase2010/data/iiK8YX8oH1E\n",
            "OpenSmile_emobase2010/data/iiK8YX8oH1E/features\n",
            "OpenSmile_emobase2010/data/iiK8YX8oH1E/intervals\n",
            "OpenSmile_emobase2010/data/jUzDDGyPkXU\n",
            "OpenSmile_emobase2010/data/jUzDDGyPkXU/features\n",
            "OpenSmile_emobase2010/data/jUzDDGyPkXU/intervals\n",
            "OpenSmile_emobase2010/data/k5Y_838nuGo\n",
            "OpenSmile_emobase2010/data/k5Y_838nuGo/features\n",
            "OpenSmile_emobase2010/data/k5Y_838nuGo/intervals\n",
            "OpenSmile_emobase2010/data/lXPQBPVc5Cw\n",
            "OpenSmile_emobase2010/data/lXPQBPVc5Cw/features\n",
            "OpenSmile_emobase2010/data/lXPQBPVc5Cw/intervals\n",
            "OpenSmile_emobase2010/data/nbWiPyCm4g0\n",
            "OpenSmile_emobase2010/data/nbWiPyCm4g0/features\n",
            "OpenSmile_emobase2010/data/nbWiPyCm4g0/intervals\n",
            "OpenSmile_emobase2010/data/nzpVDcQ0ywM\n",
            "OpenSmile_emobase2010/data/nzpVDcQ0ywM/features\n",
            "OpenSmile_emobase2010/data/nzpVDcQ0ywM/intervals\n",
            "OpenSmile_emobase2010/data/ob23OKe5a9Q\n",
            "OpenSmile_emobase2010/data/ob23OKe5a9Q/features\n",
            "OpenSmile_emobase2010/data/ob23OKe5a9Q/intervals\n",
            "OpenSmile_emobase2010/data/pLTX3ipuDJI\n",
            "OpenSmile_emobase2010/data/pLTX3ipuDJI/features\n",
            "OpenSmile_emobase2010/data/pLTX3ipuDJI/intervals\n",
            "OpenSmile_emobase2010/data/phBUpBr1hSo\n",
            "OpenSmile_emobase2010/data/phBUpBr1hSo/features\n",
            "OpenSmile_emobase2010/data/phBUpBr1hSo/intervals\n",
            "OpenSmile_emobase2010/data/rnaNMUZpvvg\n",
            "OpenSmile_emobase2010/data/rnaNMUZpvvg/features\n",
            "OpenSmile_emobase2010/data/rnaNMUZpvvg/intervals\n",
            "OpenSmile_emobase2010/data/tIrG4oNLFzE\n",
            "OpenSmile_emobase2010/data/tIrG4oNLFzE/features\n",
            "OpenSmile_emobase2010/data/tIrG4oNLFzE/intervals\n",
            "OpenSmile_emobase2010/data/tStelxIAHjw\n",
            "OpenSmile_emobase2010/data/tStelxIAHjw/features\n",
            "OpenSmile_emobase2010/data/tStelxIAHjw/intervals\n",
            "OpenSmile_emobase2010/data/tmZoasNr4rU\n",
            "OpenSmile_emobase2010/data/tmZoasNr4rU/features\n",
            "OpenSmile_emobase2010/data/tmZoasNr4rU/intervals\n",
            "OpenSmile_emobase2010/data/v0zCBqDeKcE\n",
            "OpenSmile_emobase2010/data/v0zCBqDeKcE/features\n",
            "OpenSmile_emobase2010/data/v0zCBqDeKcE/intervals\n",
            "OpenSmile_emobase2010/data/vvZ4IcEtiZc\n",
            "OpenSmile_emobase2010/data/vvZ4IcEtiZc/features\n",
            "OpenSmile_emobase2010/data/vvZ4IcEtiZc/intervals\n",
            "OpenSmile_emobase2010/data/vyB00TXsimI\n",
            "OpenSmile_emobase2010/data/vyB00TXsimI/features\n",
            "OpenSmile_emobase2010/data/vyB00TXsimI/intervals\n",
            "OpenSmile_emobase2010/data/wMbj6ajWbic\n",
            "OpenSmile_emobase2010/data/wMbj6ajWbic/features\n",
            "OpenSmile_emobase2010/data/wMbj6ajWbic/intervals\n",
            "OpenSmile_emobase2010/data/yDtzw_Y-7RU\n",
            "OpenSmile_emobase2010/data/yDtzw_Y-7RU/features\n",
            "OpenSmile_emobase2010/data/yDtzw_Y-7RU/intervals\n",
            "OpenSmile_emobase2010/data/yvsjCA6Y5Fc\n",
            "OpenSmile_emobase2010/data/yvsjCA6Y5Fc/features\n",
            "OpenSmile_emobase2010/data/yvsjCA6Y5Fc/intervals\n",
            "OpenSmile_emobase2010/data/zhpQhgha_KU\n",
            "OpenSmile_emobase2010/data/zhpQhgha_KU/features\n",
            "OpenSmile_emobase2010/data/zhpQhgha_KU/intervals\n",
            "OpenSmile_emobase2010/metadata\n",
            "OpenSmile_emobase2010/metadata/alignment compatible\n",
            "OpenSmile_emobase2010/metadata/computational sequence description\n",
            "OpenSmile_emobase2010/metadata/computational sequence version\n",
            "OpenSmile_emobase2010/metadata/contact\n",
            "OpenSmile_emobase2010/metadata/creator\n",
            "OpenSmile_emobase2010/metadata/dataset bib citation\n",
            "OpenSmile_emobase2010/metadata/dataset name\n",
            "OpenSmile_emobase2010/metadata/dataset version\n",
            "OpenSmile_emobase2010/metadata/dimension names\n",
            "OpenSmile_emobase2010/metadata/featureset bib citation\n",
            "OpenSmile_emobase2010/metadata/md5\n",
            "OpenSmile_emobase2010/metadata/root name\n",
            "OpenSmile_emobase2010/metadata/uuid\n"
          ]
        }
      ],
      "source": [
        "filename = \"cmumosi/CMU_MOSI_OpenSmile_EB10.csd\" # audio features from OpenSmile\n",
        "\n",
        "f_ = h5py.File(filename, 'r')\n",
        "f_.visit(print)"
      ]
    },
    {
      "cell_type": "code",
      "source": [
        "L_id = []\n",
        "for dir in os.listdir('Transcript/Segmented'):\n",
        "  L_id.append(dir.split('.')[0])\n",
        "Data = [] \n",
        "for id in L_id:\n",
        "  #print(id)\n",
        "  file = open(\"Transcript/Segmented/\"+id+\".annotprocessed\")\n",
        "  L_text = []\n",
        "  for line in file:\n",
        "    L_text.append(line.split(\"_DELIM_\")[1].split(\"\\n\")[0])\n",
        "  file.close()\n",
        "  id_labels = f['Opinion Segment Labels/data/' + id + '/features']\n",
        "  id_intervals = f['Opinion Segment Labels/data/' + id + '/intervals']\n",
        "  i=0\n",
        "  for [start, end], label in zip(id_intervals, id_labels):\n",
        "      Data.append([id,i+1, float(\"%.1f\"%float(start)), float(\"%.1f\"%float(end)), L_text[i], float(\"%.2f\"%float(label))])\n",
        "      i+=1"
      ],
      "metadata": {
        "id": "UOZpkjDq7OUE"
      },
      "execution_count": null,
      "outputs": []
    },
    {
      "cell_type": "code",
      "source": [
        "print(Data[12])"
      ],
      "metadata": {
        "colab": {
          "base_uri": "https://localhost:8080/"
        },
        "id": "sI9yT3vd8hzk",
        "outputId": "548aef0b-fd78-4986-c5d6-3b302f415e8a"
      },
      "execution_count": null,
      "outputs": [
        {
          "output_type": "stream",
          "name": "stdout",
          "text": [
            "['fvVhgmXxadc', 13, 169.7, 174.1, 'ITS KIND OF PLAYING WITH THE IDEA WHATS REAL WHATS NOT WHAT THE MATRIX FILMS DID', 0.2]\n"
          ]
        }
      ]
    },
    {
      "cell_type": "markdown",
      "source": [
        "## Preprocessing"
      ],
      "metadata": {
        "id": "XnraFmBq81XY"
      }
    },
    {
      "cell_type": "code",
      "source": [
        "df_text = pd.DataFrame(Data, columns = [\"id\",\"sub_id\",\"Start\",\"End\",\"text\",\"label\"])\n",
        "df_text[\"label\"] = df_text[\"label\"].astype(float) + 3"
      ],
      "metadata": {
        "id": "SWxgh3Dy21R4"
      },
      "execution_count": null,
      "outputs": []
    },
    {
      "cell_type": "code",
      "source": [
        "df_text = df_text.drop(columns = ['id', 'sub_id', 'Start', 'End'])\n",
        "df_text"
      ],
      "metadata": {
        "colab": {
          "base_uri": "https://localhost:8080/"
        },
        "id": "Ipl_u4DQt4CN",
        "outputId": "5365555a-70ca-4df2-8ac0-7259d5c474f9"
      },
      "execution_count": null,
      "outputs": [
        {
          "output_type": "execute_result",
          "data": {
            "text/html": [
              "\n",
              "  <div id=\"df-efec49f4-beff-457c-b633-e7b794c250cd\">\n",
              "    <div class=\"colab-df-container\">\n",
              "      <div>\n",
              "<style scoped>\n",
              "    .dataframe tbody tr th:only-of-type {\n",
              "        vertical-align: middle;\n",
              "    }\n",
              "\n",
              "    .dataframe tbody tr th {\n",
              "        vertical-align: top;\n",
              "    }\n",
              "\n",
              "    .dataframe thead th {\n",
              "        text-align: right;\n",
              "    }\n",
              "</style>\n",
              "<table border=\"1\" class=\"dataframe\">\n",
              "  <thead>\n",
              "    <tr style=\"text-align: right;\">\n",
              "      <th></th>\n",
              "      <th>text</th>\n",
              "      <th>label</th>\n",
              "    </tr>\n",
              "  </thead>\n",
              "  <tbody>\n",
              "    <tr>\n",
              "      <th>0</th>\n",
              "      <td>IT ONLY HAD THE POTENTIAL TO BE A FILM THAT WA...</td>\n",
              "      <td>2.6</td>\n",
              "    </tr>\n",
              "    <tr>\n",
              "      <th>1</th>\n",
              "      <td>BUT UNFORTUNATELY ITS JUST AN UGLY WILD VIOLEN...</td>\n",
              "      <td>0.2</td>\n",
              "    </tr>\n",
              "    <tr>\n",
              "      <th>2</th>\n",
              "      <td>THAT I GOT VERY LITTLE JOY OUT OF</td>\n",
              "      <td>0.8</td>\n",
              "    </tr>\n",
              "    <tr>\n",
              "      <th>3</th>\n",
              "      <td>IN FACT I GOT MOSTLY PAIN OUT OF IT</td>\n",
              "      <td>0.2</td>\n",
              "    </tr>\n",
              "    <tr>\n",
              "      <th>4</th>\n",
              "      <td>THATS PRETTY HEAVILY INFERRED IN THE OPENING ...</td>\n",
              "      <td>3.0</td>\n",
              "    </tr>\n",
              "    <tr>\n",
              "      <th>...</th>\n",
              "      <td>...</td>\n",
              "      <td>...</td>\n",
              "    </tr>\n",
              "    <tr>\n",
              "      <th>2194</th>\n",
              "      <td>OH MY GOD A LOT OF ACTION</td>\n",
              "      <td>3.2</td>\n",
              "    </tr>\n",
              "    <tr>\n",
              "      <th>2195</th>\n",
              "      <td>THERE IS SAD PART</td>\n",
              "      <td>1.8</td>\n",
              "    </tr>\n",
              "    <tr>\n",
              "      <th>2196</th>\n",
              "      <td>A LOT OF SAD PARTS</td>\n",
              "      <td>2.5</td>\n",
              "    </tr>\n",
              "    <tr>\n",
              "      <th>2197</th>\n",
              "      <td>BUT IT WAS REALLY REALLY AWESOME</td>\n",
              "      <td>5.2</td>\n",
              "    </tr>\n",
              "    <tr>\n",
              "      <th>2198</th>\n",
              "      <td>AND ITS A REALLY FUNNY</td>\n",
              "      <td>4.8</td>\n",
              "    </tr>\n",
              "  </tbody>\n",
              "</table>\n",
              "<p>2199 rows × 2 columns</p>\n",
              "</div>\n",
              "      <button class=\"colab-df-convert\" onclick=\"convertToInteractive('df-efec49f4-beff-457c-b633-e7b794c250cd')\"\n",
              "              title=\"Convert this dataframe to an interactive table.\"\n",
              "              style=\"display:none;\">\n",
              "        \n",
              "  <svg xmlns=\"http://www.w3.org/2000/svg\" height=\"24px\"viewBox=\"0 0 24 24\"\n",
              "       width=\"24px\">\n",
              "    <path d=\"M0 0h24v24H0V0z\" fill=\"none\"/>\n",
              "    <path d=\"M18.56 5.44l.94 2.06.94-2.06 2.06-.94-2.06-.94-.94-2.06-.94 2.06-2.06.94zm-11 1L8.5 8.5l.94-2.06 2.06-.94-2.06-.94L8.5 2.5l-.94 2.06-2.06.94zm10 10l.94 2.06.94-2.06 2.06-.94-2.06-.94-.94-2.06-.94 2.06-2.06.94z\"/><path d=\"M17.41 7.96l-1.37-1.37c-.4-.4-.92-.59-1.43-.59-.52 0-1.04.2-1.43.59L10.3 9.45l-7.72 7.72c-.78.78-.78 2.05 0 2.83L4 21.41c.39.39.9.59 1.41.59.51 0 1.02-.2 1.41-.59l7.78-7.78 2.81-2.81c.8-.78.8-2.07 0-2.86zM5.41 20L4 18.59l7.72-7.72 1.47 1.35L5.41 20z\"/>\n",
              "  </svg>\n",
              "      </button>\n",
              "      \n",
              "  <style>\n",
              "    .colab-df-container {\n",
              "      display:flex;\n",
              "      flex-wrap:wrap;\n",
              "      gap: 12px;\n",
              "    }\n",
              "\n",
              "    .colab-df-convert {\n",
              "      background-color: #E8F0FE;\n",
              "      border: none;\n",
              "      border-radius: 50%;\n",
              "      cursor: pointer;\n",
              "      display: none;\n",
              "      fill: #1967D2;\n",
              "      height: 32px;\n",
              "      padding: 0 0 0 0;\n",
              "      width: 32px;\n",
              "    }\n",
              "\n",
              "    .colab-df-convert:hover {\n",
              "      background-color: #E2EBFA;\n",
              "      box-shadow: 0px 1px 2px rgba(60, 64, 67, 0.3), 0px 1px 3px 1px rgba(60, 64, 67, 0.15);\n",
              "      fill: #174EA6;\n",
              "    }\n",
              "\n",
              "    [theme=dark] .colab-df-convert {\n",
              "      background-color: #3B4455;\n",
              "      fill: #D2E3FC;\n",
              "    }\n",
              "\n",
              "    [theme=dark] .colab-df-convert:hover {\n",
              "      background-color: #434B5C;\n",
              "      box-shadow: 0px 1px 3px 1px rgba(0, 0, 0, 0.15);\n",
              "      filter: drop-shadow(0px 1px 2px rgba(0, 0, 0, 0.3));\n",
              "      fill: #FFFFFF;\n",
              "    }\n",
              "  </style>\n",
              "\n",
              "      <script>\n",
              "        const buttonEl =\n",
              "          document.querySelector('#df-efec49f4-beff-457c-b633-e7b794c250cd button.colab-df-convert');\n",
              "        buttonEl.style.display =\n",
              "          google.colab.kernel.accessAllowed ? 'block' : 'none';\n",
              "\n",
              "        async function convertToInteractive(key) {\n",
              "          const element = document.querySelector('#df-efec49f4-beff-457c-b633-e7b794c250cd');\n",
              "          const dataTable =\n",
              "            await google.colab.kernel.invokeFunction('convertToInteractive',\n",
              "                                                     [key], {});\n",
              "          if (!dataTable) return;\n",
              "\n",
              "          const docLinkHtml = 'Like what you see? Visit the ' +\n",
              "            '<a target=\"_blank\" href=https://colab.research.google.com/notebooks/data_table.ipynb>data table notebook</a>'\n",
              "            + ' to learn more about interactive tables.';\n",
              "          element.innerHTML = '';\n",
              "          dataTable['output_type'] = 'display_data';\n",
              "          await google.colab.output.renderOutput(dataTable, element);\n",
              "          const docLink = document.createElement('div');\n",
              "          docLink.innerHTML = docLinkHtml;\n",
              "          element.appendChild(docLink);\n",
              "        }\n",
              "      </script>\n",
              "    </div>\n",
              "  </div>\n",
              "  "
            ],
            "text/plain": [
              "                                                   text  label\n",
              "0     IT ONLY HAD THE POTENTIAL TO BE A FILM THAT WA...    2.6\n",
              "1     BUT UNFORTUNATELY ITS JUST AN UGLY WILD VIOLEN...    0.2\n",
              "2                     THAT I GOT VERY LITTLE JOY OUT OF    0.8\n",
              "3                   IN FACT I GOT MOSTLY PAIN OUT OF IT    0.2\n",
              "4      THATS PRETTY HEAVILY INFERRED IN THE OPENING ...    3.0\n",
              "...                                                 ...    ...\n",
              "2194                          OH MY GOD A LOT OF ACTION    3.2\n",
              "2195                                  THERE IS SAD PART    1.8\n",
              "2196                                A LOT OF SAD PARTS     2.5\n",
              "2197                   BUT IT WAS REALLY REALLY AWESOME    5.2\n",
              "2198                            AND ITS A REALLY FUNNY     4.8\n",
              "\n",
              "[2199 rows x 2 columns]"
            ]
          },
          "metadata": {},
          "execution_count": 58
        }
      ]
    },
    {
      "cell_type": "code",
      "source": [
        "df_text['text'] = df_text['text'].astype(str).str.lower()\n",
        "nlp = nlp = en_core_web_lg.load() # Load english models"
      ],
      "metadata": {
        "id": "eNbbgYgV_40N"
      },
      "execution_count": null,
      "outputs": []
    },
    {
      "cell_type": "code",
      "source": [
        "def lemmatization(sentence) :\n",
        "    lemm = \"\"\n",
        "    \n",
        "    sentence = nlp(sentence)\n",
        "    for word in sentence :\n",
        "        lemm +=\" \" + word.lemma_\n",
        "        \n",
        "    return lemm\n",
        "\n",
        "df_text['text'].apply(lemmatization)"
      ],
      "metadata": {
        "colab": {
          "base_uri": "https://localhost:8080/"
        },
        "id": "Nyyrs1u0ANn0",
        "outputId": "77e4f2a0-991a-479c-bfd1-cada85c324ba"
      },
      "execution_count": null,
      "outputs": [
        {
          "output_type": "execute_result",
          "data": {
            "text/plain": [
              "0        it only have the potential to be a film that ...\n",
              "1        but unfortunately its just an ugly wild viole...\n",
              "2                       that I get very little joy out of\n",
              "3                     in fact I get mostly pain out of it\n",
              "4          that s pretty heavily infer in the opening ...\n",
              "                              ...                        \n",
              "2194                            oh my god a lot of action\n",
              "2195                                    there be sad part\n",
              "2196                                    a lot of sad part\n",
              "2197                      but it be really really awesome\n",
              "2198                               and its a really funny\n",
              "Name: text, Length: 2199, dtype: object"
            ]
          },
          "metadata": {},
          "execution_count": 60
        }
      ]
    },
    {
      "cell_type": "code",
      "source": [
        "stop_words = set(stopwords.words('english'))\n",
        "not_stop_words = ['needn',\"needn't\",'no','nor','not','off','mustn',\"mustn't\",'mightn',\"mightn't\",\"isn't\",\"haven't\",\"hasn't\", 'hasn','hadn',\"hadn't\",'doesn',\"doesn't\",'didn',\"didn't\",'couldn',\"couldn't\",'don',\"don't\",'aren',\"aren't\",'wasn',\"wasn't\", 'won',\"won't\",'wouldn',\"wouldn't\"] \n",
        "for word in not_stop_words :\n",
        "    stop_words.remove(word)\n",
        "\n",
        "def delete_stopwords(sentence):\n",
        "    clean = \"\"\n",
        "    \n",
        "    sentence = word_tokenize(sentence)\n",
        "    for word in sentence :\n",
        "        if word not in stop_words:\n",
        "            clean += \" \" + word\n",
        "    return clean\n",
        "\n",
        "df_text['text'].apply(delete_stopwords)"
      ],
      "metadata": {
        "colab": {
          "base_uri": "https://localhost:8080/"
        },
        "id": "J9RYRik1AbKV",
        "outputId": "c39950e0-a36c-4483-becc-d10c6883f332"
      },
      "execution_count": null,
      "outputs": [
        {
          "output_type": "execute_result",
          "data": {
            "text/plain": [
              "0                   potential film provking action packed\n",
              "1        unfortunately ugly wild violent unvolving sad...\n",
              "2                                          got little joy\n",
              "3                                    fact got mostly pain\n",
              "4          thats pretty heavily inferred opening sequence\n",
              "                              ...                        \n",
              "2194                                    oh god lot action\n",
              "2195                                             sad part\n",
              "2196                                        lot sad parts\n",
              "2197                                really really awesome\n",
              "2198                                         really funny\n",
              "Name: text, Length: 2199, dtype: object"
            ]
          },
          "metadata": {},
          "execution_count": 61
        }
      ]
    },
    {
      "cell_type": "code",
      "source": [
        "df_text"
      ],
      "metadata": {
        "colab": {
          "base_uri": "https://localhost:8080/"
        },
        "id": "t9bLc3MXAmbY",
        "outputId": "8cade01b-9e0f-483b-daf4-beee40d7a424"
      },
      "execution_count": null,
      "outputs": [
        {
          "output_type": "execute_result",
          "data": {
            "text/html": [
              "\n",
              "  <div id=\"df-a12a4608-376b-4f6e-abf9-0489345602e5\">\n",
              "    <div class=\"colab-df-container\">\n",
              "      <div>\n",
              "<style scoped>\n",
              "    .dataframe tbody tr th:only-of-type {\n",
              "        vertical-align: middle;\n",
              "    }\n",
              "\n",
              "    .dataframe tbody tr th {\n",
              "        vertical-align: top;\n",
              "    }\n",
              "\n",
              "    .dataframe thead th {\n",
              "        text-align: right;\n",
              "    }\n",
              "</style>\n",
              "<table border=\"1\" class=\"dataframe\">\n",
              "  <thead>\n",
              "    <tr style=\"text-align: right;\">\n",
              "      <th></th>\n",
              "      <th>text</th>\n",
              "      <th>label</th>\n",
              "    </tr>\n",
              "  </thead>\n",
              "  <tbody>\n",
              "    <tr>\n",
              "      <th>0</th>\n",
              "      <td>it only had the potential to be a film that wa...</td>\n",
              "      <td>2.6</td>\n",
              "    </tr>\n",
              "    <tr>\n",
              "      <th>1</th>\n",
              "      <td>but unfortunately its just an ugly wild violen...</td>\n",
              "      <td>0.2</td>\n",
              "    </tr>\n",
              "    <tr>\n",
              "      <th>2</th>\n",
              "      <td>that i got very little joy out of</td>\n",
              "      <td>0.8</td>\n",
              "    </tr>\n",
              "    <tr>\n",
              "      <th>3</th>\n",
              "      <td>in fact i got mostly pain out of it</td>\n",
              "      <td>0.2</td>\n",
              "    </tr>\n",
              "    <tr>\n",
              "      <th>4</th>\n",
              "      <td>thats pretty heavily inferred in the opening ...</td>\n",
              "      <td>3.0</td>\n",
              "    </tr>\n",
              "    <tr>\n",
              "      <th>...</th>\n",
              "      <td>...</td>\n",
              "      <td>...</td>\n",
              "    </tr>\n",
              "    <tr>\n",
              "      <th>2194</th>\n",
              "      <td>oh my god a lot of action</td>\n",
              "      <td>3.2</td>\n",
              "    </tr>\n",
              "    <tr>\n",
              "      <th>2195</th>\n",
              "      <td>there is sad part</td>\n",
              "      <td>1.8</td>\n",
              "    </tr>\n",
              "    <tr>\n",
              "      <th>2196</th>\n",
              "      <td>a lot of sad parts</td>\n",
              "      <td>2.5</td>\n",
              "    </tr>\n",
              "    <tr>\n",
              "      <th>2197</th>\n",
              "      <td>but it was really really awesome</td>\n",
              "      <td>5.2</td>\n",
              "    </tr>\n",
              "    <tr>\n",
              "      <th>2198</th>\n",
              "      <td>and its a really funny</td>\n",
              "      <td>4.8</td>\n",
              "    </tr>\n",
              "  </tbody>\n",
              "</table>\n",
              "<p>2199 rows × 2 columns</p>\n",
              "</div>\n",
              "      <button class=\"colab-df-convert\" onclick=\"convertToInteractive('df-a12a4608-376b-4f6e-abf9-0489345602e5')\"\n",
              "              title=\"Convert this dataframe to an interactive table.\"\n",
              "              style=\"display:none;\">\n",
              "        \n",
              "  <svg xmlns=\"http://www.w3.org/2000/svg\" height=\"24px\"viewBox=\"0 0 24 24\"\n",
              "       width=\"24px\">\n",
              "    <path d=\"M0 0h24v24H0V0z\" fill=\"none\"/>\n",
              "    <path d=\"M18.56 5.44l.94 2.06.94-2.06 2.06-.94-2.06-.94-.94-2.06-.94 2.06-2.06.94zm-11 1L8.5 8.5l.94-2.06 2.06-.94-2.06-.94L8.5 2.5l-.94 2.06-2.06.94zm10 10l.94 2.06.94-2.06 2.06-.94-2.06-.94-.94-2.06-.94 2.06-2.06.94z\"/><path d=\"M17.41 7.96l-1.37-1.37c-.4-.4-.92-.59-1.43-.59-.52 0-1.04.2-1.43.59L10.3 9.45l-7.72 7.72c-.78.78-.78 2.05 0 2.83L4 21.41c.39.39.9.59 1.41.59.51 0 1.02-.2 1.41-.59l7.78-7.78 2.81-2.81c.8-.78.8-2.07 0-2.86zM5.41 20L4 18.59l7.72-7.72 1.47 1.35L5.41 20z\"/>\n",
              "  </svg>\n",
              "      </button>\n",
              "      \n",
              "  <style>\n",
              "    .colab-df-container {\n",
              "      display:flex;\n",
              "      flex-wrap:wrap;\n",
              "      gap: 12px;\n",
              "    }\n",
              "\n",
              "    .colab-df-convert {\n",
              "      background-color: #E8F0FE;\n",
              "      border: none;\n",
              "      border-radius: 50%;\n",
              "      cursor: pointer;\n",
              "      display: none;\n",
              "      fill: #1967D2;\n",
              "      height: 32px;\n",
              "      padding: 0 0 0 0;\n",
              "      width: 32px;\n",
              "    }\n",
              "\n",
              "    .colab-df-convert:hover {\n",
              "      background-color: #E2EBFA;\n",
              "      box-shadow: 0px 1px 2px rgba(60, 64, 67, 0.3), 0px 1px 3px 1px rgba(60, 64, 67, 0.15);\n",
              "      fill: #174EA6;\n",
              "    }\n",
              "\n",
              "    [theme=dark] .colab-df-convert {\n",
              "      background-color: #3B4455;\n",
              "      fill: #D2E3FC;\n",
              "    }\n",
              "\n",
              "    [theme=dark] .colab-df-convert:hover {\n",
              "      background-color: #434B5C;\n",
              "      box-shadow: 0px 1px 3px 1px rgba(0, 0, 0, 0.15);\n",
              "      filter: drop-shadow(0px 1px 2px rgba(0, 0, 0, 0.3));\n",
              "      fill: #FFFFFF;\n",
              "    }\n",
              "  </style>\n",
              "\n",
              "      <script>\n",
              "        const buttonEl =\n",
              "          document.querySelector('#df-a12a4608-376b-4f6e-abf9-0489345602e5 button.colab-df-convert');\n",
              "        buttonEl.style.display =\n",
              "          google.colab.kernel.accessAllowed ? 'block' : 'none';\n",
              "\n",
              "        async function convertToInteractive(key) {\n",
              "          const element = document.querySelector('#df-a12a4608-376b-4f6e-abf9-0489345602e5');\n",
              "          const dataTable =\n",
              "            await google.colab.kernel.invokeFunction('convertToInteractive',\n",
              "                                                     [key], {});\n",
              "          if (!dataTable) return;\n",
              "\n",
              "          const docLinkHtml = 'Like what you see? Visit the ' +\n",
              "            '<a target=\"_blank\" href=https://colab.research.google.com/notebooks/data_table.ipynb>data table notebook</a>'\n",
              "            + ' to learn more about interactive tables.';\n",
              "          element.innerHTML = '';\n",
              "          dataTable['output_type'] = 'display_data';\n",
              "          await google.colab.output.renderOutput(dataTable, element);\n",
              "          const docLink = document.createElement('div');\n",
              "          docLink.innerHTML = docLinkHtml;\n",
              "          element.appendChild(docLink);\n",
              "        }\n",
              "      </script>\n",
              "    </div>\n",
              "  </div>\n",
              "  "
            ],
            "text/plain": [
              "                                                   text  label\n",
              "0     it only had the potential to be a film that wa...    2.6\n",
              "1     but unfortunately its just an ugly wild violen...    0.2\n",
              "2                     that i got very little joy out of    0.8\n",
              "3                   in fact i got mostly pain out of it    0.2\n",
              "4      thats pretty heavily inferred in the opening ...    3.0\n",
              "...                                                 ...    ...\n",
              "2194                          oh my god a lot of action    3.2\n",
              "2195                                  there is sad part    1.8\n",
              "2196                                a lot of sad parts     2.5\n",
              "2197                   but it was really really awesome    5.2\n",
              "2198                            and its a really funny     4.8\n",
              "\n",
              "[2199 rows x 2 columns]"
            ]
          },
          "metadata": {},
          "execution_count": 62
        }
      ]
    },
    {
      "cell_type": "markdown",
      "source": [
        "## Construction de dataset texte"
      ],
      "metadata": {
        "id": "fa77r14T8c_j"
      }
    },
    {
      "cell_type": "code",
      "source": [
        "model = SentenceTransformer('paraphrase-multilingual-mpnet-base-v2')"
      ],
      "metadata": {
        "id": "7eWHmUjuFXgB"
      },
      "execution_count": null,
      "outputs": []
    },
    {
      "cell_type": "code",
      "source": [
        "embeddings = model.encode(list(df_text['text']), show_progress_bar=True)\n",
        "embeddings.shape"
      ],
      "metadata": {
        "colab": {
          "base_uri": "https://localhost:8080/",
          "referenced_widgets": [
            "f104348e04ab4ae6af3b569d9bf19696",
            "2299090f41454ee4a3a231b5657a1f34",
            "40daad9afa8147cdad692a87c1a21444",
            "816b0168ef2143ab994be5bb627ef3b5",
            "a19494333c3848a2b0cd799f3dd43705",
            "7c164a40ecb14df4807ffb3d944c99fd",
            "0cd2dee57947400f87b41a0fa87cea9a",
            "4af3eb3726344b3eb9e7958057f148d1",
            "535def4bb428464cb447ebfc67f443c6",
            "3439147981004a31ad9b1b6781d08d60",
            "6daa454e07004490abecac11e174d394"
          ]
        },
        "id": "TFJ3xHAOHy7F",
        "outputId": "985aaa11-4ff6-41dd-e66d-672414a55c46"
      },
      "execution_count": null,
      "outputs": [
        {
          "output_type": "display_data",
          "data": {
            "application/vnd.jupyter.widget-view+json": {
              "model_id": "f104348e04ab4ae6af3b569d9bf19696",
              "version_minor": 0,
              "version_major": 2
            },
            "text/plain": [
              "Batches:   0%|          | 0/69 [00:00<?, ?it/s]"
            ]
          },
          "metadata": {}
        },
        {
          "output_type": "execute_result",
          "data": {
            "text/plain": [
              "(2199, 768)"
            ]
          },
          "metadata": {},
          "execution_count": 64
        }
      ]
    },
    {
      "cell_type": "code",
      "source": [
        "features = embeddings "
      ],
      "metadata": {
        "id": "BQAP8J7WKh_u"
      },
      "execution_count": null,
      "outputs": []
    },
    {
      "cell_type": "markdown",
      "source": [
        "## Préparation de données"
      ],
      "metadata": {
        "id": "4xS9rTosJmmJ"
      }
    },
    {
      "cell_type": "code",
      "source": [
        "features_columns = df_text.columns\n",
        "target_column = 'label'\n",
        "#target = np.around(df_text[target_column].to_numpy().astype(np.float32)) + 3\n",
        "target = df_text[target_column].to_numpy().astype(np.float32)"
      ],
      "metadata": {
        "id": "BrXYXJ5ZKBBE"
      },
      "execution_count": null,
      "outputs": []
    },
    {
      "cell_type": "code",
      "source": [
        "X_train, X_test, y_train, y_test = train_test_split(features, target, test_size=0.33)\n",
        "X_valid = X_train[: 150]\n",
        "y_valid = y_train[: 150]\n",
        "X_train = X_train[150 :]\n",
        "y_train = y_train[150 :]\n",
        "print(\"train set shape : \", X_train.shape, y_train.shape)\n",
        "print(\"valid set shape : \",X_valid.shape, y_valid.shape)\n",
        "print(\"test set shape : \",X_test.shape, y_test.shape)"
      ],
      "metadata": {
        "colab": {
          "base_uri": "https://localhost:8080/"
        },
        "id": "YSZR2swLJpUe",
        "outputId": "ad8a74e2-b75a-4a99-faea-148c3ce56067"
      },
      "execution_count": null,
      "outputs": [
        {
          "output_type": "stream",
          "name": "stdout",
          "text": [
            "train set shape :  (1323, 768) (1323,)\n",
            "valid set shape :  (150, 768) (150,)\n",
            "test set shape :  (726, 768) (726,)\n"
          ]
        }
      ]
    },
    {
      "cell_type": "code",
      "source": [
        "#convert to tenser\n",
        "\n",
        "targets = np.unique(y_train)\n",
        "\n",
        "train_tensor_x = torch.Tensor(X_train)\n",
        "train_tensor_y = torch.Tensor(y_train)\n",
        "\n",
        "valid_tensor_x = torch.Tensor(X_valid)\n",
        "valid_tensor_y = torch.Tensor(y_valid)\n",
        "\n",
        "test_tensor_x = torch.Tensor(X_test)\n",
        "test_tensor_y = torch.Tensor(y_test)\n",
        " \n",
        "#create dataset and dataloader\n",
        "\n",
        "train_dataset = TensorDataset(train_tensor_x, train_tensor_y)\n",
        "valid_dataset = TensorDataset(valid_tensor_x, valid_tensor_y)\n",
        "test_dataset = TensorDataset(test_tensor_x, test_tensor_y)\n",
        "\n",
        "train_dataloader = DataLoader(train_dataset, batch_size=64, shuffle=True)\n",
        "valid_dataloader = DataLoader(valid_dataset, batch_size=16, shuffle=True)\n",
        "test_dataloader = DataLoader(test_dataset, batch_size=32, shuffle=True)"
      ],
      "metadata": {
        "id": "f1fyWVBmM80d"
      },
      "execution_count": null,
      "outputs": []
    },
    {
      "cell_type": "markdown",
      "source": [
        "## Modèles"
      ],
      "metadata": {
        "id": "bN2OVncbJWBY"
      }
    },
    {
      "cell_type": "markdown",
      "source": [
        "### Regression : Features"
      ],
      "metadata": {
        "id": "jccbQtoTHxh2"
      }
    },
    {
      "cell_type": "markdown",
      "source": [
        "MLPRegressor"
      ],
      "metadata": {
        "id": "9cfIqImM2w_l"
      }
    },
    {
      "cell_type": "code",
      "source": [
        "regr = MLPRegressor(random_state=1, max_iter=500).fit(X_train, y_train)\n",
        "y_pred = regr.predict(X_test)"
      ],
      "metadata": {
        "id": "bqVw6RUZ2zKm"
      },
      "execution_count": null,
      "outputs": []
    },
    {
      "cell_type": "code",
      "source": [
        "mae = mean_absolute_error(y_test, y_pred)\n",
        "print(\"MAE: %f\" % (mae))\n",
        "print(np.mean(1*np.not_equal(np.around(y_pred), np.around(y_test))))"
      ],
      "metadata": {
        "colab": {
          "base_uri": "https://localhost:8080/"
        },
        "id": "omPIIg193Q39",
        "outputId": "16784043-f401-4da0-c8a1-34ac5e80dafc"
      },
      "execution_count": null,
      "outputs": [
        {
          "output_type": "stream",
          "name": "stdout",
          "text": [
            "MAE: 0.885835\n",
            "0.6294765840220385\n"
          ]
        }
      ]
    },
    {
      "cell_type": "markdown",
      "source": [
        "LinearRegression"
      ],
      "metadata": {
        "id": "8axw-8v77Zvo"
      }
    },
    {
      "cell_type": "code",
      "source": [
        "clf = LinearRegression()\n",
        "clf.fit(X_train,y_train)"
      ],
      "metadata": {
        "colab": {
          "base_uri": "https://localhost:8080/"
        },
        "id": "6Nnk-ysk4rNw",
        "outputId": "57278944-3250-4907-a67d-ddd6815fe75f"
      },
      "execution_count": null,
      "outputs": [
        {
          "output_type": "execute_result",
          "data": {
            "text/plain": [
              "LinearRegression()"
            ]
          },
          "metadata": {},
          "execution_count": 71
        }
      ]
    },
    {
      "cell_type": "code",
      "source": [
        "y_pred = clf.predict(X_test)\n",
        "mae = mean_absolute_error(y_test, y_pred)\n",
        "print(\"MAE: %f\" % (mae))\n",
        "print(np.mean(1*np.not_equal(np.around(y_pred), np.around(y_test))))"
      ],
      "metadata": {
        "colab": {
          "base_uri": "https://localhost:8080/"
        },
        "id": "DMSWJQQI6TfM",
        "outputId": "e8ef887d-bc6e-497f-bbd5-fe3980c2ca02"
      },
      "execution_count": null,
      "outputs": [
        {
          "output_type": "stream",
          "name": "stdout",
          "text": [
            "MAE: 1.019468\n",
            "0.7176308539944903\n"
          ]
        }
      ]
    },
    {
      "cell_type": "markdown",
      "source": [
        "XGBoost"
      ],
      "metadata": {
        "id": "W1_htGJm8j89"
      }
    },
    {
      "cell_type": "code",
      "source": [
        "data_dmatrix = xgb.DMatrix(data=X_train,label=y_train)\n",
        "xg_reg = xgb.XGBRegressor(objective ='reg:linear', colsample_bytree = 0.3, learning_rate = 0.1,\n",
        "                max_depth = 5, alpha = 10, n_estimators = 10)"
      ],
      "metadata": {
        "id": "GVwrCZAf8naZ"
      },
      "execution_count": null,
      "outputs": []
    },
    {
      "cell_type": "code",
      "source": [
        "xg_reg.fit(X_train,y_train)\n",
        "y_pred = xg_reg.predict(X_test)\n",
        "mae = mean_absolute_error(y_test, y_pred)\n",
        "print(\"MAE: %f\" % (mae))\n",
        "print(np.mean(1*np.not_equal(np.around(y_pred), np.around(y_test))))"
      ],
      "metadata": {
        "colab": {
          "base_uri": "https://localhost:8080/"
        },
        "id": "IVOWxmDcAVDQ",
        "outputId": "82d93a05-557c-4488-b948-a1dcfcec816e"
      },
      "execution_count": null,
      "outputs": [
        {
          "output_type": "stream",
          "name": "stdout",
          "text": [
            "[13:53:08] WARNING: /workspace/src/objective/regression_obj.cu:152: reg:linear is now deprecated in favor of reg:squarederror.\n",
            "MAE: 1.240734\n",
            "0.7575757575757576\n"
          ]
        }
      ]
    },
    {
      "cell_type": "markdown",
      "source": [
        "MLP"
      ],
      "metadata": {
        "id": "V5FjbbblU7dm"
      }
    },
    {
      "cell_type": "code",
      "source": [
        "model = Sequential()\n",
        "model.add(Dense(250,input_shape=(768,)))\n",
        "model.add(Activation('relu'))\n",
        "model.add(Dense(10))\n",
        "model.add(Activation('relu'))\n",
        "model.add(Dense(1))\n",
        "model.add(Activation('relu'))\n",
        "model.summary()\n",
        "model.compile(loss='mean_squared_error',\n",
        "              optimizer='adam',\n",
        "              metrics=['mean_absolute_error'])\n",
        "\n",
        "\n",
        "#apprentissage\n",
        "model.fit(X_train, y_train, epochs = 5, batch_size = 32, validation_data=(X_valid, y_valid))"
      ],
      "metadata": {
        "colab": {
          "base_uri": "https://localhost:8080/"
        },
        "id": "m1qPJf4PUuQy",
        "outputId": "2f695540-2811-4efe-f1a8-f59515178bbc"
      },
      "execution_count": null,
      "outputs": [
        {
          "output_type": "stream",
          "name": "stdout",
          "text": [
            "Model: \"sequential_2\"\n",
            "_________________________________________________________________\n",
            " Layer (type)                Output Shape              Param #   \n",
            "=================================================================\n",
            " dense_6 (Dense)             (None, 250)               192250    \n",
            "                                                                 \n",
            " activation_6 (Activation)   (None, 250)               0         \n",
            "                                                                 \n",
            " dense_7 (Dense)             (None, 10)                2510      \n",
            "                                                                 \n",
            " activation_7 (Activation)   (None, 10)                0         \n",
            "                                                                 \n",
            " dense_8 (Dense)             (None, 1)                 11        \n",
            "                                                                 \n",
            " activation_8 (Activation)   (None, 1)                 0         \n",
            "                                                                 \n",
            "=================================================================\n",
            "Total params: 194,771\n",
            "Trainable params: 194,771\n",
            "Non-trainable params: 0\n",
            "_________________________________________________________________\n",
            "Epoch 1/5\n",
            "42/42 [==============================] - 1s 7ms/step - loss: 2.0357 - mean_absolute_error: 1.0829 - val_loss: 1.1267 - val_mean_absolute_error: 0.8182\n",
            "Epoch 2/5\n",
            "42/42 [==============================] - 0s 4ms/step - loss: 0.8575 - mean_absolute_error: 0.7113 - val_loss: 1.1274 - val_mean_absolute_error: 0.8044\n",
            "Epoch 3/5\n",
            "42/42 [==============================] - 0s 4ms/step - loss: 0.7527 - mean_absolute_error: 0.6644 - val_loss: 1.1705 - val_mean_absolute_error: 0.8275\n",
            "Epoch 4/5\n",
            "42/42 [==============================] - 0s 4ms/step - loss: 0.6796 - mean_absolute_error: 0.6237 - val_loss: 1.1095 - val_mean_absolute_error: 0.8077\n",
            "Epoch 5/5\n",
            "42/42 [==============================] - 0s 5ms/step - loss: 0.5967 - mean_absolute_error: 0.5908 - val_loss: 1.1829 - val_mean_absolute_error: 0.8189\n"
          ]
        },
        {
          "output_type": "execute_result",
          "data": {
            "text/plain": [
              "<keras.callbacks.History at 0x7f96ddd3ea50>"
            ]
          },
          "metadata": {},
          "execution_count": 75
        }
      ]
    },
    {
      "cell_type": "code",
      "source": [
        "y_pred = model.predict(X_test)\n",
        "mae = mean_absolute_error(y_test, y_pred)\n",
        "print(\"MAE: %f\" % (mae))\n",
        "print(np.mean(1*np.not_equal(np.around(y_pred), np.around(y_test))))"
      ],
      "metadata": {
        "colab": {
          "base_uri": "https://localhost:8080/"
        },
        "id": "Vtyos-rxWl-5",
        "outputId": "32936dbd-3b52-471e-ec8c-b09cfe4bd213"
      },
      "execution_count": null,
      "outputs": [
        {
          "output_type": "stream",
          "name": "stdout",
          "text": [
            "MAE: 0.739603\n",
            "0.8237104326510788\n"
          ]
        }
      ]
    },
    {
      "cell_type": "markdown",
      "source": [
        "Récupère l'index 473, ligne qui a le plus mauvais résultat pour la concaténation"
      ],
      "metadata": {
        "id": "6QepxL32bObb"
      }
    },
    {
      "cell_type": "code",
      "source": [
        "y_pred = model.predict(embeddings)\n",
        "abs_er = abs(y_pred- df_text['label'].to_numpy().astype(float))\n",
        "\n",
        "i=473\n",
        "print(y_pred[i],df_text['label'][i])\n"
      ],
      "metadata": {
        "colab": {
          "base_uri": "https://localhost:8080/"
        },
        "id": "QAkiMCRDF34F",
        "outputId": "4d5e5afe-eca0-476b-8e6f-f2e93c70091e"
      },
      "execution_count": null,
      "outputs": [
        {
          "output_type": "stream",
          "name": "stdout",
          "text": [
            "[1.9078732] 0.3999999999999999\n"
          ]
        }
      ]
    },
    {
      "cell_type": "markdown",
      "source": [
        "### Classification : Features"
      ],
      "metadata": {
        "id": "NsuTUibHH1KK"
      }
    },
    {
      "cell_type": "markdown",
      "source": [
        "RF"
      ],
      "metadata": {
        "id": "PDbsnJuLPqa2"
      }
    },
    {
      "cell_type": "code",
      "source": [
        "rf = RandomForestRegressor(max_depth=10,min_samples_split=2).fit(X_train, y_train)\n",
        "y_pred = rf.predict(X_test)"
      ],
      "metadata": {
        "id": "k_963OB_RSgU"
      },
      "execution_count": null,
      "outputs": []
    },
    {
      "cell_type": "code",
      "source": [
        "mae = mean_absolute_error(y_test, y_pred)\n",
        "print(\"MAE: %f\" % (mae))\n",
        "print(np.mean(1*np.not_equal(np.around(y_pred), np.around(y_test))))"
      ],
      "metadata": {
        "colab": {
          "base_uri": "https://localhost:8080/"
        },
        "id": "2V7DmBCpRlnp",
        "outputId": "ca61afbf-422c-4bfc-dc02-8a998906a02e"
      },
      "execution_count": null,
      "outputs": [
        {
          "output_type": "stream",
          "name": "stdout",
          "text": [
            "MAE: 0.785434\n",
            "0.6225895316804407\n"
          ]
        }
      ]
    },
    {
      "cell_type": "markdown",
      "source": [
        "Decision Tree"
      ],
      "metadata": {
        "id": "iodvvLd_Prcs"
      }
    },
    {
      "cell_type": "code",
      "source": [
        "my_tree = tree.DecisionTreeClassifier().fit(X_train, y_train)\n",
        "y_pred = my_tree.predict(X_test)"
      ],
      "metadata": {
        "id": "G4Szo7eZRJfa",
        "colab": {
          "base_uri": "https://localhost:8080/",
          "height": 328
        },
        "outputId": "bba6c98a-abb1-4991-cea1-3aa8191aa43f"
      },
      "execution_count": null,
      "outputs": [
        {
          "output_type": "error",
          "ename": "ValueError",
          "evalue": "ignored",
          "traceback": [
            "\u001b[0;31m---------------------------------------------------------------------------\u001b[0m",
            "\u001b[0;31mValueError\u001b[0m                                Traceback (most recent call last)",
            "\u001b[0;32m<ipython-input-36-084beae40731>\u001b[0m in \u001b[0;36m<module>\u001b[0;34m()\u001b[0m\n\u001b[0;32m----> 1\u001b[0;31m \u001b[0mmy_tree\u001b[0m \u001b[0;34m=\u001b[0m \u001b[0mtree\u001b[0m\u001b[0;34m.\u001b[0m\u001b[0mDecisionTreeClassifier\u001b[0m\u001b[0;34m(\u001b[0m\u001b[0;34m)\u001b[0m\u001b[0;34m.\u001b[0m\u001b[0mfit\u001b[0m\u001b[0;34m(\u001b[0m\u001b[0mX_train\u001b[0m\u001b[0;34m,\u001b[0m \u001b[0my_train\u001b[0m\u001b[0;34m)\u001b[0m\u001b[0;34m\u001b[0m\u001b[0;34m\u001b[0m\u001b[0m\n\u001b[0m\u001b[1;32m      2\u001b[0m \u001b[0my_pred\u001b[0m \u001b[0;34m=\u001b[0m \u001b[0mmy_tree\u001b[0m\u001b[0;34m.\u001b[0m\u001b[0mpredict\u001b[0m\u001b[0;34m(\u001b[0m\u001b[0mX_test\u001b[0m\u001b[0;34m)\u001b[0m\u001b[0;34m\u001b[0m\u001b[0;34m\u001b[0m\u001b[0m\n",
            "\u001b[0;32m/usr/local/lib/python3.7/dist-packages/sklearn/tree/_classes.py\u001b[0m in \u001b[0;36mfit\u001b[0;34m(self, X, y, sample_weight, check_input, X_idx_sorted)\u001b[0m\n\u001b[1;32m    940\u001b[0m             \u001b[0msample_weight\u001b[0m\u001b[0;34m=\u001b[0m\u001b[0msample_weight\u001b[0m\u001b[0;34m,\u001b[0m\u001b[0;34m\u001b[0m\u001b[0;34m\u001b[0m\u001b[0m\n\u001b[1;32m    941\u001b[0m             \u001b[0mcheck_input\u001b[0m\u001b[0;34m=\u001b[0m\u001b[0mcheck_input\u001b[0m\u001b[0;34m,\u001b[0m\u001b[0;34m\u001b[0m\u001b[0;34m\u001b[0m\u001b[0m\n\u001b[0;32m--> 942\u001b[0;31m             \u001b[0mX_idx_sorted\u001b[0m\u001b[0;34m=\u001b[0m\u001b[0mX_idx_sorted\u001b[0m\u001b[0;34m,\u001b[0m\u001b[0;34m\u001b[0m\u001b[0;34m\u001b[0m\u001b[0m\n\u001b[0m\u001b[1;32m    943\u001b[0m         )\n\u001b[1;32m    944\u001b[0m         \u001b[0;32mreturn\u001b[0m \u001b[0mself\u001b[0m\u001b[0;34m\u001b[0m\u001b[0;34m\u001b[0m\u001b[0m\n",
            "\u001b[0;32m/usr/local/lib/python3.7/dist-packages/sklearn/tree/_classes.py\u001b[0m in \u001b[0;36mfit\u001b[0;34m(self, X, y, sample_weight, check_input, X_idx_sorted)\u001b[0m\n\u001b[1;32m    201\u001b[0m \u001b[0;34m\u001b[0m\u001b[0m\n\u001b[1;32m    202\u001b[0m         \u001b[0;32mif\u001b[0m \u001b[0mis_classification\u001b[0m\u001b[0;34m:\u001b[0m\u001b[0;34m\u001b[0m\u001b[0;34m\u001b[0m\u001b[0m\n\u001b[0;32m--> 203\u001b[0;31m             \u001b[0mcheck_classification_targets\u001b[0m\u001b[0;34m(\u001b[0m\u001b[0my\u001b[0m\u001b[0;34m)\u001b[0m\u001b[0;34m\u001b[0m\u001b[0;34m\u001b[0m\u001b[0m\n\u001b[0m\u001b[1;32m    204\u001b[0m             \u001b[0my\u001b[0m \u001b[0;34m=\u001b[0m \u001b[0mnp\u001b[0m\u001b[0;34m.\u001b[0m\u001b[0mcopy\u001b[0m\u001b[0;34m(\u001b[0m\u001b[0my\u001b[0m\u001b[0;34m)\u001b[0m\u001b[0;34m\u001b[0m\u001b[0;34m\u001b[0m\u001b[0m\n\u001b[1;32m    205\u001b[0m \u001b[0;34m\u001b[0m\u001b[0m\n",
            "\u001b[0;32m/usr/local/lib/python3.7/dist-packages/sklearn/utils/multiclass.py\u001b[0m in \u001b[0;36mcheck_classification_targets\u001b[0;34m(y)\u001b[0m\n\u001b[1;32m    195\u001b[0m         \u001b[0;34m\"multilabel-sequences\"\u001b[0m\u001b[0;34m,\u001b[0m\u001b[0;34m\u001b[0m\u001b[0;34m\u001b[0m\u001b[0m\n\u001b[1;32m    196\u001b[0m     ]:\n\u001b[0;32m--> 197\u001b[0;31m         \u001b[0;32mraise\u001b[0m \u001b[0mValueError\u001b[0m\u001b[0;34m(\u001b[0m\u001b[0;34m\"Unknown label type: %r\"\u001b[0m \u001b[0;34m%\u001b[0m \u001b[0my_type\u001b[0m\u001b[0;34m)\u001b[0m\u001b[0;34m\u001b[0m\u001b[0;34m\u001b[0m\u001b[0m\n\u001b[0m\u001b[1;32m    198\u001b[0m \u001b[0;34m\u001b[0m\u001b[0m\n\u001b[1;32m    199\u001b[0m \u001b[0;34m\u001b[0m\u001b[0m\n",
            "\u001b[0;31mValueError\u001b[0m: Unknown label type: 'continuous'"
          ]
        }
      ]
    },
    {
      "cell_type": "code",
      "source": [
        "mae = mean_absolute_error(y_test, y_pred)\n",
        "print(\"MAE: %f\" % (mae))\n",
        "print(np.mean(1*np.not_equal(np.around(y_pred), np.around(y_test))))"
      ],
      "metadata": {
        "id": "iOr9zPS9R1il"
      },
      "execution_count": null,
      "outputs": []
    },
    {
      "cell_type": "markdown",
      "source": [
        "SVC"
      ],
      "metadata": {
        "id": "LS4bJT9SYJw0"
      }
    },
    {
      "cell_type": "code",
      "source": [
        "svc = svm.SVC(kernel='linear', C=1).fit(X_train, y_train)\n",
        "y_pred = svc.predict(X_test)"
      ],
      "metadata": {
        "id": "4sc00tetROF7"
      },
      "execution_count": null,
      "outputs": []
    },
    {
      "cell_type": "code",
      "source": [
        "mae = mean_absolute_error(y_test, y_pred)\n",
        "print(\"MAE: %f\" % (mae))\n",
        "print(np.mean(1*np.not_equal(np.around(y_pred), np.around(y_test))))"
      ],
      "metadata": {
        "id": "OCje_SvER2WG"
      },
      "execution_count": null,
      "outputs": []
    },
    {
      "cell_type": "markdown",
      "source": [
        "ANN : Classification"
      ],
      "metadata": {
        "id": "ID4pbYxR2uU7"
      }
    },
    {
      "cell_type": "code",
      "source": [
        "D_in = 768 # input dimension : nb de features\n",
        "D_out = 7     # output dimension : nb de classes\n",
        "\n",
        "# Numbers of neurons for the two layers\n",
        "H = 1000\n",
        "H2 = 500\n",
        "\n",
        "class MyModel(torch.nn.Module):\n",
        "  def __init__(self, D_in, H, H2, D_out):\n",
        "    super(MyModel, self).__init__()\n",
        "    #self.flatten = torch.nn.Flatten()\n",
        "    self.lin1 = torch.nn.Linear(D_in, H) #transformation linéaire\n",
        "    self.lin2 = torch.nn.Linear(H, H2)\n",
        "    self.lin3 = torch.nn.Linear(H2, D_out)\n",
        "\n",
        "  def forward(self, x):\n",
        "    \"\"\"\n",
        "      x : [batch_size, 1, height, width ]\n",
        "    \"\"\"\n",
        "    #x = self.flatten(x) # [batch_size, 1 * width * height]\n",
        "    x = F.relu( self.lin1(x) ) # application de fonction d'activation\n",
        "    x = F.relu( self.lin2(x) )\n",
        "    x = self.lin3(x)\n",
        "\n",
        "    return x\n",
        "model = MyModel(D_in, H, H2, D_out)"
      ],
      "metadata": {
        "id": "dQkiTk-xDCOV"
      },
      "execution_count": null,
      "outputs": []
    },
    {
      "cell_type": "code",
      "source": [
        "def train_optim(model, epochs, log_frequency, device):\n",
        "\n",
        "  model.to(device) # we make sure the model is on the proper device\n",
        "\n",
        "  # Multiclass classification setting, we use cross-entropy\n",
        "  # note that this implementation requires the logits as input \n",
        "  # logits: values prior softmax transformation \n",
        "  loss_fn = torch.nn.CrossEntropyLoss(reduction='mean') #comporte le softmax\n",
        "\n",
        "  learning_rate = 1e-4 # hyperparamètre, le pas de mise à jour de paramètres du gradient\n",
        "\n",
        "  optimizer = torch.optim.Adam(model.parameters(), lr=learning_rate) # mettre à jour les paramètres du modèle\n",
        "  \n",
        "  for t in range(epochs):\n",
        "\n",
        "      model.train() # we specify that we are training the model\n",
        "\n",
        "      # At each epoch, the training set will be processed as a set of batches\n",
        "      for batch_id,  batch in enumerate(train_dataloader) : \n",
        "\n",
        "        inputs, labels  = batch\n",
        "\n",
        "        labels = labels.type(torch.LongTensor)\n",
        "\n",
        "        # we put the data on the same device\n",
        "        inputs, labels = inputs.to(device), labels.to(device)  \n",
        "        \n",
        "        y_pred = model(inputs) # forward pass output=logits\n",
        "\n",
        "        loss = loss_fn(y_pred, labels) # pourquoi cross entroy car elle est différenciée, les prédictions et les attendus\n",
        "\n",
        "        if batch_id % log_frequency == 0:\n",
        "            print(\"epoch: {:03d}, batch: {:03d}, loss: {:.3f} \".format(t+1, batch_id+1, loss.item()))\n",
        "\n",
        "        optimizer.zero_grad() # clear the gradient before backward\n",
        "        loss.backward()       # update the gradient\n",
        "\n",
        "        optimizer.step() # update the model parameters using the gradient, restocker les nouvelles valeurs de gradient\n",
        "\n",
        "      # Model evaluation after each step/epoch computing the accuracy\n",
        "      model.eval() #exploitation du modèle sur le val set\n",
        "      total = 0\n",
        "      correct = 0 #accuracy\n",
        "      for batch_id, batch in enumerate(valid_dataloader):\n",
        "        inputs , labels = batch\n",
        "        inputs , labels = inputs.to(device), labels.to(device)\n",
        "        y_pred = model(inputs) # forward computes the logits\n",
        "        sf_y_pred = torch.nn.Softmax(dim=1)(y_pred) # softmax to obtain the probability distribution\n",
        "        _, predicted = torch.max(sf_y_pred , 1)     # decision rule, we select the max\n",
        "        \n",
        "        total += labels.size(0)\n",
        "        correct += (predicted == labels).sum().item()\n",
        "      \n",
        "      print(\"[validation] accuracy: {:.3f}%\\n\".format(100 * correct / total))"
      ],
      "metadata": {
        "id": "BXKNNBk_FXSr"
      },
      "execution_count": null,
      "outputs": []
    },
    {
      "cell_type": "code",
      "source": [
        "device = torch.device('cuda:0' if torch.cuda.is_available() else 'cpu')\n",
        "train_optim(model, epochs=5, log_frequency=60, device=device)"
      ],
      "metadata": {
        "colab": {
          "base_uri": "https://localhost:8080/",
          "height": 183
        },
        "id": "zEbDX_zcFc12",
        "outputId": "d8790058-5917-4caa-cc52-5bbb6401c042"
      },
      "execution_count": null,
      "outputs": [
        {
          "output_type": "error",
          "ename": "NameError",
          "evalue": "ignored",
          "traceback": [
            "\u001b[0;31m---------------------------------------------------------------------------\u001b[0m",
            "\u001b[0;31mNameError\u001b[0m                                 Traceback (most recent call last)",
            "\u001b[0;32m<ipython-input-38-33a7662527d0>\u001b[0m in \u001b[0;36m<module>\u001b[0;34m()\u001b[0m\n\u001b[1;32m      1\u001b[0m \u001b[0mdevice\u001b[0m \u001b[0;34m=\u001b[0m \u001b[0mtorch\u001b[0m\u001b[0;34m.\u001b[0m\u001b[0mdevice\u001b[0m\u001b[0;34m(\u001b[0m\u001b[0;34m'cuda:0'\u001b[0m \u001b[0;32mif\u001b[0m \u001b[0mtorch\u001b[0m\u001b[0;34m.\u001b[0m\u001b[0mcuda\u001b[0m\u001b[0;34m.\u001b[0m\u001b[0mis_available\u001b[0m\u001b[0;34m(\u001b[0m\u001b[0;34m)\u001b[0m \u001b[0;32melse\u001b[0m \u001b[0;34m'cpu'\u001b[0m\u001b[0;34m)\u001b[0m\u001b[0;34m\u001b[0m\u001b[0;34m\u001b[0m\u001b[0m\n\u001b[0;32m----> 2\u001b[0;31m \u001b[0mtrain_optim\u001b[0m\u001b[0;34m(\u001b[0m\u001b[0mmodel\u001b[0m\u001b[0;34m,\u001b[0m \u001b[0mepochs\u001b[0m\u001b[0;34m=\u001b[0m\u001b[0;36m5\u001b[0m\u001b[0;34m,\u001b[0m \u001b[0mlog_frequency\u001b[0m\u001b[0;34m=\u001b[0m\u001b[0;36m60\u001b[0m\u001b[0;34m,\u001b[0m \u001b[0mdevice\u001b[0m\u001b[0;34m=\u001b[0m\u001b[0mdevice\u001b[0m\u001b[0;34m)\u001b[0m\u001b[0;34m\u001b[0m\u001b[0;34m\u001b[0m\u001b[0m\n\u001b[0m",
            "\u001b[0;31mNameError\u001b[0m: name 'train_optim' is not defined"
          ]
        }
      ]
    },
    {
      "cell_type": "code",
      "source": [
        "y_pred = model(test_tensor_x)\n",
        "sf_y_pred = torch.nn.Softmax(dim=1)(y_pred) # softmax to obtain the probability distribution\n",
        "_, predicted = torch.max(sf_y_pred , 1)\n",
        "print(np.sqrt(mean_absolute_error(y_test, predicted)))"
      ],
      "metadata": {
        "id": "_jdjojYWi5mp"
      },
      "execution_count": null,
      "outputs": []
    },
    {
      "cell_type": "code",
      "source": [
        "print(predicted)"
      ],
      "metadata": {
        "id": "RkOJQjjpSSBp"
      },
      "execution_count": null,
      "outputs": []
    },
    {
      "cell_type": "code",
      "source": [
        "size_dataset = 2199\n",
        "# Adding the size of the input layer\n",
        "inputs = Input(shape=(D_in,))\n",
        "\n",
        "# Adding the first hidden layer\n",
        "x = Dense(H, activation='relu')(inputs)\n",
        "# Adding dropout to prevent overfitting\n",
        "x = Dropout(0.2) (x)\n",
        "\n",
        "# Adding the second hidden layer\n",
        "x = Dense(H, activation='relu')(x)\n",
        "# Adding dropout to prevent overfitting\n",
        "x = Dropout(0.2) (x)\n",
        "\n",
        "# Adding the output layer\n",
        "predictions = Dense(1, activation='softmax')(x)\n",
        "\n",
        "# Creating a model that includes\n",
        "# the Input layer and three Dense layers\n",
        "model = Model(inputs=inputs, outputs=predictions)\n",
        "model.compile(optimizer='adam',\n",
        "              loss='binary_crossentropy',\n",
        "              metrics=['accuracy'])\n",
        "\n",
        "# Showing the summary\n",
        "model.summary()\n",
        "\n",
        "# Fitting the ANN to the Training set\n",
        "model.fit(X_train, y_train, epochs=5, batch_size=32, validation_data=(X_valid, y_valid))\n",
        "\n",
        "print(\"\\nEvaluation\")\n",
        "model.evaluate(X_test, y_test)"
      ],
      "metadata": {
        "id": "UYlmR0CBSEGM"
      },
      "execution_count": null,
      "outputs": []
    }
  ]
}